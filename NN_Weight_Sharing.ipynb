{
  "nbformat": 4,
  "nbformat_minor": 0,
  "metadata": {
    "colab": {
      "name": "NN_Weight_Sharing.ipynb",
      "provenance": [],
      "collapsed_sections": [],
      "toc_visible": true,
      "include_colab_link": true
    },
    "kernelspec": {
      "name": "python3",
      "display_name": "Python 3"
    }
  },
  "cells": [
    {
      "cell_type": "markdown",
      "metadata": {
        "id": "view-in-github",
        "colab_type": "text"
      },
      "source": [
        "<a href=\"https://colab.research.google.com/github/matthiaszeller/dl-project/blob/main/NN_Weight_Sharing.ipynb\" target=\"_parent\"><img src=\"https://colab.research.google.com/assets/colab-badge.svg\" alt=\"Open In Colab\"/></a>"
      ]
    },
    {
      "cell_type": "code",
      "metadata": {
        "id": "Mv25aJUxCfyi"
      },
      "source": [
        "import torch\r\n",
        "from torchvision import datasets\r\n",
        "import matplotlib.pyplot as plt\r\n",
        "from torch.utils.data import TensorDataset, DataLoader\r\n",
        "\r\n",
        "import torch.nn as nn\r\n",
        "import torch.nn.functional as F\r\n",
        "import torch.optim as optim\r\n",
        "\r\n",
        "import os"
      ],
      "execution_count": null,
      "outputs": []
    },
    {
      "cell_type": "markdown",
      "metadata": {
        "id": "jAzBfBHS0yjp"
      },
      "source": [
        "# dataset build"
      ]
    },
    {
      "cell_type": "code",
      "metadata": {
        "colab": {
          "base_uri": "https://localhost:8080/"
        },
        "id": "nsfGSYY9QaKA",
        "outputId": "0b3a06c4-ea9f-492c-ef53-c0ac90e10aa1"
      },
      "source": [
        "!wget www.di.ens.fr/~lelarge/MNIST.tar.gz"
      ],
      "execution_count": null,
      "outputs": [
        {
          "output_type": "stream",
          "text": [
            "--2021-03-08 17:09:25--  http://www.di.ens.fr/~lelarge/MNIST.tar.gz\n",
            "Resolving www.di.ens.fr (www.di.ens.fr)... 129.199.99.14\n",
            "Connecting to www.di.ens.fr (www.di.ens.fr)|129.199.99.14|:80... connected.\n",
            "HTTP request sent, awaiting response... 302 Found\n",
            "Location: https://www.di.ens.fr/~lelarge/MNIST.tar.gz [following]\n",
            "--2021-03-08 17:09:25--  https://www.di.ens.fr/~lelarge/MNIST.tar.gz\n",
            "Connecting to www.di.ens.fr (www.di.ens.fr)|129.199.99.14|:443... connected.\n",
            "HTTP request sent, awaiting response... 200 OK\n",
            "Length: unspecified [application/x-gzip]\n",
            "Saving to: ‘MNIST.tar.gz’\n",
            "\n",
            "MNIST.tar.gz            [             <=>    ]  33.20M  11.0MB/s    in 3.0s    \n",
            "\n",
            "2021-03-08 17:09:29 (11.0 MB/s) - ‘MNIST.tar.gz’ saved [34813078]\n",
            "\n"
          ],
          "name": "stdout"
        }
      ]
    },
    {
      "cell_type": "code",
      "metadata": {
        "id": "6_TIp4ACQhpr"
      },
      "source": [
        "!tar -xf MNIST.tar.gz\r\n"
      ],
      "execution_count": null,
      "outputs": []
    },
    {
      "cell_type": "code",
      "metadata": {
        "colab": {
          "base_uri": "https://localhost:8080/"
        },
        "id": "adfc8yshRCUe",
        "outputId": "f6e7bbe9-fe5d-4bce-accc-80fa95f145a2"
      },
      "source": [
        "!ls MNIST/processed/"
      ],
      "execution_count": null,
      "outputs": [
        {
          "output_type": "stream",
          "text": [
            "test.pt  training.pt\n"
          ],
          "name": "stdout"
        }
      ]
    },
    {
      "cell_type": "code",
      "metadata": {
        "id": "e6oc9g2JyCEw"
      },
      "source": [
        "######################################################################\r\n",
        "\r\n",
        "def mnist_to_pairs(nb, input, target):\r\n",
        "    input = torch.functional.F.avg_pool2d(input, kernel_size = 2)\r\n",
        "    a = torch.randperm(input.size(0))\r\n",
        "    a = a[:2 * nb].view(nb, 2)\r\n",
        "    input = torch.cat((input[a[:, 0]], input[a[:, 1]]), 1)\r\n",
        "    classes = target[a]\r\n",
        "    target = (classes[:, 0] <= classes[:, 1]).long()\r\n",
        "    return input, target, classes\r\n",
        "\r\n",
        "######################################################################\r\n",
        "\r\n",
        "def generate_pair_sets(nb):\r\n",
        "\r\n",
        "    train_set = datasets.MNIST('', train = True, download = True)\r\n",
        "    train_input = train_set.data.view(-1, 1, 28, 28).float()\r\n",
        "    train_target = train_set.targets\r\n",
        "\r\n",
        "    test_set = datasets.MNIST('', train = False, download = True)\r\n",
        "    test_input = test_set.data.view(-1, 1, 28, 28).float()\r\n",
        "    test_target = test_set.targets\r\n",
        "\r\n",
        "    return mnist_to_pairs(nb, train_input, train_target) + \\\r\n",
        "           mnist_to_pairs(nb, test_input, test_target)\r\n",
        "\r\n",
        "######################################################################"
      ],
      "execution_count": null,
      "outputs": []
    },
    {
      "cell_type": "code",
      "metadata": {
        "id": "av161kLTFpWj"
      },
      "source": [
        "train_input, train_target, train_classes, test_input, test_target, test_classes = generate_pair_sets(1000)"
      ],
      "execution_count": null,
      "outputs": []
    },
    {
      "cell_type": "code",
      "metadata": {
        "colab": {
          "base_uri": "https://localhost:8080/"
        },
        "id": "24QjPQDTF1gl",
        "outputId": "bdc4f188-a7db-4451-c853-9a1c6f6615f9"
      },
      "source": [
        "train_classes"
      ],
      "execution_count": null,
      "outputs": [
        {
          "output_type": "execute_result",
          "data": {
            "text/plain": [
              "tensor([[0, 3],\n",
              "        [2, 5],\n",
              "        [5, 9],\n",
              "        ...,\n",
              "        [3, 5],\n",
              "        [6, 5],\n",
              "        [9, 5]])"
            ]
          },
          "metadata": {
            "tags": []
          },
          "execution_count": 8
        }
      ]
    },
    {
      "cell_type": "code",
      "metadata": {
        "colab": {
          "base_uri": "https://localhost:8080/",
          "height": 530
        },
        "id": "XGi49cC5F1T3",
        "outputId": "0cce920c-86b4-4f5c-8096-4a5bece1396f"
      },
      "source": [
        "plt.imshow( train_input[0][0].numpy() ) \r\n",
        "plt.show()\r\n",
        "plt.imshow( train_input[0][1].numpy() ) \r\n",
        "plt.show()\r\n",
        "print(f'train shape : {train_input.shape}')"
      ],
      "execution_count": null,
      "outputs": [
        {
          "output_type": "display_data",
          "data": {
            "image/png": "[encoded data removed]",
            "text/plain": [
              "<Figure size 432x288 with 1 Axes>"
            ]
          },
          "metadata": {
            "tags": [],
            "needs_background": "light"
          }
        },
        {
          "output_type": "display_data",
          "data": {
            "image/png": "[encoded data removed]",
            "text/plain": [
              "<Figure size 432x288 with 1 Axes>"
            ]
          },
          "metadata": {
            "tags": [],
            "needs_background": "light"
          }
        },
        {
          "output_type": "stream",
          "text": [
            "train shape : torch.Size([1000, 2, 14, 14])\n"
          ],
          "name": "stdout"
        }
      ]
    },
    {
      "cell_type": "code",
      "metadata": {
        "id": "ImsRSpztHZ_Z"
      },
      "source": [
        "# Divide datasets in batchs\r\n",
        "# train_input     : N x 2 x 14 x 14 Images\r\n",
        "# train_target    : N               Class to predict e {0,1}\r\n",
        "# train_classes   : N x 2           Classes of the two digits e {0...9}\r\n",
        "\r\n",
        "batch_size = 100\r\n",
        "train_dataset = TensorDataset(train_input, train_target, train_classes)\r\n",
        "train_dataloader = DataLoader(train_dataset, batch_size=batch_size)\r\n",
        "\r\n",
        "test_dataset = TensorDataset(test_input,test_target, test_classes)\r\n",
        "test_dataloader = DataLoader(test_dataset, batch_size=batch_size)\r\n"
      ],
      "execution_count": null,
      "outputs": []
    },
    {
      "cell_type": "code",
      "metadata": {
        "colab": {
          "base_uri": "https://localhost:8080/"
        },
        "id": "7waMxKoqHaCF",
        "outputId": "4c427a61-6416-48ba-c5f7-0cd90caf7dba"
      },
      "source": [
        "for el in train_dataloader:\r\n",
        "  # image , target, classes\r\n",
        "  print(el[0].shape, el[1].shape, el[2].shape)\r\n",
        "  break"
      ],
      "execution_count": null,
      "outputs": [
        {
          "output_type": "stream",
          "text": [
            "torch.Size([100, 2, 14, 14]) torch.Size([100]) torch.Size([100, 2])\n"
          ],
          "name": "stdout"
        }
      ]
    },
    {
      "cell_type": "markdown",
      "metadata": {
        "id": "KA3Ui4BnShQu"
      },
      "source": [
        "# Train tools"
      ]
    },
    {
      "cell_type": "code",
      "metadata": {
        "id": "i54w5hBmHaES"
      },
      "source": [
        "def train_epoch(network_ , optimizer_ , criterion = F.binary_cross_entropy ):\r\n",
        "  loss_tot = []\r\n",
        "  acc_tot = []\r\n",
        "  network_.train()\r\n",
        "  for batch_idx, (data, target , classes ) in enumerate(train_dataloader):\r\n",
        "    optimizer_.zero_grad()\r\n",
        "    output = network_(data).flatten()\r\n",
        "    loss = criterion(output, target.to(torch.float32))\r\n",
        "    loss.backward()\r\n",
        "    optimizer_.step()\r\n",
        "\r\n",
        "    loss_tot.append(loss.item())\r\n",
        "    acc_tot.append( (target == torch.round(output) ).sum().item() )\r\n",
        "  \r\n",
        "  return torch.FloatTensor(loss_tot).mean().item() , torch.FloatTensor(acc_tot).mean().item()/100.0"
      ],
      "execution_count": null,
      "outputs": []
    },
    {
      "cell_type": "code",
      "metadata": {
        "id": "xe7whYlPQoLi"
      },
      "source": [
        "def test(network_ , criterion_ = F.binary_cross_entropy):\r\n",
        "  network_.eval()\r\n",
        "  test_loss = 0\r\n",
        "  acc = 0\r\n",
        "\r\n",
        "  with torch.no_grad():\r\n",
        "    for data, target , classes in test_dataloader:\r\n",
        "      output = network_(data)\r\n",
        "      test_loss += criterion_(output.flatten(), target.to(torch.float32)).item()\r\n",
        "      acc += (target == torch.round(output.flatten()) ).sum().item()\r\n",
        "\r\n",
        "  test_loss /= len(test_dataloader)\r\n",
        "  acc /= len(test_dataloader)\r\n",
        "  return test_loss , acc/100.0"
      ],
      "execution_count": null,
      "outputs": []
    },
    {
      "cell_type": "code",
      "metadata": {
        "id": "MHcA1vKgHaGi"
      },
      "source": [
        "def train(network_ , optimizer_ , criterion_ = F.binary_cross_entropy ,epoch_nb = 30,   debug_ = True):\r\n",
        "\r\n",
        "  tot_train_loss = []\r\n",
        "  tot_train_acc = []\r\n",
        "  tot_test_loss = []\r\n",
        "  tot_test_acc = []\r\n",
        "\r\n",
        "\r\n",
        "  for epoch in range(epoch_nb):\r\n",
        "    train_loss , train_acc = train_epoch(network_ , optimizer_ , criterion_)\r\n",
        "    test_loss , test_acc = test(network_ , criterion_)\r\n",
        "\r\n",
        "    tot_train_loss.append(train_loss)\r\n",
        "    tot_train_acc.append(train_acc)\r\n",
        "    tot_test_loss.append(test_loss)\r\n",
        "    tot_test_acc.append(test_acc)\r\n",
        "\r\n",
        "    if(debug_):\r\n",
        "      print(epoch, train_loss , train_acc , test_loss , test_acc)\r\n",
        "\r\n",
        "  return tot_train_loss , tot_train_acc , tot_test_loss , tot_test_acc"
      ],
      "execution_count": null,
      "outputs": []
    },
    {
      "cell_type": "markdown",
      "metadata": {
        "id": "gijjOt5gIefX"
      },
      "source": [
        "## Base CNN"
      ]
    },
    {
      "cell_type": "code",
      "metadata": {
        "colab": {
          "base_uri": "https://localhost:8080/"
        },
        "id": "lC11BqFfdcpn",
        "outputId": "3ff81101-aadf-4f8c-b259-da3aae169606"
      },
      "source": [
        "# train_input, train_target, train_classes, test_input, test_target, test_classes\r\n",
        "train_input.shape"
      ],
      "execution_count": null,
      "outputs": [
        {
          "output_type": "execute_result",
          "data": {
            "text/plain": [
              "torch.Size([1000, 2, 14, 14])"
            ]
          },
          "metadata": {
            "tags": []
          },
          "execution_count": 15
        }
      ]
    },
    {
      "cell_type": "code",
      "metadata": {
        "colab": {
          "base_uri": "https://localhost:8080/"
        },
        "id": "QISqsJCueC2P",
        "outputId": "712a50fe-18f3-4d3d-fa9a-de1c141368db"
      },
      "source": [
        "train_target.shape"
      ],
      "execution_count": null,
      "outputs": [
        {
          "output_type": "execute_result",
          "data": {
            "text/plain": [
              "torch.Size([1000])"
            ]
          },
          "metadata": {
            "tags": []
          },
          "execution_count": 16
        }
      ]
    },
    {
      "cell_type": "code",
      "metadata": {
        "id": "C5P9MHgWJemQ"
      },
      "source": [
        "class CNN(nn.Module):\r\n",
        "  def __init__(self):\r\n",
        "        super(CNN, self).__init__()\r\n",
        "        self.conv1 = nn.Conv2d(2, 20, kernel_size=3)\r\n",
        "        self.conv2 = nn.Conv2d(20, 200, kernel_size=3)\r\n",
        "        self.conv2_drop = nn.Dropout2d()\r\n",
        "        self.fc1 = nn.Linear(200*4*4, 100)\r\n",
        "        self.fc2 = nn.Linear(100, 100)\r\n",
        "\r\n",
        "  def forward(self, x):\r\n",
        "        x = F.relu(F.max_pool2d(self.conv1(x), kernel_size=2, stride=None, padding=0))\r\n",
        "        print(x.shape)\r\n",
        "        x = F.relu(F.max_pool2d(self.conv2_drop(self.conv2(x)), 1))\r\n",
        "        print(x.shape)\r\n",
        "        x = x.view( batch_size,-1)\r\n",
        "        x = F.relu(self.fc1(x))\r\n",
        "        x = F.dropout(x, training=self.training)\r\n",
        "        x = self.fc2(x) \r\n",
        "        return F.log_softmax(x)\r\n",
        "    \r\n",
        "network = CNN()\r\n",
        "optimizer = optim.SGD(network.parameters(), lr=0.01, momentum=0.5)"
      ],
      "execution_count": null,
      "outputs": []
    },
    {
      "cell_type": "code",
      "metadata": {
        "colab": {
          "base_uri": "https://localhost:8080/"
        },
        "id": "vG-RRTz_sUtM",
        "outputId": "923ceab6-3716-47fe-9850-8181bfaf0b46"
      },
      "source": [
        "next(enumerate(train_dataloader))[1][0].shape  # Image 100x2x14x14            train_input\r\n",
        "next(enumerate(train_dataloader))[1][1]  # 100x1 Binary Value e (1,0)           train_target\r\n",
        "next(enumerate(train_dataloader))[1][2].shape # pairs 100x2    e (0..9)x(0..9)  train_classes"
      ],
      "execution_count": null,
      "outputs": [
        {
          "output_type": "execute_result",
          "data": {
            "text/plain": [
              "torch.Size([100, 2])"
            ]
          },
          "metadata": {
            "tags": []
          },
          "execution_count": 18
        }
      ]
    },
    {
      "cell_type": "code",
      "metadata": {
        "colab": {
          "base_uri": "https://localhost:8080/"
        },
        "id": "SB1opCSgapgV",
        "outputId": "ab5b1b8c-d155-4544-a24b-9e7e764aec6a"
      },
      "source": [
        "train_input.shape"
      ],
      "execution_count": null,
      "outputs": [
        {
          "output_type": "execute_result",
          "data": {
            "text/plain": [
              "torch.Size([1000, 2, 14, 14])"
            ]
          },
          "metadata": {
            "tags": []
          },
          "execution_count": 90
        }
      ]
    },
    {
      "cell_type": "code",
      "metadata": {
        "colab": {
          "base_uri": "https://localhost:8080/"
        },
        "id": "BEiJcQ7o2VB8",
        "outputId": "4b05f19e-27ff-493c-8352-87806a7c07e6"
      },
      "source": [
        "def train(epoch):\r\n",
        "  network.train()\r\n",
        "  for batch_idx, (train_input, train_target, train_classes) in enumerate(train_dataloader):\r\n",
        "    optimizer.zero_grad()\r\n",
        "    output = network(train_input)\r\n",
        "    #print(train_target.shape)\r\n",
        "    #print(output.shape)\r\n",
        "    loss = F.nll_loss(output, train_target)\r\n",
        "    loss.backward()\r\n",
        "    optimizer.step()\r\n",
        "\r\n",
        "\r\n",
        "for epoch in range(1, 3):\r\n",
        "  train(epoch)"
      ],
      "execution_count": null,
      "outputs": [
        {
          "output_type": "stream",
          "text": [
            "torch.Size([100, 20, 6, 6])\n",
            "torch.Size([100, 200, 4, 4])\n",
            "torch.Size([100, 20, 6, 6])\n",
            "torch.Size([100, 200, 4, 4])\n"
          ],
          "name": "stdout"
        },
        {
          "output_type": "stream",
          "text": [
            "/usr/local/lib/python3.7/dist-packages/ipykernel_launcher.py:19: UserWarning: Implicit dimension choice for log_softmax has been deprecated. Change the call to include dim=X as an argument.\n"
          ],
          "name": "stderr"
        },
        {
          "output_type": "stream",
          "text": [
            "torch.Size([100, 20, 6, 6])\n",
            "torch.Size([100, 200, 4, 4])\n",
            "torch.Size([100, 20, 6, 6])\n",
            "torch.Size([100, 200, 4, 4])\n",
            "torch.Size([100, 20, 6, 6])\n",
            "torch.Size([100, 200, 4, 4])\n",
            "torch.Size([100, 20, 6, 6])\n",
            "torch.Size([100, 200, 4, 4])\n",
            "torch.Size([100, 20, 6, 6])\n",
            "torch.Size([100, 200, 4, 4])\n",
            "torch.Size([100, 20, 6, 6])\n",
            "torch.Size([100, 200, 4, 4])\n",
            "torch.Size([100, 20, 6, 6])\n",
            "torch.Size([100, 200, 4, 4])\n",
            "torch.Size([100, 20, 6, 6])\n",
            "torch.Size([100, 200, 4, 4])\n",
            "torch.Size([100, 20, 6, 6])\n",
            "torch.Size([100, 200, 4, 4])\n",
            "torch.Size([100, 20, 6, 6])\n",
            "torch.Size([100, 200, 4, 4])\n",
            "torch.Size([100, 20, 6, 6])\n",
            "torch.Size([100, 200, 4, 4])\n",
            "torch.Size([100, 20, 6, 6])\n",
            "torch.Size([100, 200, 4, 4])\n",
            "torch.Size([100, 20, 6, 6])\n",
            "torch.Size([100, 200, 4, 4])\n",
            "torch.Size([100, 20, 6, 6])\n",
            "torch.Size([100, 200, 4, 4])\n",
            "torch.Size([100, 20, 6, 6])\n",
            "torch.Size([100, 200, 4, 4])\n",
            "torch.Size([100, 20, 6, 6])\n",
            "torch.Size([100, 200, 4, 4])\n",
            "torch.Size([100, 20, 6, 6])\n",
            "torch.Size([100, 200, 4, 4])\n",
            "torch.Size([100, 20, 6, 6])\n",
            "torch.Size([100, 200, 4, 4])\n"
          ],
          "name": "stdout"
        }
      ]
    },
    {
      "cell_type": "markdown",
      "metadata": {
        "id": "xBjls4ksQSz4"
      },
      "source": [
        "## Weight Sharing CNN"
      ]
    }
  ]
}