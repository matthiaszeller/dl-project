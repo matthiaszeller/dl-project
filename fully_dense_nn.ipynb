{
  "nbformat": 4,
  "nbformat_minor": 0,
  "metadata": {
    "colab": {
      "name": "DL_project1.ipynb",
      "provenance": [],
      "collapsed_sections": [],
      "authorship_tag": "ABX9TyPCKSRMBoHkbAGlA/7E1qkX",
      "include_colab_link": true
    },
    "kernelspec": {
      "name": "python3",
      "display_name": "Python 3"
    }
  },
  "cells": [
    {
      "cell_type": "markdown",
      "metadata": {
        "id": "view-in-github",
        "colab_type": "text"
      },
      "source": [
        "<a href=\"https://colab.research.google.com/github/matthiaszeller/dl-project/blob/main/fully_dense_nn.ipynb\" target=\"_parent\"><img src=\"https://colab.research.google.com/assets/colab-badge.svg\" alt=\"Open In Colab\"/></a>"
      ]
    },
    {
      "cell_type": "code",
      "metadata": {
        "id": "LaNz2YYhwbXx"
      },
      "source": [
        "import torch\r\n",
        "from torchvision import datasets\r\n",
        "import matplotlib.pyplot as plt\r\n",
        "from torch.utils.data import TensorDataset, DataLoader\r\n",
        "\r\n",
        "import os"
      ],
      "execution_count": 1,
      "outputs": []
    },
    {
      "cell_type": "code",
      "metadata": {
        "colab": {
          "base_uri": "https://localhost:8080/"
        },
        "id": "nsfGSYY9QaKA",
        "outputId": "1712fb52-41ad-41bf-9f8e-1122d2fe1df1"
      },
      "source": [
        "!wget www.di.ens.fr/~lelarge/MNIST.tar.gz"
      ],
      "execution_count": 2,
      "outputs": [
        {
          "output_type": "stream",
          "text": [
            "--2021-03-03 19:24:54--  http://www.di.ens.fr/~lelarge/MNIST.tar.gz\n",
            "Resolving www.di.ens.fr (www.di.ens.fr)... 129.199.99.14\n",
            "Connecting to www.di.ens.fr (www.di.ens.fr)|129.199.99.14|:80... connected.\n",
            "HTTP request sent, awaiting response... 302 Found\n",
            "Location: https://www.di.ens.fr/~lelarge/MNIST.tar.gz [following]\n",
            "--2021-03-03 19:24:54--  https://www.di.ens.fr/~lelarge/MNIST.tar.gz\n",
            "Connecting to www.di.ens.fr (www.di.ens.fr)|129.199.99.14|:443... connected.\n",
            "HTTP request sent, awaiting response... 200 OK\n",
            "Length: unspecified [application/x-gzip]\n",
            "Saving to: ‘MNIST.tar.gz.2’\n",
            "\n",
            "MNIST.tar.gz.2          [            <=>     ]  33.20M  14.0MB/s    in 2.4s    \n",
            "\n",
            "2021-03-03 19:24:57 (14.0 MB/s) - ‘MNIST.tar.gz.2’ saved [34813078]\n",
            "\n"
          ],
          "name": "stdout"
        }
      ]
    },
    {
      "cell_type": "code",
      "metadata": {
        "id": "6_TIp4ACQhpr"
      },
      "source": [
        "!tar -xf MNIST.tar.gz\r\n"
      ],
      "execution_count": 3,
      "outputs": []
    },
    {
      "cell_type": "code",
      "metadata": {
        "colab": {
          "base_uri": "https://localhost:8080/"
        },
        "id": "adfc8yshRCUe",
        "outputId": "f71cd49a-214b-49db-a245-f78a16429b91"
      },
      "source": [
        "!ls MNIST/processed/"
      ],
      "execution_count": 4,
      "outputs": [
        {
          "output_type": "stream",
          "text": [
            "test.pt  training.pt\n"
          ],
          "name": "stdout"
        }
      ]
    },
    {
      "cell_type": "code",
      "metadata": {
        "id": "e6oc9g2JyCEw"
      },
      "source": [
        "######################################################################\r\n",
        "\r\n",
        "def mnist_to_pairs(nb, input, target):\r\n",
        "    input = torch.functional.F.avg_pool2d(input, kernel_size = 2)\r\n",
        "    a = torch.randperm(input.size(0))\r\n",
        "    a = a[:2 * nb].view(nb, 2)\r\n",
        "    input = torch.cat((input[a[:, 0]], input[a[:, 1]]), 1)\r\n",
        "    classes = target[a]\r\n",
        "    target = (classes[:, 0] <= classes[:, 1]).long()\r\n",
        "    return input, target, classes\r\n",
        "\r\n",
        "######################################################################\r\n",
        "\r\n",
        "def generate_pair_sets(nb):\r\n",
        "\r\n",
        "    train_set = datasets.MNIST('', train = True, download = True)\r\n",
        "    train_input = train_set.data.view(-1, 1, 28, 28).float()\r\n",
        "    train_target = train_set.targets\r\n",
        "\r\n",
        "    test_set = datasets.MNIST('', train = False, download = True)\r\n",
        "    test_input = test_set.data.view(-1, 1, 28, 28).float()\r\n",
        "    test_target = test_set.targets\r\n",
        "\r\n",
        "    return mnist_to_pairs(nb, train_input, train_target) + \\\r\n",
        "           mnist_to_pairs(nb, test_input, test_target)\r\n",
        "\r\n",
        "######################################################################"
      ],
      "execution_count": 5,
      "outputs": []
    },
    {
      "cell_type": "code",
      "metadata": {
        "id": "av161kLTFpWj"
      },
      "source": [
        "train_input , train_target , train_classes , test_input , test_target , test_classes = generate_pair_sets(1000)"
      ],
      "execution_count": 6,
      "outputs": []
    },
    {
      "cell_type": "code",
      "metadata": {
        "colab": {
          "base_uri": "https://localhost:8080/",
          "height": 530
        },
        "id": "XGi49cC5F1T3",
        "outputId": "408e17f4-0dd8-42c3-c7f2-26f64e19a52b"
      },
      "source": [
        "plt.imshow( train_input[0][0].numpy() ) \r\n",
        "plt.show()\r\n",
        "plt.imshow( train_input[0][1].numpy() ) \r\n",
        "plt.show()\r\n",
        "print(f'train shape : {train_input.shape}')"
      ],
      "execution_count": 7,
      "outputs": [
        {
          "output_type": "display_data",
          "data": {
            "image/png": "[encoded data removed]",
            "text/plain": [
              "<Figure size 432x288 with 1 Axes>"
            ]
          },
          "metadata": {
            "tags": [],
            "needs_background": "light"
          }
        },
        {
          "output_type": "display_data",
          "data": {
            "image/png": "[encoded data removed]",
            "text/plain": [
              "<Figure size 432x288 with 1 Axes>"
            ]
          },
          "metadata": {
            "tags": [],
            "needs_background": "light"
          }
        },
        {
          "output_type": "stream",
          "text": [
            "train shape : torch.Size([1000, 2, 14, 14])\n"
          ],
          "name": "stdout"
        }
      ]
    },
    {
      "cell_type": "code",
      "metadata": {
        "id": "UNiJBAR5GnIf"
      },
      "source": [
        "import torch.nn as nn\r\n",
        "import torch.nn.functional as F\r\n",
        "import torch.optim as optim"
      ],
      "execution_count": 8,
      "outputs": []
    },
    {
      "cell_type": "code",
      "metadata": {
        "id": "6NDo4PotHZye"
      },
      "source": [
        "class Net(nn.Module):\r\n",
        "    def __init__(self):\r\n",
        "        super(Net, self).__init__()\r\n",
        "\r\n",
        "        self.fc1 = nn.Linear(2*14*14, 300)\r\n",
        "        self.fc2 = nn.Linear(300, 200)\r\n",
        "        self.fc3 = nn.Linear(200, 100)\r\n",
        "        self.fc4 = nn.Linear(100, 50)\r\n",
        "        self.fc5 = nn.Linear(50, 1)\r\n",
        "\r\n",
        "    def forward(self, x):\r\n",
        "        x = nn.Flatten(1)(x)\r\n",
        "        x = torch.relu( self.fc1(x) )\r\n",
        "        x = torch.relu( self.fc2(x) )\r\n",
        "        x = torch.relu( self.fc3(x) )\r\n",
        "        x = torch.relu( self.fc4(x) )\r\n",
        "        x = self.fc5(x)\r\n",
        "        return torch.sigmoid(x)"
      ],
      "execution_count": 9,
      "outputs": []
    },
    {
      "cell_type": "code",
      "metadata": {
        "id": "BwN5E7UcHZ8c"
      },
      "source": [
        "network = Net()\r\n",
        "optimizer = optim.SGD(network.parameters(), lr=0.01,\r\n",
        "                      momentum=0.5)\r\n",
        "\r\n",
        "criterion = F.binary_cross_entropy"
      ],
      "execution_count": 10,
      "outputs": []
    },
    {
      "cell_type": "code",
      "metadata": {
        "id": "ImsRSpztHZ_Z"
      },
      "source": [
        "train_dataset = TensorDataset(train_input,train_target , train_classes)\r\n",
        "train_dataloader = DataLoader(train_dataset , batch_size=100)\r\n",
        "\r\n",
        "test_dataset = TensorDataset(test_input,test_target , test_classes)\r\n",
        "test_dataloader = DataLoader(test_dataset , batch_size=100)\r\n"
      ],
      "execution_count": 11,
      "outputs": []
    },
    {
      "cell_type": "code",
      "metadata": {
        "colab": {
          "base_uri": "https://localhost:8080/"
        },
        "id": "7waMxKoqHaCF",
        "outputId": "aae65770-c0e9-4ea0-d5a3-e477343a7fbe"
      },
      "source": [
        "for el in train_dataloader:\r\n",
        "  # image , target, classes\r\n",
        "  print(el[0].shape, el[1].shape, el[2].shape)\r\n",
        "  break"
      ],
      "execution_count": 12,
      "outputs": [
        {
          "output_type": "stream",
          "text": [
            "torch.Size([100, 2, 14, 14]) torch.Size([100]) torch.Size([100, 2])\n"
          ],
          "name": "stdout"
        }
      ]
    },
    {
      "cell_type": "code",
      "metadata": {
        "id": "i54w5hBmHaES"
      },
      "source": [
        "def train(epoch_nb):\r\n",
        "  network.train()\r\n",
        "  for batch_idx, (data, target , classes ) in enumerate(train_dataloader):\r\n",
        "    optimizer.zero_grad()\r\n",
        "    output = network(data).flatten()\r\n",
        "    loss = criterion(output, target.to(torch.float32))\r\n",
        "    loss.backward()\r\n",
        "    optimizer.step()\r\n",
        "    if batch_idx % 1 == 0:\r\n",
        "      print(f'Train Epoch: {epoch_nb} [{batch_idx}/{10}]\\tLoss: {loss.item():.6f}')"
      ],
      "execution_count": 13,
      "outputs": []
    },
    {
      "cell_type": "code",
      "metadata": {
        "id": "xe7whYlPQoLi"
      },
      "source": [
        "def test():\r\n",
        "  network.eval()\r\n",
        "  test_loss = 0\r\n",
        "  correct = 0\r\n",
        "\r\n",
        "  with torch.no_grad():\r\n",
        "    for data, target , classes in test_dataloader:\r\n",
        "      output = network(data)\r\n",
        "      test_loss += criterion(output.flatten(), target.to(torch.float32)).item()\r\n",
        "\r\n",
        "  test_loss /= len(test_dataloader.dataset)\r\n",
        "  print(f'\\nTest set: Avg. loss: {test_loss:.4f}, Accuracy: {404}/{404} ({404:.0f}%)\\n')"
      ],
      "execution_count": 14,
      "outputs": []
    },
    {
      "cell_type": "code",
      "metadata": {
        "colab": {
          "base_uri": "https://localhost:8080/"
        },
        "id": "0VmLfgm_R1WR",
        "outputId": "b090be30-879b-4b12-8d6c-a39173ad3e09"
      },
      "source": [
        "train(0)"
      ],
      "execution_count": 15,
      "outputs": [
        {
          "output_type": "stream",
          "text": [
            "Train Epoch: 0 [0/10]\tLoss: 0.722753\n",
            "Train Epoch: 0 [1/10]\tLoss: 0.646707\n",
            "Train Epoch: 0 [2/10]\tLoss: 0.687954\n",
            "Train Epoch: 0 [3/10]\tLoss: 0.666599\n",
            "Train Epoch: 0 [4/10]\tLoss: 0.712706\n",
            "Train Epoch: 0 [5/10]\tLoss: 0.654952\n",
            "Train Epoch: 0 [6/10]\tLoss: 0.633044\n",
            "Train Epoch: 0 [7/10]\tLoss: 0.619216\n",
            "Train Epoch: 0 [8/10]\tLoss: 0.560704\n",
            "Train Epoch: 0 [9/10]\tLoss: 0.614066\n"
          ],
          "name": "stdout"
        }
      ]
    },
    {
      "cell_type": "code",
      "metadata": {
        "colab": {
          "base_uri": "https://localhost:8080/"
        },
        "id": "MHcA1vKgHaGi",
        "outputId": "7558a6f6-f5b0-48f5-a5db-0fcbb7cbe779"
      },
      "source": [
        "test()\r\n",
        "for epoch in range(25):\r\n",
        "  train(epoch)\r\n",
        "  test()"
      ],
      "execution_count": 16,
      "outputs": [
        {
          "output_type": "stream",
          "text": [
            "\n",
            "Test set: Avg. loss: 0.0057, Accuracy: 404/404 (404%)\n",
            "\n",
            "Train Epoch: 0 [0/10]\tLoss: 0.558873\n",
            "Train Epoch: 0 [1/10]\tLoss: 0.549951\n",
            "Train Epoch: 0 [2/10]\tLoss: 0.508659\n",
            "Train Epoch: 0 [3/10]\tLoss: 0.574624\n",
            "Train Epoch: 0 [4/10]\tLoss: 0.556352\n",
            "Train Epoch: 0 [5/10]\tLoss: 0.501542\n",
            "Train Epoch: 0 [6/10]\tLoss: 0.544714\n",
            "Train Epoch: 0 [7/10]\tLoss: 0.463029\n",
            "Train Epoch: 0 [8/10]\tLoss: 0.444488\n",
            "Train Epoch: 0 [9/10]\tLoss: 0.467870\n",
            "\n",
            "Test set: Avg. loss: 0.0052, Accuracy: 404/404 (404%)\n",
            "\n",
            "Train Epoch: 1 [0/10]\tLoss: 0.510390\n",
            "Train Epoch: 1 [1/10]\tLoss: 0.456780\n",
            "Train Epoch: 1 [2/10]\tLoss: 0.432727\n",
            "Train Epoch: 1 [3/10]\tLoss: 0.525652\n",
            "Train Epoch: 1 [4/10]\tLoss: 0.466259\n",
            "Train Epoch: 1 [5/10]\tLoss: 0.425206\n",
            "Train Epoch: 1 [6/10]\tLoss: 0.453475\n",
            "Train Epoch: 1 [7/10]\tLoss: 0.395419\n",
            "Train Epoch: 1 [8/10]\tLoss: 0.346428\n",
            "Train Epoch: 1 [9/10]\tLoss: 0.419485\n",
            "\n",
            "Test set: Avg. loss: 0.0061, Accuracy: 404/404 (404%)\n",
            "\n",
            "Train Epoch: 2 [0/10]\tLoss: 0.526765\n",
            "Train Epoch: 2 [1/10]\tLoss: 0.531911\n",
            "Train Epoch: 2 [2/10]\tLoss: 0.406121\n",
            "Train Epoch: 2 [3/10]\tLoss: 0.478134\n",
            "Train Epoch: 2 [4/10]\tLoss: 0.412031\n",
            "Train Epoch: 2 [5/10]\tLoss: 0.367465\n",
            "Train Epoch: 2 [6/10]\tLoss: 0.403151\n",
            "Train Epoch: 2 [7/10]\tLoss: 0.370657\n",
            "Train Epoch: 2 [8/10]\tLoss: 0.305640\n",
            "Train Epoch: 2 [9/10]\tLoss: 0.391146\n",
            "\n",
            "Test set: Avg. loss: 0.0059, Accuracy: 404/404 (404%)\n",
            "\n",
            "Train Epoch: 3 [0/10]\tLoss: 0.437423\n",
            "Train Epoch: 3 [1/10]\tLoss: 0.356441\n",
            "Train Epoch: 3 [2/10]\tLoss: 0.333355\n",
            "Train Epoch: 3 [3/10]\tLoss: 0.595644\n",
            "Train Epoch: 3 [4/10]\tLoss: 0.629333\n",
            "Train Epoch: 3 [5/10]\tLoss: 0.405374\n",
            "Train Epoch: 3 [6/10]\tLoss: 0.413374\n",
            "Train Epoch: 3 [7/10]\tLoss: 0.355527\n",
            "Train Epoch: 3 [8/10]\tLoss: 0.325709\n",
            "Train Epoch: 3 [9/10]\tLoss: 0.342248\n",
            "\n",
            "Test set: Avg. loss: 0.0048, Accuracy: 404/404 (404%)\n",
            "\n",
            "Train Epoch: 4 [0/10]\tLoss: 0.325090\n",
            "Train Epoch: 4 [1/10]\tLoss: 0.337642\n",
            "Train Epoch: 4 [2/10]\tLoss: 0.392289\n",
            "Train Epoch: 4 [3/10]\tLoss: 0.557763\n",
            "Train Epoch: 4 [4/10]\tLoss: 0.365030\n",
            "Train Epoch: 4 [5/10]\tLoss: 0.345299\n",
            "Train Epoch: 4 [6/10]\tLoss: 0.386752\n",
            "Train Epoch: 4 [7/10]\tLoss: 0.301371\n",
            "Train Epoch: 4 [8/10]\tLoss: 0.278505\n",
            "Train Epoch: 4 [9/10]\tLoss: 0.295318\n",
            "\n",
            "Test set: Avg. loss: 0.0049, Accuracy: 404/404 (404%)\n",
            "\n",
            "Train Epoch: 5 [0/10]\tLoss: 0.274671\n",
            "Train Epoch: 5 [1/10]\tLoss: 0.278212\n",
            "Train Epoch: 5 [2/10]\tLoss: 0.258988\n",
            "Train Epoch: 5 [3/10]\tLoss: 0.342193\n",
            "Train Epoch: 5 [4/10]\tLoss: 0.295845\n",
            "Train Epoch: 5 [5/10]\tLoss: 0.577574\n",
            "Train Epoch: 5 [6/10]\tLoss: 0.572103\n",
            "Train Epoch: 5 [7/10]\tLoss: 0.302694\n",
            "Train Epoch: 5 [8/10]\tLoss: 0.332559\n",
            "Train Epoch: 5 [9/10]\tLoss: 0.326588\n",
            "\n",
            "Test set: Avg. loss: 0.0048, Accuracy: 404/404 (404%)\n",
            "\n",
            "Train Epoch: 6 [0/10]\tLoss: 0.291559\n",
            "Train Epoch: 6 [1/10]\tLoss: 0.334932\n",
            "Train Epoch: 6 [2/10]\tLoss: 0.220782\n",
            "Train Epoch: 6 [3/10]\tLoss: 0.346360\n",
            "Train Epoch: 6 [4/10]\tLoss: 0.389658\n",
            "Train Epoch: 6 [5/10]\tLoss: 0.318037\n",
            "Train Epoch: 6 [6/10]\tLoss: 0.298866\n",
            "Train Epoch: 6 [7/10]\tLoss: 0.635915\n",
            "Train Epoch: 6 [8/10]\tLoss: 0.291464\n",
            "Train Epoch: 6 [9/10]\tLoss: 0.409641\n",
            "\n",
            "Test set: Avg. loss: 0.0045, Accuracy: 404/404 (404%)\n",
            "\n",
            "Train Epoch: 7 [0/10]\tLoss: 0.235123\n",
            "Train Epoch: 7 [1/10]\tLoss: 0.362610\n",
            "Train Epoch: 7 [2/10]\tLoss: 0.212474\n",
            "Train Epoch: 7 [3/10]\tLoss: 0.363113\n",
            "Train Epoch: 7 [4/10]\tLoss: 0.201224\n",
            "Train Epoch: 7 [5/10]\tLoss: 0.242564\n",
            "Train Epoch: 7 [6/10]\tLoss: 0.274397\n",
            "Train Epoch: 7 [7/10]\tLoss: 0.223546\n",
            "Train Epoch: 7 [8/10]\tLoss: 0.213303\n",
            "Train Epoch: 7 [9/10]\tLoss: 0.336529\n",
            "\n",
            "Test set: Avg. loss: 0.0045, Accuracy: 404/404 (404%)\n",
            "\n",
            "Train Epoch: 8 [0/10]\tLoss: 0.200028\n",
            "Train Epoch: 8 [1/10]\tLoss: 0.305164\n",
            "Train Epoch: 8 [2/10]\tLoss: 0.152980\n",
            "Train Epoch: 8 [3/10]\tLoss: 0.305981\n",
            "Train Epoch: 8 [4/10]\tLoss: 0.156842\n",
            "Train Epoch: 8 [5/10]\tLoss: 0.174710\n",
            "Train Epoch: 8 [6/10]\tLoss: 0.189076\n",
            "Train Epoch: 8 [7/10]\tLoss: 0.160523\n",
            "Train Epoch: 8 [8/10]\tLoss: 0.140379\n",
            "Train Epoch: 8 [9/10]\tLoss: 0.193621\n",
            "\n",
            "Test set: Avg. loss: 0.0049, Accuracy: 404/404 (404%)\n",
            "\n",
            "Train Epoch: 9 [0/10]\tLoss: 0.174269\n",
            "Train Epoch: 9 [1/10]\tLoss: 0.234761\n",
            "Train Epoch: 9 [2/10]\tLoss: 0.116973\n",
            "Train Epoch: 9 [3/10]\tLoss: 0.268278\n",
            "Train Epoch: 9 [4/10]\tLoss: 0.118128\n",
            "Train Epoch: 9 [5/10]\tLoss: 0.146335\n",
            "Train Epoch: 9 [6/10]\tLoss: 0.139854\n",
            "Train Epoch: 9 [7/10]\tLoss: 0.119858\n",
            "Train Epoch: 9 [8/10]\tLoss: 0.114453\n",
            "Train Epoch: 9 [9/10]\tLoss: 0.124736\n",
            "\n",
            "Test set: Avg. loss: 0.0057, Accuracy: 404/404 (404%)\n",
            "\n",
            "Train Epoch: 10 [0/10]\tLoss: 0.157437\n",
            "Train Epoch: 10 [1/10]\tLoss: 0.132125\n",
            "Train Epoch: 10 [2/10]\tLoss: 0.181862\n",
            "Train Epoch: 10 [3/10]\tLoss: 0.313652\n",
            "Train Epoch: 10 [4/10]\tLoss: 0.110596\n",
            "Train Epoch: 10 [5/10]\tLoss: 0.119364\n",
            "Train Epoch: 10 [6/10]\tLoss: 0.112224\n",
            "Train Epoch: 10 [7/10]\tLoss: 0.106235\n",
            "Train Epoch: 10 [8/10]\tLoss: 0.075642\n",
            "Train Epoch: 10 [9/10]\tLoss: 0.089806\n",
            "\n",
            "Test set: Avg. loss: 0.0060, Accuracy: 404/404 (404%)\n",
            "\n",
            "Train Epoch: 11 [0/10]\tLoss: 0.106415\n",
            "Train Epoch: 11 [1/10]\tLoss: 0.090264\n",
            "Train Epoch: 11 [2/10]\tLoss: 0.270485\n",
            "Train Epoch: 11 [3/10]\tLoss: 0.240296\n",
            "Train Epoch: 11 [4/10]\tLoss: 0.108546\n",
            "Train Epoch: 11 [5/10]\tLoss: 0.147358\n",
            "Train Epoch: 11 [6/10]\tLoss: 0.090543\n",
            "Train Epoch: 11 [7/10]\tLoss: 0.104657\n",
            "Train Epoch: 11 [8/10]\tLoss: 0.061342\n",
            "Train Epoch: 11 [9/10]\tLoss: 0.084042\n",
            "\n",
            "Test set: Avg. loss: 0.0059, Accuracy: 404/404 (404%)\n",
            "\n",
            "Train Epoch: 12 [0/10]\tLoss: 0.075863\n",
            "Train Epoch: 12 [1/10]\tLoss: 0.104666\n",
            "Train Epoch: 12 [2/10]\tLoss: 0.130982\n",
            "Train Epoch: 12 [3/10]\tLoss: 0.158028\n",
            "Train Epoch: 12 [4/10]\tLoss: 0.369259\n",
            "Train Epoch: 12 [5/10]\tLoss: 0.221062\n",
            "Train Epoch: 12 [6/10]\tLoss: 0.075335\n",
            "Train Epoch: 12 [7/10]\tLoss: 0.129724\n",
            "Train Epoch: 12 [8/10]\tLoss: 0.069984\n",
            "Train Epoch: 12 [9/10]\tLoss: 0.086762\n",
            "\n",
            "Test set: Avg. loss: 0.0057, Accuracy: 404/404 (404%)\n",
            "\n",
            "Train Epoch: 13 [0/10]\tLoss: 0.073581\n",
            "Train Epoch: 13 [1/10]\tLoss: 0.095779\n",
            "Train Epoch: 13 [2/10]\tLoss: 0.060225\n",
            "Train Epoch: 13 [3/10]\tLoss: 0.189605\n",
            "Train Epoch: 13 [4/10]\tLoss: 0.089841\n",
            "Train Epoch: 13 [5/10]\tLoss: 0.221867\n",
            "Train Epoch: 13 [6/10]\tLoss: 0.242173\n",
            "Train Epoch: 13 [7/10]\tLoss: 0.080484\n",
            "Train Epoch: 13 [8/10]\tLoss: 0.095755\n",
            "Train Epoch: 13 [9/10]\tLoss: 0.067955\n",
            "\n",
            "Test set: Avg. loss: 0.0053, Accuracy: 404/404 (404%)\n",
            "\n",
            "Train Epoch: 14 [0/10]\tLoss: 0.070577\n",
            "Train Epoch: 14 [1/10]\tLoss: 0.077986\n",
            "Train Epoch: 14 [2/10]\tLoss: 0.042443\n",
            "Train Epoch: 14 [3/10]\tLoss: 0.082633\n",
            "Train Epoch: 14 [4/10]\tLoss: 0.044684\n",
            "Train Epoch: 14 [5/10]\tLoss: 0.056241\n",
            "Train Epoch: 14 [6/10]\tLoss: 0.050766\n",
            "Train Epoch: 14 [7/10]\tLoss: 0.083493\n",
            "Train Epoch: 14 [8/10]\tLoss: 0.037106\n",
            "Train Epoch: 14 [9/10]\tLoss: 0.061650\n",
            "\n",
            "Test set: Avg. loss: 0.0058, Accuracy: 404/404 (404%)\n",
            "\n",
            "Train Epoch: 15 [0/10]\tLoss: 0.027754\n",
            "Train Epoch: 15 [1/10]\tLoss: 0.030757\n",
            "Train Epoch: 15 [2/10]\tLoss: 0.025668\n",
            "Train Epoch: 15 [3/10]\tLoss: 0.065704\n",
            "Train Epoch: 15 [4/10]\tLoss: 0.026362\n",
            "Train Epoch: 15 [5/10]\tLoss: 0.029848\n",
            "Train Epoch: 15 [6/10]\tLoss: 0.029751\n",
            "Train Epoch: 15 [7/10]\tLoss: 0.031323\n",
            "Train Epoch: 15 [8/10]\tLoss: 0.043750\n",
            "Train Epoch: 15 [9/10]\tLoss: 0.020910\n",
            "\n",
            "Test set: Avg. loss: 0.0074, Accuracy: 404/404 (404%)\n",
            "\n",
            "Train Epoch: 16 [0/10]\tLoss: 0.043199\n",
            "Train Epoch: 16 [1/10]\tLoss: 0.024349\n",
            "Train Epoch: 16 [2/10]\tLoss: 0.020047\n",
            "Train Epoch: 16 [3/10]\tLoss: 0.049195\n",
            "Train Epoch: 16 [4/10]\tLoss: 0.022644\n",
            "Train Epoch: 16 [5/10]\tLoss: 0.021423\n",
            "Train Epoch: 16 [6/10]\tLoss: 0.022717\n",
            "Train Epoch: 16 [7/10]\tLoss: 0.022679\n",
            "Train Epoch: 16 [8/10]\tLoss: 0.019169\n",
            "Train Epoch: 16 [9/10]\tLoss: 0.018411\n",
            "\n",
            "Test set: Avg. loss: 0.0063, Accuracy: 404/404 (404%)\n",
            "\n",
            "Train Epoch: 17 [0/10]\tLoss: 0.012045\n",
            "Train Epoch: 17 [1/10]\tLoss: 0.041351\n",
            "Train Epoch: 17 [2/10]\tLoss: 0.014577\n",
            "Train Epoch: 17 [3/10]\tLoss: 0.037099\n",
            "Train Epoch: 17 [4/10]\tLoss: 0.030121\n",
            "Train Epoch: 17 [5/10]\tLoss: 0.016033\n",
            "Train Epoch: 17 [6/10]\tLoss: 0.018230\n",
            "Train Epoch: 17 [7/10]\tLoss: 0.020281\n",
            "Train Epoch: 17 [8/10]\tLoss: 0.012956\n",
            "Train Epoch: 17 [9/10]\tLoss: 0.015850\n",
            "\n",
            "Test set: Avg. loss: 0.0060, Accuracy: 404/404 (404%)\n",
            "\n",
            "Train Epoch: 18 [0/10]\tLoss: 0.011229\n",
            "Train Epoch: 18 [1/10]\tLoss: 0.017504\n",
            "Train Epoch: 18 [2/10]\tLoss: 0.020285\n",
            "Train Epoch: 18 [3/10]\tLoss: 0.022563\n",
            "Train Epoch: 18 [4/10]\tLoss: 0.023347\n",
            "Train Epoch: 18 [5/10]\tLoss: 0.012053\n",
            "Train Epoch: 18 [6/10]\tLoss: 0.009023\n",
            "Train Epoch: 18 [7/10]\tLoss: 0.015057\n",
            "Train Epoch: 18 [8/10]\tLoss: 0.009948\n",
            "Train Epoch: 18 [9/10]\tLoss: 0.009940\n",
            "\n",
            "Test set: Avg. loss: 0.0062, Accuracy: 404/404 (404%)\n",
            "\n",
            "Train Epoch: 19 [0/10]\tLoss: 0.009000\n",
            "Train Epoch: 19 [1/10]\tLoss: 0.011388\n",
            "Train Epoch: 19 [2/10]\tLoss: 0.009585\n",
            "Train Epoch: 19 [3/10]\tLoss: 0.018727\n",
            "Train Epoch: 19 [4/10]\tLoss: 0.009015\n",
            "Train Epoch: 19 [5/10]\tLoss: 0.010122\n",
            "Train Epoch: 19 [6/10]\tLoss: 0.008472\n",
            "Train Epoch: 19 [7/10]\tLoss: 0.011620\n",
            "Train Epoch: 19 [8/10]\tLoss: 0.007151\n",
            "Train Epoch: 19 [9/10]\tLoss: 0.008080\n",
            "\n",
            "Test set: Avg. loss: 0.0066, Accuracy: 404/404 (404%)\n",
            "\n",
            "Train Epoch: 20 [0/10]\tLoss: 0.006911\n",
            "Train Epoch: 20 [1/10]\tLoss: 0.010632\n",
            "Train Epoch: 20 [2/10]\tLoss: 0.007347\n",
            "Train Epoch: 20 [3/10]\tLoss: 0.013452\n",
            "Train Epoch: 20 [4/10]\tLoss: 0.007118\n",
            "Train Epoch: 20 [5/10]\tLoss: 0.007566\n",
            "Train Epoch: 20 [6/10]\tLoss: 0.006454\n",
            "Train Epoch: 20 [7/10]\tLoss: 0.009773\n",
            "Train Epoch: 20 [8/10]\tLoss: 0.005981\n",
            "Train Epoch: 20 [9/10]\tLoss: 0.006890\n",
            "\n",
            "Test set: Avg. loss: 0.0067, Accuracy: 404/404 (404%)\n",
            "\n",
            "Train Epoch: 21 [0/10]\tLoss: 0.005792\n",
            "Train Epoch: 21 [1/10]\tLoss: 0.009130\n",
            "Train Epoch: 21 [2/10]\tLoss: 0.006547\n",
            "Train Epoch: 21 [3/10]\tLoss: 0.011494\n",
            "Train Epoch: 21 [4/10]\tLoss: 0.005956\n",
            "Train Epoch: 21 [5/10]\tLoss: 0.006509\n",
            "Train Epoch: 21 [6/10]\tLoss: 0.005596\n",
            "Train Epoch: 21 [7/10]\tLoss: 0.008616\n",
            "Train Epoch: 21 [8/10]\tLoss: 0.005258\n",
            "Train Epoch: 21 [9/10]\tLoss: 0.006025\n",
            "\n",
            "Test set: Avg. loss: 0.0069, Accuracy: 404/404 (404%)\n",
            "\n",
            "Train Epoch: 22 [0/10]\tLoss: 0.005051\n",
            "Train Epoch: 22 [1/10]\tLoss: 0.007969\n",
            "Train Epoch: 22 [2/10]\tLoss: 0.005851\n",
            "Train Epoch: 22 [3/10]\tLoss: 0.009871\n",
            "Train Epoch: 22 [4/10]\tLoss: 0.004926\n",
            "Train Epoch: 22 [5/10]\tLoss: 0.005524\n",
            "Train Epoch: 22 [6/10]\tLoss: 0.004920\n",
            "Train Epoch: 22 [7/10]\tLoss: 0.007625\n",
            "Train Epoch: 22 [8/10]\tLoss: 0.004790\n",
            "Train Epoch: 22 [9/10]\tLoss: 0.005401\n",
            "\n",
            "Test set: Avg. loss: 0.0070, Accuracy: 404/404 (404%)\n",
            "\n",
            "Train Epoch: 23 [0/10]\tLoss: 0.004449\n",
            "Train Epoch: 23 [1/10]\tLoss: 0.006898\n",
            "Train Epoch: 23 [2/10]\tLoss: 0.005334\n",
            "Train Epoch: 23 [3/10]\tLoss: 0.008654\n",
            "Train Epoch: 23 [4/10]\tLoss: 0.004161\n",
            "Train Epoch: 23 [5/10]\tLoss: 0.004821\n",
            "Train Epoch: 23 [6/10]\tLoss: 0.004236\n",
            "Train Epoch: 23 [7/10]\tLoss: 0.006764\n",
            "Train Epoch: 23 [8/10]\tLoss: 0.004439\n",
            "Train Epoch: 23 [9/10]\tLoss: 0.004917\n",
            "\n",
            "Test set: Avg. loss: 0.0070, Accuracy: 404/404 (404%)\n",
            "\n",
            "Train Epoch: 24 [0/10]\tLoss: 0.003980\n",
            "Train Epoch: 24 [1/10]\tLoss: 0.005960\n",
            "Train Epoch: 24 [2/10]\tLoss: 0.004714\n",
            "Train Epoch: 24 [3/10]\tLoss: 0.007705\n",
            "Train Epoch: 24 [4/10]\tLoss: 0.003620\n",
            "Train Epoch: 24 [5/10]\tLoss: 0.004314\n",
            "Train Epoch: 24 [6/10]\tLoss: 0.003726\n",
            "Train Epoch: 24 [7/10]\tLoss: 0.006042\n",
            "Train Epoch: 24 [8/10]\tLoss: 0.004120\n",
            "Train Epoch: 24 [9/10]\tLoss: 0.004532\n",
            "\n",
            "Test set: Avg. loss: 0.0071, Accuracy: 404/404 (404%)\n",
            "\n"
          ],
          "name": "stdout"
        }
      ]
    },
    {
      "cell_type": "code",
      "metadata": {
        "id": "GjO_IgLPHaIe"
      },
      "source": [
        ""
      ],
      "execution_count": null,
      "outputs": []
    },
    {
      "cell_type": "code",
      "metadata": {
        "id": "C66k1nu4HaMp"
      },
      "source": [
        ""
      ],
      "execution_count": null,
      "outputs": []
    },
    {
      "cell_type": "code",
      "metadata": {
        "id": "G1AxFKKCHaQK"
      },
      "source": [
        ""
      ],
      "execution_count": null,
      "outputs": []
    }
  ]
}