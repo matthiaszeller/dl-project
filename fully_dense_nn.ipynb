{
  "nbformat": 4,
  "nbformat_minor": 0,
  "metadata": {
    "colab": {
      "name": "fully_dense_nn.ipynb",
      "provenance": [],
      "collapsed_sections": [
        "jAzBfBHS0yjp"
      ],
      "authorship_tag": "ABX9TyOUbZrQkODq3o9/rM10wlpg",
      "include_colab_link": true
    },
    "kernelspec": {
      "name": "python3",
      "display_name": "Python 3"
    }
  },
  "cells": [
    {
      "cell_type": "markdown",
      "metadata": {
        "id": "view-in-github",
        "colab_type": "text"
      },
      "source": [
        "<a href=\"https://colab.research.google.com/github/matthiaszeller/dl-project/blob/main/fully_dense_nn.ipynb\" target=\"_parent\"><img src=\"https://colab.research.google.com/assets/colab-badge.svg\" alt=\"Open In Colab\"/></a>"
      ]
    },
    {
      "cell_type": "code",
      "metadata": {
        "id": "LaNz2YYhwbXx"
      },
      "source": [
        "import torch\r\n",
        "from torchvision import datasets\r\n",
        "import matplotlib.pyplot as plt\r\n",
        "from torch.utils.data import TensorDataset, DataLoader\r\n",
        "\r\n",
        "import torch.nn as nn\r\n",
        "import torch.nn.functional as F\r\n",
        "import torch.optim as optim\r\n",
        "\r\n",
        "import os"
      ],
      "execution_count": 12,
      "outputs": []
    },
    {
      "cell_type": "markdown",
      "metadata": {
        "id": "jAzBfBHS0yjp"
      },
      "source": [
        "# dataset build"
      ]
    },
    {
      "cell_type": "code",
      "metadata": {
        "colab": {
          "base_uri": "https://localhost:8080/"
        },
        "id": "nsfGSYY9QaKA",
        "outputId": "b4126753-69e8-4a0d-9ed3-1dc7c9780cc1"
      },
      "source": [
        "!wget www.di.ens.fr/~lelarge/MNIST.tar.gz"
      ],
      "execution_count": 13,
      "outputs": [
        {
          "output_type": "stream",
          "text": [
            "--2021-03-03 22:28:09--  http://www.di.ens.fr/~lelarge/MNIST.tar.gz\n",
            "Resolving www.di.ens.fr (www.di.ens.fr)... 129.199.99.14\n",
            "Connecting to www.di.ens.fr (www.di.ens.fr)|129.199.99.14|:80... connected.\n",
            "HTTP request sent, awaiting response... 302 Found\n",
            "Location: https://www.di.ens.fr/~lelarge/MNIST.tar.gz [following]\n",
            "--2021-03-03 22:28:10--  https://www.di.ens.fr/~lelarge/MNIST.tar.gz\n",
            "Connecting to www.di.ens.fr (www.di.ens.fr)|129.199.99.14|:443... connected.\n",
            "HTTP request sent, awaiting response... 200 OK\n",
            "Length: unspecified [application/x-gzip]\n",
            "Saving to: ‘MNIST.tar.gz.1’\n",
            "\n",
            "MNIST.tar.gz.1          [             <=>    ]  33.20M  11.6MB/s    in 2.9s    \n",
            "\n",
            "2021-03-03 22:28:13 (11.6 MB/s) - ‘MNIST.tar.gz.1’ saved [34813078]\n",
            "\n"
          ],
          "name": "stdout"
        }
      ]
    },
    {
      "cell_type": "code",
      "metadata": {
        "id": "6_TIp4ACQhpr"
      },
      "source": [
        "!tar -xf MNIST.tar.gz\r\n"
      ],
      "execution_count": 14,
      "outputs": []
    },
    {
      "cell_type": "code",
      "metadata": {
        "colab": {
          "base_uri": "https://localhost:8080/"
        },
        "id": "adfc8yshRCUe",
        "outputId": "840c5e80-25b5-4be6-ee6c-e2d06eb04c71"
      },
      "source": [
        "!ls MNIST/processed/"
      ],
      "execution_count": 15,
      "outputs": [
        {
          "output_type": "stream",
          "text": [
            "test.pt  training.pt\n"
          ],
          "name": "stdout"
        }
      ]
    },
    {
      "cell_type": "code",
      "metadata": {
        "id": "e6oc9g2JyCEw"
      },
      "source": [
        "######################################################################\r\n",
        "\r\n",
        "def mnist_to_pairs(nb, input, target):\r\n",
        "    input = torch.functional.F.avg_pool2d(input, kernel_size = 2)\r\n",
        "    a = torch.randperm(input.size(0))\r\n",
        "    a = a[:2 * nb].view(nb, 2)\r\n",
        "    input = torch.cat((input[a[:, 0]], input[a[:, 1]]), 1)\r\n",
        "    classes = target[a]\r\n",
        "    target = (classes[:, 0] <= classes[:, 1]).long()\r\n",
        "    return input, target, classes\r\n",
        "\r\n",
        "######################################################################\r\n",
        "\r\n",
        "def generate_pair_sets(nb):\r\n",
        "\r\n",
        "    train_set = datasets.MNIST('', train = True, download = True)\r\n",
        "    train_input = train_set.data.view(-1, 1, 28, 28).float()\r\n",
        "    train_target = train_set.targets\r\n",
        "\r\n",
        "    test_set = datasets.MNIST('', train = False, download = True)\r\n",
        "    test_input = test_set.data.view(-1, 1, 28, 28).float()\r\n",
        "    test_target = test_set.targets\r\n",
        "\r\n",
        "    return mnist_to_pairs(nb, train_input, train_target) + \\\r\n",
        "           mnist_to_pairs(nb, test_input, test_target)\r\n",
        "\r\n",
        "######################################################################"
      ],
      "execution_count": 16,
      "outputs": []
    },
    {
      "cell_type": "code",
      "metadata": {
        "id": "av161kLTFpWj"
      },
      "source": [
        "train_input , train_target , train_classes , test_input , test_target , test_classes = generate_pair_sets(1000)"
      ],
      "execution_count": 17,
      "outputs": []
    },
    {
      "cell_type": "code",
      "metadata": {
        "colab": {
          "base_uri": "https://localhost:8080/",
          "height": 0
        },
        "id": "XGi49cC5F1T3",
        "outputId": "694c6965-664a-4f81-989e-c5964a299496"
      },
      "source": [
        "plt.imshow( train_input[0][0].numpy() ) \r\n",
        "plt.show()\r\n",
        "plt.imshow( train_input[0][1].numpy() ) \r\n",
        "plt.show()\r\n",
        "print(f'train shape : {train_input.shape}')"
      ],
      "execution_count": 18,
      "outputs": [
        {
          "output_type": "display_data",
          "data": {
            "image/png": "[encoded data removed]",
            "text/plain": [
              "<Figure size 432x288 with 1 Axes>"
            ]
          },
          "metadata": {
            "tags": [],
            "needs_background": "light"
          }
        },
        {
          "output_type": "display_data",
          "data": {
            "image/png": "[encoded data removed]",
            "text/plain": [
              "<Figure size 432x288 with 1 Axes>"
            ]
          },
          "metadata": {
            "tags": [],
            "needs_background": "light"
          }
        },
        {
          "output_type": "stream",
          "text": [
            "train shape : torch.Size([1000, 2, 14, 14])\n"
          ],
          "name": "stdout"
        }
      ]
    },
    {
      "cell_type": "code",
      "metadata": {
        "id": "ImsRSpztHZ_Z"
      },
      "source": [
        "train_dataset = TensorDataset(train_input,train_target , train_classes)\r\n",
        "train_dataloader = DataLoader(train_dataset , batch_size=100)\r\n",
        "\r\n",
        "test_dataset = TensorDataset(test_input,test_target , test_classes)\r\n",
        "test_dataloader = DataLoader(test_dataset , batch_size=100)\r\n"
      ],
      "execution_count": 19,
      "outputs": []
    },
    {
      "cell_type": "code",
      "metadata": {
        "colab": {
          "base_uri": "https://localhost:8080/"
        },
        "id": "7waMxKoqHaCF",
        "outputId": "0b50f6a5-d5cf-4856-f23b-f52a56a684d9"
      },
      "source": [
        "for el in train_dataloader:\r\n",
        "  # image , target, classes\r\n",
        "  print(el[0].shape, el[1].shape, el[2].shape)\r\n",
        "  break"
      ],
      "execution_count": 20,
      "outputs": [
        {
          "output_type": "stream",
          "text": [
            "torch.Size([100, 2, 14, 14]) torch.Size([100]) torch.Size([100, 2])\n"
          ],
          "name": "stdout"
        }
      ]
    },
    {
      "cell_type": "markdown",
      "metadata": {
        "id": "03P9yp3E08Fl"
      },
      "source": [
        "# FullyDenseNN"
      ]
    },
    {
      "cell_type": "code",
      "metadata": {
        "id": "6NDo4PotHZye"
      },
      "source": [
        "class FullyDenseNet(nn.Module):\r\n",
        "    def __init__(self):\r\n",
        "        super(FullyDenseNet, self).__init__()\r\n",
        "\r\n",
        "        self.fc1 = nn.Linear(2*14*14, 300)\r\n",
        "        self.fc2 = nn.Linear(300, 200)\r\n",
        "        self.fc3 = nn.Linear(200, 100)\r\n",
        "        self.fc4 = nn.Linear(100, 50)\r\n",
        "        self.fc5 = nn.Linear(50, 1)\r\n",
        "\r\n",
        "    def forward(self, x):\r\n",
        "        x = nn.Flatten(1)(x)\r\n",
        "        x = torch.relu( self.fc1(x) )\r\n",
        "        x = torch.relu( self.fc2(x) )\r\n",
        "        x = torch.relu( self.fc3(x) )\r\n",
        "        x = torch.relu( self.fc4(x) )\r\n",
        "        x = self.fc5(x)\r\n",
        "        return torch.sigmoid(x)"
      ],
      "execution_count": 21,
      "outputs": []
    },
    {
      "cell_type": "code",
      "metadata": {
        "id": "BwN5E7UcHZ8c"
      },
      "source": [
        "network = FullyDenseNet()\r\n",
        "optimizer = optim.SGD(network.parameters(), lr=0.01, momentum=0.5)\r\n",
        "criterion = F.binary_cross_entropy"
      ],
      "execution_count": 22,
      "outputs": []
    },
    {
      "cell_type": "code",
      "metadata": {
        "id": "i54w5hBmHaES"
      },
      "source": [
        "def train_epoch(network_):\r\n",
        "  loss_tot = []\r\n",
        "  acc_tot = []\r\n",
        "  network_.train()\r\n",
        "  for batch_idx, (data, target , classes ) in enumerate(train_dataloader):\r\n",
        "    optimizer.zero_grad()\r\n",
        "    output = network_(data).flatten()\r\n",
        "    loss = criterion(output, target.to(torch.float32))\r\n",
        "    loss.backward()\r\n",
        "    optimizer.step()\r\n",
        "\r\n",
        "    loss_tot.append(loss.item())\r\n",
        "    acc_tot.append( (target == torch.round(output) ).sum().item() )\r\n",
        "  \r\n",
        "  return torch.FloatTensor(loss_tot).mean().item() , torch.FloatTensor(acc_tot).mean().item()/100.0"
      ],
      "execution_count": 23,
      "outputs": []
    },
    {
      "cell_type": "code",
      "metadata": {
        "id": "xe7whYlPQoLi"
      },
      "source": [
        "def test(network_):\r\n",
        "  network_.eval()\r\n",
        "  test_loss = 0\r\n",
        "  acc = 0\r\n",
        "\r\n",
        "  with torch.no_grad():\r\n",
        "    for data, target , classes in test_dataloader:\r\n",
        "      output = network_(data)\r\n",
        "      test_loss += criterion(output.flatten(), target.to(torch.float32)).item()\r\n",
        "      acc += (target == torch.round(output.flatten()) ).sum().item()\r\n",
        "\r\n",
        "  test_loss /= len(test_dataloader)\r\n",
        "  acc /= len(test_dataloader)\r\n",
        "  return test_loss , acc/100.0"
      ],
      "execution_count": 24,
      "outputs": []
    },
    {
      "cell_type": "code",
      "metadata": {
        "id": "MHcA1vKgHaGi"
      },
      "source": [
        "def train(network ,epoch_nb = 30,   debug_ = True):\r\n",
        "\r\n",
        "  tot_train_loss = []\r\n",
        "  tot_train_acc = []\r\n",
        "  tot_test_loss = []\r\n",
        "  tot_test_acc = []\r\n",
        "\r\n",
        "\r\n",
        "  for epoch in range(epoch_nb):\r\n",
        "    train_loss , train_acc = train_epoch(network)\r\n",
        "    test_loss , test_acc = test(network)\r\n",
        "\r\n",
        "    tot_train_loss.append(train_loss)\r\n",
        "    tot_train_acc.append(train_acc)\r\n",
        "    tot_test_loss.append(test_loss)\r\n",
        "    tot_test_acc.append(test_acc)\r\n",
        "\r\n",
        "    if(debug_):\r\n",
        "      print(epoch, train_loss , train_acc , test_loss , test_acc)\r\n",
        "\r\n",
        "  return tot_train_loss , tot_train_acc , tot_test_loss , tot_test_acc"
      ],
      "execution_count": 25,
      "outputs": []
    },
    {
      "cell_type": "code",
      "metadata": {
        "id": "GjO_IgLPHaIe",
        "colab": {
          "base_uri": "https://localhost:8080/"
        },
        "outputId": "a1ec449b-a771-438e-bce7-ad9fef194ffc"
      },
      "source": [
        "tot_train_loss , tot_train_acc , tot_test_loss , tot_test_acc = train(network , 30)"
      ],
      "execution_count": 26,
      "outputs": [
        {
          "output_type": "stream",
          "text": [
            "0 0.86491858959198 0.5940000152587891 0.6289192378520966 0.688\n",
            "1 0.5873011350631714 0.7130000305175781 0.5530600607395172 0.715\n",
            "2 0.5069117546081543 0.759000015258789 0.5207778573036194 0.738\n",
            "3 0.4581075608730316 0.7969999694824219 0.49693546295166013 0.747\n",
            "4 0.4158394932746887 0.8130000305175781 0.48606942892074584 0.7509999999999999\n",
            "5 0.3744216859340668 0.8319999694824218 0.4739769399166107 0.767\n",
            "6 0.3313937783241272 0.865999984741211 0.4677602469921112 0.773\n",
            "7 0.2861514985561371 0.8919999694824219 0.4749743819236755 0.7609999999999999\n",
            "8 0.3087344765663147 0.8719999694824219 0.6252313852310181 0.731\n",
            "9 0.3532920479774475 0.84 0.5721880853176117 0.74\n",
            "10 0.27324602007865906 0.895 0.5284776270389557 0.76\n",
            "11 0.19699275493621826 0.9330000305175781 0.502958607673645 0.774\n",
            "12 0.12516312301158905 0.9640000152587891 0.5051301956176758 0.785\n",
            "13 0.09040273725986481 0.980999984741211 0.5310131311416626 0.7809999999999999\n",
            "14 0.06456239521503448 0.9940000152587891 0.5528793513774872 0.79\n",
            "15 0.0432816706597805 0.9980000305175781 0.6766970336437226 0.769\n",
            "16 0.6828094124794006 0.8119999694824219 0.476836222410202 0.772\n",
            "17 0.20161569118499756 0.950999984741211 0.5010097652673722 0.784\n",
            "18 0.11082810163497925 0.975999984741211 0.5270160108804702 0.7859999999999999\n",
            "19 0.062178827822208405 0.9919999694824219 0.5524207264184952 0.7829999999999999\n",
            "20 0.037167537957429886 0.9980000305175781 0.5881291121244431 0.7879999999999999\n",
            "21 0.025222275406122208 0.9980000305175781 0.616329836845398 0.7859999999999999\n",
            "22 0.018331844359636307 0.999000015258789 0.636590176820755 0.785\n",
            "23 0.013378466479480267 1.0 0.6628642559051514 0.7809999999999999\n",
            "24 0.010305005125701427 1.0 0.6833670675754547 0.787\n",
            "25 0.00811767391860485 1.0 0.7052355736494065 0.787\n",
            "26 0.0066207097843289375 1.0 0.7275142401456833 0.7829999999999999\n",
            "27 0.00569969741627574 1.0 0.7462492346763611 0.782\n",
            "28 0.005013090092688799 1.0 0.7622106105089188 0.782\n",
            "29 0.004453903995454311 1.0 0.7770429670810699 0.782\n"
          ],
          "name": "stdout"
        }
      ]
    },
    {
      "cell_type": "code",
      "metadata": {
        "id": "C66k1nu4HaMp"
      },
      "source": [
        "def plot_loss_acc( tot_train_loss , tot_train_acc , tot_test_loss , tot_test_acc ):\r\n",
        "  epochs = range(1, len(tot_train_loss)+1 )\r\n",
        "  plt.plot(epochs, tot_train_loss, 'g', label='Training loss')\r\n",
        "  plt.plot(epochs, tot_test_loss, 'b', label='Test loss')\r\n",
        "  plt.plot(epochs, tot_train_acc, 'r', label='Training acc')\r\n",
        "  plt.plot(epochs, tot_test_acc, 'y', label='Test acc')\r\n",
        "  plt.title('Training and Test loss/acc')\r\n",
        "  plt.xlabel('Epochs')\r\n",
        "  plt.ylabel('loss/acc')\r\n",
        "  plt.ylim((0,1))\r\n",
        "  plt.legend()\r\n",
        "  plt.show()"
      ],
      "execution_count": 27,
      "outputs": []
    },
    {
      "cell_type": "code",
      "metadata": {
        "id": "G1AxFKKCHaQK",
        "colab": {
          "base_uri": "https://localhost:8080/",
          "height": 295
        },
        "outputId": "6de7955e-219e-4312-e0f8-69ed9df0efaa"
      },
      "source": [
        "plot_loss_acc( tot_train_loss , tot_train_acc , tot_test_loss , tot_test_acc )"
      ],
      "execution_count": 28,
      "outputs": [
        {
          "output_type": "display_data",
          "data": {
            "image/png": "[encoded data removed]",
            "text/plain": [
              "<Figure size 432x288 with 1 Axes>"
            ]
          },
          "metadata": {
            "tags": [],
            "needs_background": "light"
          }
        }
      ]
    },
    {
      "cell_type": "code",
      "metadata": {
        "id": "eNQNJsm-7Rlb"
      },
      "source": [
        ""
      ],
      "execution_count": 102,
      "outputs": []
    }
  ]
}