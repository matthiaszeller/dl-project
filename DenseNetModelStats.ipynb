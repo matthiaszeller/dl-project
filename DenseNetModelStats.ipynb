{
  "nbformat": 4,
  "nbformat_minor": 0,
  "metadata": {
    "colab": {
      "name": "DenseNetModelStats.ipynb",
      "provenance": [],
      "collapsed_sections": [
        "mKaQ4nRcsriT",
        "7aqhkboeBiZQ",
        "cMvqg1PntMz4"
      ],
      "authorship_tag": "ABX9TyNENnI28NUeR5LSCIh1WjTr",
      "include_colab_link": true
    },
    "kernelspec": {
      "name": "python3",
      "display_name": "Python 3"
    },
    "language_info": {
      "name": "python"
    }
  },
  "cells": [
    {
      "cell_type": "markdown",
      "metadata": {
        "id": "view-in-github",
        "colab_type": "text"
      },
      "source": [
        "<a href=\"https://colab.research.google.com/github/matthiaszeller/dl-project/blob/main/DenseNetModelStats.ipynb\" target=\"_parent\"><img src=\"https://colab.research.google.com/assets/colab-badge.svg\" alt=\"Open In Colab\"/></a>"
      ]
    },
    {
      "cell_type": "code",
      "metadata": {
        "id": "NrddL35Nsi_Q"
      },
      "source": [
        "import torch\n",
        "from torchvision import datasets\n",
        "import matplotlib.pyplot as plt\n",
        "from torch.utils.data import TensorDataset, DataLoader\n",
        "\n",
        "import torch.nn as nn\n",
        "import torch.nn.functional as F\n",
        "import torch.optim as optim\n",
        "\n",
        "import os"
      ],
      "execution_count": 1,
      "outputs": []
    },
    {
      "cell_type": "markdown",
      "metadata": {
        "id": "mKaQ4nRcsriT"
      },
      "source": [
        "# Dataset"
      ]
    },
    {
      "cell_type": "code",
      "metadata": {
        "colab": {
          "base_uri": "https://localhost:8080/"
        },
        "id": "70ppo_zJsqrV",
        "outputId": "2840bf66-3ce1-4f29-d923-300e99ca7dd5"
      },
      "source": [
        "!wget www.di.ens.fr/~lelarge/MNIST.tar.gz"
      ],
      "execution_count": 2,
      "outputs": [
        {
          "output_type": "stream",
          "text": [
            "--2021-05-28 09:28:38--  http://www.di.ens.fr/~lelarge/MNIST.tar.gz\n",
            "Resolving www.di.ens.fr (www.di.ens.fr)... 129.199.99.14\n",
            "Connecting to www.di.ens.fr (www.di.ens.fr)|129.199.99.14|:80... connected.\n",
            "HTTP request sent, awaiting response... 302 Found\n",
            "Location: https://www.di.ens.fr/~lelarge/MNIST.tar.gz [following]\n",
            "--2021-05-28 09:28:38--  https://www.di.ens.fr/~lelarge/MNIST.tar.gz\n",
            "Connecting to www.di.ens.fr (www.di.ens.fr)|129.199.99.14|:443... connected.\n",
            "HTTP request sent, awaiting response... 200 OK\n",
            "Length: unspecified [application/x-gzip]\n",
            "Saving to: ‘MNIST.tar.gz.1’\n",
            "\n",
            "MNIST.tar.gz.1          [          <=>       ]  33.20M  16.1MB/s    in 2.1s    \n",
            "\n",
            "2021-05-28 09:28:41 (16.1 MB/s) - ‘MNIST.tar.gz.1’ saved [34813078]\n",
            "\n"
          ],
          "name": "stdout"
        }
      ]
    },
    {
      "cell_type": "code",
      "metadata": {
        "id": "fPx_cAbDsw81"
      },
      "source": [
        "!tar -xf MNIST.tar.gz"
      ],
      "execution_count": 3,
      "outputs": []
    },
    {
      "cell_type": "code",
      "metadata": {
        "colab": {
          "base_uri": "https://localhost:8080/"
        },
        "id": "CTDc3OOnszAF",
        "outputId": "59addef9-8dfc-4a15-a7a9-528a40130c36"
      },
      "source": [
        "!ls MNIST/processed/"
      ],
      "execution_count": 4,
      "outputs": [
        {
          "output_type": "stream",
          "text": [
            "test.pt  training.pt\n"
          ],
          "name": "stdout"
        }
      ]
    },
    {
      "cell_type": "code",
      "metadata": {
        "id": "EfI908QSs0gK"
      },
      "source": [
        "######################################################################\n",
        "\n",
        "def mnist_to_pairs(nb, input, target):\n",
        "    input = torch.functional.F.avg_pool2d(input, kernel_size = 2)\n",
        "    a = torch.randperm(input.size(0))\n",
        "    a = a[:2 * nb].view(nb, 2)\n",
        "    input = torch.cat((input[a[:, 0]], input[a[:, 1]]), 1)\n",
        "    classes = target[a]\n",
        "    target = (classes[:, 0] <= classes[:, 1]).long()\n",
        "    return input, target, classes\n",
        "\n",
        "######################################################################\n",
        "\n",
        "def generate_pair_sets(nb):\n",
        "\n",
        "    train_set = datasets.MNIST('', train = True, download = True)\n",
        "    train_input = train_set.data.view(-1, 1, 28, 28).float()\n",
        "    train_target = train_set.targets\n",
        "\n",
        "    test_set = datasets.MNIST('', train = False, download = True)\n",
        "    test_input = test_set.data.view(-1, 1, 28, 28).float()\n",
        "    test_target = test_set.targets\n",
        "\n",
        "    return mnist_to_pairs(nb, train_input, train_target) + \\\n",
        "           mnist_to_pairs(nb, test_input, test_target)\n",
        "\n",
        "######################################################################"
      ],
      "execution_count": 5,
      "outputs": []
    },
    {
      "cell_type": "code",
      "metadata": {
        "id": "A_Ai-Dzes4N4"
      },
      "source": [
        "train_input , train_target , train_classes , test_input , test_target , test_classes = generate_pair_sets(1000)"
      ],
      "execution_count": 6,
      "outputs": []
    },
    {
      "cell_type": "code",
      "metadata": {
        "id": "7vqBjMRKs9Vx"
      },
      "source": [
        "train_dataset = TensorDataset(train_input,train_target , train_classes)\n",
        "test_dataset = TensorDataset(test_input,test_target , test_classes)"
      ],
      "execution_count": 7,
      "outputs": []
    },
    {
      "cell_type": "code",
      "metadata": {
        "id": "pmWJRpJ7tCml"
      },
      "source": [
        ""
      ],
      "execution_count": 7,
      "outputs": []
    },
    {
      "cell_type": "markdown",
      "metadata": {
        "id": "dIFlfWiRtJWH"
      },
      "source": [
        "# model"
      ]
    },
    {
      "cell_type": "markdown",
      "metadata": {
        "id": "HGhFqueQBbsw"
      },
      "source": [
        "## FCNN"
      ]
    },
    {
      "cell_type": "code",
      "metadata": {
        "id": "J2b1v9_ytK7w"
      },
      "source": [
        "class FCNN_1LAYER(nn.Module):\n",
        "    def __init__(self , **kwargs):\n",
        "        super(FCNN_1LAYER, self).__init__()\n",
        "\n",
        "        nb_n = kwargs[\"nodes_nb\"]\n",
        "\n",
        "        self.input = nn.Linear(2*14*14, nb_n)\n",
        "        self.fc1 = nn.Linear(nb_n, 1)\n",
        "        \n",
        "\n",
        "    def forward(self, x):\n",
        "        x = nn.Flatten(1)(x)\n",
        "        x = torch.relu( self.input(x) )\n",
        "        x = self.fc1(x)\n",
        "        \n",
        "        return torch.sigmoid(x)\n",
        "\n",
        "class FCNN_2LAYER(nn.Module):\n",
        "    def __init__(self , **kwargs):\n",
        "        super(FCNN_2LAYER, self).__init__()\n",
        "\n",
        "\n",
        "        self.input = nn.Linear(2*14*14, 300)\n",
        "        self.fc1 = nn.Linear(300, 50)\n",
        "        self.fc2 = nn.Linear(50, 1)\n",
        "        \n",
        "\n",
        "    def forward(self, x):\n",
        "        x = nn.Flatten(1)(x)\n",
        "        x = torch.relu( self.input(x) )\n",
        "        x = torch.relu( self.fc1(x) )\n",
        "        x = self.fc2(x)\n",
        "        \n",
        "        return torch.sigmoid(x)\n",
        "\n",
        "class FCNN_3LAYER(nn.Module):\n",
        "    def __init__(self , **kwargs):\n",
        "        super(FCNN_3LAYER, self).__init__()\n",
        "\n",
        "\n",
        "        self.input = nn.Linear(2*14*14, 300)\n",
        "        self.fc1 = nn.Linear(300, 150)\n",
        "        self.fc2 = nn.Linear(150, 50)\n",
        "        self.fc3 = nn.Linear(50, 1)\n",
        "\n",
        "        \n",
        "\n",
        "    def forward(self, x):\n",
        "        x = nn.Flatten(1)(x)\n",
        "        x = torch.relu( self.input(x) )\n",
        "        x = torch.relu( self.fc1(x) )\n",
        "        x = torch.relu( self.fc2(x) )\n",
        "        x = self.fc3(x)\n",
        "        \n",
        "        return torch.sigmoid(x)\n",
        "\n",
        "class FCNN_4LAYER(nn.Module):\n",
        "    def __init__(self , **kwargs):\n",
        "        super(FCNN_4LAYER, self).__init__()\n",
        "\n",
        "\n",
        "        self.input = nn.Linear(2*14*14, 300)\n",
        "        self.fc1 = nn.Linear(300, 200)\n",
        "        self.fc2 = nn.Linear(200, 100)\n",
        "        self.fc3 = nn.Linear(100, 50)\n",
        "        self.fc4 = nn.Linear(50, 1)\n",
        "\n",
        "        \n",
        "\n",
        "    def forward(self, x):\n",
        "        x = nn.Flatten(1)(x)\n",
        "        x = torch.relu( self.input(x) )\n",
        "        x = torch.relu( self.fc1(x) )\n",
        "        x = torch.relu( self.fc2(x) )\n",
        "        x = torch.relu( self.fc3(x) )\n",
        "        x = self.fc4(x)\n",
        "        \n",
        "        return torch.sigmoid(x)\n",
        "\n",
        "\n",
        "\n",
        "class FCNN_image_specific(nn.Module):\n",
        "    def __init__(self , **kwargs):\n",
        "        super(FCNN_image_specific, self).__init__()\n",
        "\n",
        "        nb_n = kwargs[\"nodes_nb\"]\n",
        "\n",
        "        self.inputR = nn.Linear(14*14, nb_n)\n",
        "        self.inputL = nn.Linear(14*14, nb_n)\n",
        "        self.fc1R = nn.Linear(nb_n, 10)\n",
        "        self.fc1L = nn.Linear(nb_n, 10)\n",
        "        self.fc2 = nn.Linear(20, 15)\n",
        "        self.fc3 = nn.Linear(15, 1)\n",
        "\n",
        "\n",
        "    def forward(self, x):\n",
        "        x_l = x[:,0,:,:]\n",
        "        x_r = x[:,1,:,:]\n",
        "\n",
        "        x_l = x_l.view(x_l.shape[0] , 1, 14,14)\n",
        "        x_r = x_r.view(x_r.shape[0] , 1, 14,14)\n",
        "\n",
        "        x_l = torch.relu( self.inputL( nn.Flatten(1)(x_l) ) )\n",
        "        x_l = torch.relu( self.fc1L( x_l) ) \n",
        "\n",
        "        x_r = torch.relu( self.inputR(nn.Flatten(1)(x_r)) )\n",
        "        x_r = torch.relu( self.fc1R(x_r) ) \n",
        "\n",
        "        x = torch.relu(self.fc2(torch.cat([x_l , x_r], 1)))\n",
        "        x = self.fc3(x)\n",
        "        return torch.sigmoid(x)"
      ],
      "execution_count": 8,
      "outputs": []
    },
    {
      "cell_type": "markdown",
      "metadata": {
        "id": "IBwYK1mOBgR7"
      },
      "source": [
        "## WS"
      ]
    },
    {
      "cell_type": "code",
      "metadata": {
        "id": "WgsCfJGuBwrc"
      },
      "source": [
        "class WS_FCNN_image_specific1(nn.Module):\n",
        "    def __init__(self , **kwargs):\n",
        "        super(WS_FCNN_image_specific1, self).__init__()\n",
        "\n",
        "        nb_n = kwargs[\"nodes_nb\"]\n",
        "\n",
        "        self.input = nn.Linear(14*14, nb_n)\n",
        "        self.fc1 = nn.Linear(nb_n, 10)\n",
        "\n",
        "        self.fc2 = nn.Linear(20, 15)\n",
        "        self.fc3 = nn.Linear(15, 1)\n",
        "\n",
        "    def forward(self, x):\n",
        "        x_l = x[:,0,:,:]\n",
        "        x_r = x[:,1,:,:]\n",
        "\n",
        "        x_l = x_l.view(x_l.shape[0] , 1, 14,14)\n",
        "        x_r = x_r.view(x_r.shape[0] , 1, 14,14)\n",
        "\n",
        "        x_l = torch.relu( self.input( nn.Flatten(1)(x_l) ) )\n",
        "        x_l = torch.relu( self.fc1( x_l) ) \n",
        "\n",
        "        x_r = torch.relu( self.input(nn.Flatten(1)(x_r)) )\n",
        "        x_r = torch.relu( self.fc1(x_r) ) \n",
        "\n",
        "        x = torch.relu(self.fc2(torch.cat([x_l , x_r], 1)))\n",
        "        x = self.fc3(x)\n",
        "        return torch.sigmoid(x)\n",
        "\n",
        "\n",
        "\n",
        "class CNN_image_specific1(nn.Module):\n",
        "    def __init__(self ,  **kwargs):\n",
        "        super(CNN_image_specific1, self).__init__()\n",
        "\n",
        "        self.conv1l = nn.Conv2d(1, 5, kernel_size=3)\n",
        "        self.conv2l = nn.Conv2d(5, 8, kernel_size=3)\n",
        "\n",
        "        self.fc3l = nn.Linear(800, 200)\n",
        "        self.fc4l = nn.Linear(200, 10)\n",
        "\n",
        "        self.conv1r = nn.Conv2d(1, 5, kernel_size=3)\n",
        "        self.conv2r = nn.Conv2d(5, 8, kernel_size=3)\n",
        "\n",
        "        self.fc3r = nn.Linear(800, 200)\n",
        "        self.fc4r = nn.Linear(200, 10)\n",
        "\n",
        "        self.fc5 = nn.Linear(20, 15)\n",
        "        self.fc6 = nn.Linear(15, 1)\n",
        "        \n",
        "    def forward(self, x):\n",
        "\n",
        "        x_l = x[:,0,:,:]\n",
        "        x_r = x[:,1,:,:]\n",
        "\n",
        "        x_l = x_l.view(x_l.shape[0] , 1, 14,14)\n",
        "        x_r = x_r.view(x_r.shape[0] , 1, 14,14)\n",
        "        \n",
        "        x_l = F.relu(self.conv1l(x_l))\n",
        "        x_r = F.relu(self.conv1r(x_r))\n",
        "\n",
        "        x_l = F.relu(self.conv2l(x_l))\n",
        "        x_r = F.relu(self.conv2r(x_r))\n",
        "\n",
        "        x_l = nn.Flatten(1)(x_l)\n",
        "        x_r = nn.Flatten(1)(x_r)\n",
        "\n",
        "        #print(x1.shape)\n",
        "        x_l = F.relu(self.fc3l(x_l))\n",
        "        x_r = F.relu(self.fc3r(x_r))\n",
        "\n",
        "        x_l = self.fc4l(x_l)\n",
        "        x_r = self.fc4r(x_r)\n",
        "\n",
        "        x = F.relu(self.fc5(torch.cat((\n",
        "            F.relu(x_l),\n",
        "            F.relu(x_r)\n",
        "            ), 1)))\n",
        "        x = self.fc6(x)\n",
        "\n",
        "        return torch.sigmoid(x)\n",
        "\n",
        "\n",
        "class WS_CNN_image_specific1(nn.Module):\n",
        "    def __init__(self ,  **kwargs):\n",
        "        super(WS_CNN_image_specific1, self).__init__()\n",
        "\n",
        "        self.conv1 = nn.Conv2d(1, 5, kernel_size=3)\n",
        "        self.conv2 = nn.Conv2d(5, 8, kernel_size=3)\n",
        "\n",
        "        self.fc3 = nn.Linear(800, 200)\n",
        "        self.fc4 = nn.Linear(200, 10)\n",
        "\n",
        "        self.fc5 = nn.Linear(20, 15)\n",
        "        self.fc6 = nn.Linear(15, 1)\n",
        "        \n",
        "    def forward(self, x):\n",
        "\n",
        "        x_l = x[:,0,:,:]\n",
        "        x_r = x[:,1,:,:]\n",
        "\n",
        "        x_l = x_l.view(x_l.shape[0] , 1, 14,14)\n",
        "        x_r = x_r.view(x_r.shape[0] , 1, 14,14)\n",
        "        \n",
        "        x_l = F.relu(self.conv1(x_l))\n",
        "        x_r = F.relu(self.conv1(x_r))\n",
        "\n",
        "        x_l = F.relu(self.conv2(x_l))\n",
        "        x_r = F.relu(self.conv2(x_r))\n",
        "\n",
        "        x_l = nn.Flatten(1)(x_l)\n",
        "        x_r = nn.Flatten(1)(x_r)\n",
        "\n",
        "        #print(x1.shape)\n",
        "        x_l = F.relu(self.fc3(x_l))\n",
        "        x_r = F.relu(self.fc3(x_r))\n",
        "\n",
        "        x_l = self.fc4(x_l)\n",
        "        x_r = self.fc4(x_r)\n",
        "\n",
        "        x = F.relu(self.fc5(torch.cat((\n",
        "            F.relu(x_l),\n",
        "            F.relu(x_r)\n",
        "            ), 1)))\n",
        "        x = self.fc6(x)\n",
        "\n",
        "        return torch.sigmoid(x)"
      ],
      "execution_count": 9,
      "outputs": []
    },
    {
      "cell_type": "markdown",
      "metadata": {
        "id": "7aqhkboeBiZQ"
      },
      "source": [
        "## AL "
      ]
    },
    {
      "cell_type": "code",
      "metadata": {
        "id": "Bf52hBr1dZSN"
      },
      "source": [
        "class AL_FCNN_image_specific(nn.Module):\n",
        "    def __init__(self , **kwargs):\n",
        "        super(AL_FCNN_image_specific, self).__init__()\n",
        "\n",
        "        nb_n = kwargs[\"nodes_nb\"]\n",
        "\n",
        "        self.inputR = nn.Linear(14*14, nb_n)\n",
        "        self.inputL = nn.Linear(14*14, nb_n)\n",
        "        self.fc1R = nn.Linear(nb_n, 10)\n",
        "        self.fc1L = nn.Linear(nb_n, 10)\n",
        "        self.fc2 = nn.Linear(20, 15)\n",
        "        self.fc3 = nn.Linear(15, 1)\n",
        "\n",
        "\n",
        "    def forward(self, x):\n",
        "        x_l = x[:,0,:,:]\n",
        "        x_r = x[:,1,:,:]\n",
        "\n",
        "        x_l = x_l.view(x_l.shape[0] , 1, 14,14)\n",
        "        x_r = x_r.view(x_r.shape[0] , 1, 14,14)\n",
        "\n",
        "        x_l = torch.relu( self.inputL( nn.Flatten(1)(x_l) ) )\n",
        "        x_l = self.fc1L( x_l)  \n",
        "\n",
        "        x_r = torch.relu( self.inputR(nn.Flatten(1)(x_r)) )\n",
        "        x_r = self.fc1R(x_r)  \n",
        "\n",
        "        x = torch.relu(self.fc2(torch.cat([\n",
        "                                           torch.relu(x_l) ,\n",
        "                                           torch.relu(x_r)\n",
        "                                           ], 1)))\n",
        "        x = self.fc3(x)\n",
        "        return torch.sigmoid(x) , x_l , x_r\n",
        "\n",
        "\n",
        "\n",
        "class AL_WS_FCNN_image_specific1(nn.Module):\n",
        "    def __init__(self , **kwargs):\n",
        "        super(AL_WS_FCNN_image_specific1, self).__init__()\n",
        "\n",
        "        nb_n = kwargs[\"nodes_nb\"]\n",
        "\n",
        "        self.input = nn.Linear(14*14, nb_n)\n",
        "        self.fc1 = nn.Linear(nb_n, 10)\n",
        "\n",
        "        self.fc2 = nn.Linear(20, 15)\n",
        "        self.fc3 = nn.Linear(15, 1)\n",
        "\n",
        "    def forward(self, x):\n",
        "        x_l = x[:,0,:,:]\n",
        "        x_r = x[:,1,:,:]\n",
        "\n",
        "        x_l = x_l.view(x_l.shape[0] , 1, 14,14)\n",
        "        x_r = x_r.view(x_r.shape[0] , 1, 14,14)\n",
        "\n",
        "        x_l = torch.relu( self.input( nn.Flatten(1)(x_l) ) )\n",
        "        x_l = self.fc1( x_l) \n",
        "\n",
        "        x_r = torch.relu( self.input(nn.Flatten(1)(x_r)) )\n",
        "        x_r = self.fc1(x_r)\n",
        "\n",
        "        x = torch.relu(self.fc2(torch.cat([\n",
        "                                           torch.relu(x_l) ,\n",
        "                                           torch.relu(x_r)\n",
        "                                           ], 1)))\n",
        "        x = self.fc3(x)\n",
        "        \n",
        "        \n",
        "        return torch.sigmoid(x) , x_l , x_r\n",
        "\n",
        "\n",
        "\n",
        "class AL_CNN_image_specific1(nn.Module):\n",
        "    def __init__(self ,  **kwargs):\n",
        "        super(AL_CNN_image_specific1, self).__init__()\n",
        "\n",
        "        self.conv1l = nn.Conv2d(1, 5, kernel_size=3)\n",
        "        self.conv2l = nn.Conv2d(5, 8, kernel_size=3)\n",
        "\n",
        "        self.fc3l = nn.Linear(800, 200)\n",
        "        self.fc4l = nn.Linear(200, 10)\n",
        "\n",
        "        self.conv1r = nn.Conv2d(1, 5, kernel_size=3)\n",
        "        self.conv2r = nn.Conv2d(5, 8, kernel_size=3)\n",
        "\n",
        "        self.fc3r = nn.Linear(800, 200)\n",
        "        self.fc4r = nn.Linear(200, 10)\n",
        "\n",
        "        self.fc5 = nn.Linear(20, 15)\n",
        "        self.fc6 = nn.Linear(15, 1)\n",
        "        \n",
        "    def forward(self, x):\n",
        "\n",
        "        x_l = x[:,0,:,:]\n",
        "        x_r = x[:,1,:,:]\n",
        "\n",
        "        x_l = x_l.view(x_l.shape[0] , 1, 14,14)\n",
        "        x_r = x_r.view(x_r.shape[0] , 1, 14,14)\n",
        "        \n",
        "        x_l = F.relu(self.conv1l(x_l))\n",
        "        x_r = F.relu(self.conv1r(x_r))\n",
        "\n",
        "        x_l = F.relu(self.conv2l(x_l))\n",
        "        x_r = F.relu(self.conv2r(x_r))\n",
        "\n",
        "        x_l = nn.Flatten(1)(x_l)\n",
        "        x_r = nn.Flatten(1)(x_r)\n",
        "\n",
        "        #print(x1.shape)\n",
        "        x_l = F.relu(self.fc3l(x_l))\n",
        "        x_r = F.relu(self.fc3r(x_r))\n",
        "\n",
        "        x_l = self.fc4l(x_l)\n",
        "        x_r = self.fc4r(x_r)\n",
        "\n",
        "        x = F.relu(self.fc5(torch.cat((\n",
        "            F.relu(x_l),\n",
        "            F.relu(x_r)\n",
        "            ), 1)))\n",
        "        x = self.fc6(x)\n",
        "\n",
        "        return torch.sigmoid(x) , x_l , x_r\n",
        "\n",
        "\n",
        "\n",
        "class AL_WS_CNN_image_specific(nn.Module):\n",
        "    ## lr = 0.001\n",
        "    def __init__(self ,  **kwargs):\n",
        "        super(AL_WS_CNN_image_specific, self).__init__()\n",
        "\n",
        "        self.conv1 = nn.Conv2d(1, 5, kernel_size=3)\n",
        "        self.conv2 = nn.Conv2d(5, 8, kernel_size=3)\n",
        "\n",
        "        self.fc3 = nn.Linear(800, 200)\n",
        "        self.fc4 = nn.Linear(200, 10)\n",
        "\n",
        "        self.fc5 = nn.Linear(20, 15)\n",
        "        self.fc6 = nn.Linear(15, 1)\n",
        "        \n",
        "    def forward(self, x):\n",
        "\n",
        "        x_l = x[:,0,:,:]\n",
        "        x_r = x[:,1,:,:]\n",
        "\n",
        "        x_l = x_l.view(x_l.shape[0] , 1, 14,14)\n",
        "        x_r = x_r.view(x_r.shape[0] , 1, 14,14)\n",
        "        \n",
        "        x_l = F.relu(self.conv1(x_l))\n",
        "        x_r = F.relu(self.conv1(x_r))\n",
        "\n",
        "        x_l = F.relu(self.conv2(x_l))\n",
        "        x_r = F.relu(self.conv2(x_r))\n",
        "\n",
        "        x_l = nn.Flatten(1)(x_l)\n",
        "        x_r = nn.Flatten(1)(x_r)\n",
        "\n",
        "        #print(x1.shape)\n",
        "        x_l = F.relu(self.fc3(x_l))\n",
        "        x_r = F.relu(self.fc3(x_r))\n",
        "\n",
        "        x_l = self.fc4(x_l)\n",
        "        x_r = self.fc4(x_r)\n",
        "\n",
        "        x = F.relu(self.fc5(torch.cat((\n",
        "            F.relu(x_l),\n",
        "            F.relu(x_r)\n",
        "            ), 1)))\n",
        "        x = self.fc6(x)\n",
        "\n",
        "        return torch.sigmoid(x), x_l, x_r"
      ],
      "execution_count": 10,
      "outputs": []
    },
    {
      "cell_type": "markdown",
      "metadata": {
        "id": "cMvqg1PntMz4"
      },
      "source": [
        "# Train utils"
      ]
    },
    {
      "cell_type": "code",
      "metadata": {
        "id": "DXNo-3JHbtxQ"
      },
      "source": [
        "def custom_loss(output, target, classes, lambda_=1.0):\n",
        "  \"\"\"\n",
        "  Custom loss for network with auxiliary losses. The total loss is a combination\n",
        "  of the loss of the main task (binary cross entropy) and the negative log likelihood\n",
        "  for the two auxiliary tasks. Importance of auxiliary losses is controlled by\n",
        "  the `lambda_` hyperparameter.\n",
        "  \"\"\"\n",
        "  main, im1, im2 = output\n",
        "\n",
        "  main_loss = F.binary_cross_entropy(main.flatten(), target)\n",
        "  aux_loss_1 = F.nll_loss(im1, classes[:, 0])\n",
        "  aux_loss_2 = F.nll_loss(im2, classes[:, 1])\n",
        "\n",
        "  return main_loss + lambda_ * (aux_loss_1 + aux_loss_2)"
      ],
      "execution_count": 11,
      "outputs": []
    },
    {
      "cell_type": "code",
      "metadata": {
        "id": "RKxuzxNebt-J"
      },
      "source": [
        "def handle_loss(criterion_):\n",
        "  \n",
        "  \"\"\"\n",
        "  Handle the fact that the network with auxiliary loss has three-item tuple output,\n",
        "  which needs to be treated separately to compute the loss and the accuracy.\n",
        "  \"\"\"\n",
        "  if criterion_ is F.binary_cross_entropy:\n",
        "    internal_criterion = lambda output, target, _: criterion_(output.flatten(), target)\n",
        "    compute_acc = lambda output, target: (target == torch.round(output.flatten()) ).float()\n",
        "  #elif criterion_ is custom_loss_copy:\n",
        "  #  internal_criterion = criterion_\n",
        "  #  compute_acc = lambda output, target: (target == (torch.argmax(output[0] , dim=1)).flatten() ).float()\n",
        "  else:\n",
        "    internal_criterion = criterion_\n",
        "    compute_acc = lambda output, target: (target == torch.round(output[0].flatten()) ).float()\n",
        "    \n",
        "  return internal_criterion, compute_acc"
      ],
      "execution_count": 12,
      "outputs": []
    },
    {
      "cell_type": "code",
      "metadata": {
        "id": "muAHKJO4tUVT"
      },
      "source": [
        "def train_epoch(network_ , optimizer_ , criterion_ = F.binary_cross_entropy ):\n",
        "  \n",
        "  internal_criterion, compute_acc = handle_loss(criterion_)\n",
        "\n",
        "  loss_tot = []\n",
        "  acc_tot = []\n",
        "  network_.train()\n",
        "  for batch_idx, (data, target , classes ) in enumerate(train_dataloader):\n",
        "    optimizer_.zero_grad()\n",
        "    output = network_(data)\n",
        "    loss = internal_criterion(output, target.to(torch.float32), classes)\n",
        "    loss.backward()\n",
        "    optimizer_.step()\n",
        "\n",
        "    loss_tot.append(loss.item())\n",
        "    acc_tot.append( compute_acc(output, target) )\n",
        "    \n",
        "  return torch.FloatTensor(loss_tot).mean().item() , torch.cat(acc_tot).mean().item()"
      ],
      "execution_count": 13,
      "outputs": []
    },
    {
      "cell_type": "code",
      "metadata": {
        "id": "UhYLkxfdxDjN"
      },
      "source": [
        "def test(network_ , criterion_ = F.binary_cross_entropy):\n",
        "  \n",
        "  internal_criterion, compute_acc = handle_loss(criterion_)\n",
        "\n",
        "  network_.eval()\n",
        "  test_loss = []\n",
        "  acc = []\n",
        "\n",
        "  with torch.no_grad():\n",
        "    for data, target , classes in test_dataloader:\n",
        "      output = network_(data)\n",
        "      loss = internal_criterion(output, target.to(torch.float32), classes)\n",
        "      test_loss.append( loss.item() )\n",
        "      acc.append( compute_acc(output, target) )\n",
        "\n",
        "  \n",
        "  return torch.FloatTensor(test_loss).mean().item() , torch.cat(acc).mean().item()"
      ],
      "execution_count": 14,
      "outputs": []
    },
    {
      "cell_type": "code",
      "metadata": {
        "id": "yorhnoWxxH6p"
      },
      "source": [
        "def train(network_ , optimizer_ , criterion_ = F.binary_cross_entropy ,epoch_nb = 30,   debug_ = True):\n",
        "\n",
        "  tot_train_loss = []\n",
        "  tot_train_acc = []\n",
        "  tot_test_loss = []\n",
        "  tot_test_acc = []\n",
        "\n",
        "\n",
        "  for epoch in range(epoch_nb):\n",
        "\n",
        "    train_loss , train_acc = train_epoch(network_ , optimizer_ , criterion_)\n",
        "    test_loss , test_acc = test(network_ , criterion_)\n",
        "\n",
        "    tot_train_loss.append(train_loss)\n",
        "    tot_train_acc.append(train_acc)\n",
        "    tot_test_loss.append(test_loss)\n",
        "    tot_test_acc.append(test_acc)\n",
        "\n",
        "    if(debug_):\n",
        "      print(epoch, train_loss , train_acc , test_loss , test_acc)\n",
        "\n",
        "  return tot_train_loss , tot_train_acc , tot_test_loss , tot_test_acc"
      ],
      "execution_count": 15,
      "outputs": []
    },
    {
      "cell_type": "markdown",
      "metadata": {
        "id": "eHFHCVnxxSvH"
      },
      "source": [
        "# Stat train utils"
      ]
    },
    {
      "cell_type": "code",
      "metadata": {
        "id": "bNzlXjaRxcjN"
      },
      "source": [
        "def train_multiple_runs( network_class , runs  , epoch  , lr_  , criterion_ , **kwargs):\n",
        "  all_train_loss , all_train_acc , all_test_loss , all_test_acc = [],[],[],[]\n",
        "  \n",
        "  for i in range(runs):\n",
        "    n = network_class(**kwargs)\n",
        "    optimizer = optim.Adam(n.parameters(), lr=lr_)\n",
        "    criterion = criterion_\n",
        "\n",
        "    tot_train_loss , tot_train_acc , tot_test_loss , tot_test_acc = train(n , optimizer , criterion , epoch , debug_ = False)\n",
        "    all_train_loss.append(tot_train_loss)\n",
        "    all_train_acc.append(tot_train_acc)\n",
        "    all_test_loss.append(tot_test_loss)\n",
        "    all_test_acc.append(tot_test_acc)\n",
        "\n",
        "  return all_train_loss , all_train_acc , all_test_loss , all_test_acc"
      ],
      "execution_count": 16,
      "outputs": []
    },
    {
      "cell_type": "code",
      "metadata": {
        "id": "uGc7jz2vxeY-"
      },
      "source": [
        "def plot_std_loss_acc(all_train_loss , all_train_acc , all_test_loss , all_test_acc , color = ''):\n",
        "  \n",
        "  trl_mean = torch.mean(torch.tensor(all_train_loss), dim = 0)\n",
        "  tra_mean = torch.mean(torch.tensor(all_train_acc), dim = 0)\n",
        "  tel_mean = torch.mean(torch.tensor(all_test_loss), dim = 0)\n",
        "  tea_mean = torch.mean(torch.tensor(all_test_acc), dim = 0)\n",
        "\n",
        "  trl_std = torch.std(torch.tensor(all_train_loss), dim = 0)\n",
        "  tra_std = torch.std(torch.tensor(all_train_acc), dim = 0)\n",
        "  tel_std = torch.std(torch.tensor(all_test_loss), dim = 0)\n",
        "  tea_std = torch.std(torch.tensor(all_test_acc), dim = 0)\n",
        "\n",
        "  epochs = range(1, len(tea_std)+1 )\n",
        "\n",
        "  #early_stopping = np.argmin( tel_mean )\n",
        "  #print(f\"at epoch {early_stopping} mean test acc : { tea_mean[early_stopping] }\")\n",
        "  print(f\"mean last test acc : { tea_mean [-1] }\")\n",
        "  print(f\"std  last test acc : { tea_std  [-1] }\")\n",
        "\n",
        "  temp = [ [trl_mean , trl_std , 'g' , 'trl'] ,\n",
        "          [tel_mean , tel_std  , 'b' , 'tel'] ,\n",
        "          [tra_mean , tra_std  , 'r' , 'tra'] ,\n",
        "          [tea_mean , tea_std  , 'y' , 'tea'] ]\n",
        "\n",
        "  if color != '':\n",
        "    plt.plot( epochs , tea_mean , c=color )\n",
        "    plt.fill_between(epochs, tea_mean-tea_std, tea_mean+tea_std ,alpha=0.1 , color=color )\n",
        "    #plt.ylim((-0.1,1.1))\n",
        "    return\n",
        "\n",
        "  for g in temp : \n",
        "    plt.plot( epochs , g[0] , c=g[2] , label = g[3])\n",
        "    plt.fill_between(epochs, g[0]-g[1], g[0]+g[1] ,alpha=0.3 , color=g[2] )\n",
        "\n",
        "  plt.legend()\n",
        "  plt.ylim((-0.1,1.1))\n",
        "  plt.show()"
      ],
      "execution_count": 17,
      "outputs": []
    },
    {
      "cell_type": "markdown",
      "metadata": {
        "id": "kiiNjvQ-31-y"
      },
      "source": [
        "# Testing"
      ]
    },
    {
      "cell_type": "code",
      "metadata": {
        "id": "2wlX038rxefV"
      },
      "source": [
        "def custom_loss_BCELoss_CELoss(output, target, classes):\n",
        "    \n",
        "    main, im1, im2 = output\n",
        "\n",
        "    criterion_im = nn.CrossEntropyLoss()\n",
        "    criterion = F.binary_cross_entropy\n",
        "    \n",
        "    aux_loss_1 = criterion_im(im1, classes[:, 0].long())\n",
        "    aux_loss_2 = criterion_im(im2, classes[:, 1].long())\n",
        "    main_loss = criterion(main.flatten(), target) \n",
        "\n",
        "    return main_loss + aux_loss_1 + aux_loss_2 "
      ],
      "execution_count": 18,
      "outputs": []
    },
    {
      "cell_type": "code",
      "metadata": {
        "id": "kYZhg29p14gV"
      },
      "source": [
        "\n",
        "\n"
      ],
      "execution_count": 18,
      "outputs": []
    },
    {
      "cell_type": "code",
      "metadata": {
        "id": "5sdvCxRbtPQE"
      },
      "source": [
        "# BATCH SIZE !\n",
        "train_dataloader = DataLoader(train_dataset , batch_size=20)\n",
        "test_dataloader  = DataLoader(test_dataset  , batch_size=20)"
      ],
      "execution_count": 19,
      "outputs": []
    },
    {
      "cell_type": "code",
      "metadata": {
        "colab": {
          "base_uri": "https://localhost:8080/",
          "height": 301
        },
        "id": "N0UWN7ukmG7-",
        "outputId": "26f7986f-28e0-4640-c754-411fdeed526f"
      },
      "source": [
        "all_train_loss , all_train_acc , all_test_loss , all_test_acc = train_multiple_runs( AL_WS_FCNN_image_specific1 ,\n",
        "                                                                                     runs = 2 ,\n",
        "                                                                                     epoch = 25 ,\n",
        "                                                                                     lr_= 0.0005 ,\n",
        "                                                                                     criterion_ = custom_loss_BCELoss_CELoss,\n",
        "                                                                                     nodes_nb = 1000 )\n",
        "plot_std_loss_acc(all_train_loss , all_train_acc , all_test_loss , all_test_acc )"
      ],
      "execution_count": 20,
      "outputs": [
        {
          "output_type": "stream",
          "text": [
            "mean last test acc : 0.8884999752044678\n",
            "std  last test acc : 0.004949768073856831\n"
          ],
          "name": "stdout"
        },
        {
          "output_type": "display_data",
          "data": {
            "image/png": "[encoded data removed]",
            "text/plain": [
              "<Figure size 432x288 with 1 Axes>"
            ]
          },
          "metadata": {
            "tags": [],
            "needs_background": "light"
          }
        }
      ]
    },
    {
      "cell_type": "code",
      "metadata": {
        "id": "_mB5RdSK3pnG"
      },
      "source": [
        "RUN   = 10\n",
        "EPOCH = 25"
      ],
      "execution_count": 21,
      "outputs": []
    },
    {
      "cell_type": "code",
      "metadata": {
        "id": "-onhTcvnCJpg",
        "colab": {
          "base_uri": "https://localhost:8080/",
          "height": 701
        },
        "outputId": "a836e2a6-14e8-4eb3-b930-f7f0cc395527"
      },
      "source": [
        "###########################################################################\n",
        "######################### AL GRAPH ########################################\n",
        "###########################################################################\n",
        "\n",
        "stats = [\n",
        "         [1000  ,0.0005  ,'r' , WS_FCNN_image_specific1       , F.binary_cross_entropy ] ,\n",
        "         [1000  ,0.0005  ,'r' , AL_WS_FCNN_image_specific1    , custom_loss_BCELoss_CELoss ] ,\n",
        "\n",
        "\n",
        "         [1000  ,0.0005  ,'black' , FCNN_image_specific     , F.binary_cross_entropy ] ,\n",
        "         [1000  ,0.0005  ,'black' , AL_FCNN_image_specific  , custom_loss_BCELoss_CELoss ] ,\n",
        "\n",
        "\n",
        "         [_     ,0.0008 , 'y' ,CNN_image_specific1          , F.binary_cross_entropy ] ,\n",
        "         [_     ,0.0008 , 'y' ,AL_CNN_image_specific1       , custom_loss_BCELoss_CELoss ] ,\n",
        "\n",
        "         [_     ,0.0013  , 'b' ,WS_CNN_image_specific1       , F.binary_cross_entropy ] ,\n",
        "         [_     ,0.002  , 'b' ,AL_WS_CNN_image_specific     , custom_loss_BCELoss_CELoss ] ,\n",
        "         ]\n",
        "\n",
        "for el in stats:\n",
        "  print(f'--- configuration : {el}')\n",
        "  all_train_loss , all_train_acc , all_test_loss , all_test_acc = train_multiple_runs( el[3] ,\n",
        "                                                                                     runs = RUN ,\n",
        "                                                                                     epoch = EPOCH ,\n",
        "                                                                                     lr_= el[1] ,\n",
        "                                                                                     criterion_ = el[4],\n",
        "                                                                                     nodes_nb = el[0] )\n",
        "  plot_std_loss_acc(all_train_loss , all_train_acc , all_test_loss , all_test_acc , color = el[2])\n"
      ],
      "execution_count": 26,
      "outputs": [
        {
          "output_type": "stream",
          "text": [
            "--- configuration : [1000, 0.0005, 'r', <class '__main__.WS_FCNN_image_specific1'>, <function binary_cross_entropy at 0x7f29196c58c0>]\n",
            "mean last test acc : 0.829300045967102\n",
            "std  last test acc : 0.009821177460253239\n",
            "--- configuration : [1000, 0.0005, 'r', <class '__main__.AL_WS_FCNN_image_specific1'>, <function custom_loss_BCELoss_CELoss at 0x7f2916e199e0>]\n",
            "mean last test acc : 0.8788999319076538\n",
            "std  last test acc : 0.016562672331929207\n",
            "--- configuration : [1000, 0.0005, 'black', <class '__main__.FCNN_image_specific'>, <function binary_cross_entropy at 0x7f29196c58c0>]\n",
            "mean last test acc : 0.8237000703811646\n",
            "std  last test acc : 0.007211871910840273\n",
            "--- configuration : [1000, 0.0005, 'black', <class '__main__.AL_FCNN_image_specific'>, <function custom_loss_BCELoss_CELoss at 0x7f2916e199e0>]\n",
            "mean last test acc : 0.8673999905586243\n",
            "std  last test acc : 0.009979985654354095\n",
            "--- configuration : [404, 0.0008, 'y', <class '__main__.CNN_image_specific1'>, <function binary_cross_entropy at 0x7f29196c58c0>]\n",
            "mean last test acc : 0.8116000294685364\n",
            "std  last test acc : 0.012303558178246021\n",
            "--- configuration : [404, 0.0008, 'y', <class '__main__.AL_CNN_image_specific1'>, <function custom_loss_BCELoss_CELoss at 0x7f2916e199e0>]\n",
            "mean last test acc : 0.8590999841690063\n",
            "std  last test acc : 0.012059577740728855\n",
            "--- configuration : [404, 0.0013, 'b', <class '__main__.WS_CNN_image_specific1'>, <function binary_cross_entropy at 0x7f29196c58c0>]\n",
            "mean last test acc : 0.8454000353813171\n",
            "std  last test acc : 0.010521926917135715\n",
            "--- configuration : [404, 0.002, 'b', <class '__main__.AL_WS_CNN_image_specific'>, <function custom_loss_BCELoss_CELoss at 0x7f2916e199e0>]\n",
            "mean last test acc : 0.9006999731063843\n",
            "std  last test acc : 0.01542040053755045\n"
          ],
          "name": "stdout"
        },
        {
          "output_type": "display_data",
          "data": {
            "image/png": "[encoded data removed]",
            "text/plain": [
              "<Figure size 432x288 with 1 Axes>"
            ]
          },
          "metadata": {
            "tags": [],
            "needs_background": "light"
          }
        }
      ]
    },
    {
      "cell_type": "code",
      "metadata": {
        "colab": {
          "base_uri": "https://localhost:8080/",
          "height": 485
        },
        "id": "PQxNX9AX1ubl",
        "outputId": "8fb97d35-2509-49ff-8803-b0c396e31bb8"
      },
      "source": [
        "###########################################################################\n",
        "######################### WS GRAPH ########################################\n",
        "###########################################################################\n",
        "\n",
        "stats = [\n",
        "         [1000  ,0.0005  ,'r' , WS_FCNN_image_specific1] ,\n",
        "         [1000  ,0.0005  ,'black' , FCNN_image_specific   ] ,\n",
        "         [_     ,0.0008 , 'y' ,CNN_image_specific1 ] ,\n",
        "         [_     ,0.0012 , 'b' ,WS_CNN_image_specific1 ] ,\n",
        "         ]\n",
        "\n",
        "for el in stats:\n",
        "  print(f'--- configuration : {el}')\n",
        "  all_train_loss , all_train_acc , all_test_loss , all_test_acc = train_multiple_runs( el[3] ,\n",
        "                                                                                     runs = 5 ,\n",
        "                                                                                     epoch = EPOCH ,\n",
        "                                                                                     lr_= el[1] ,\n",
        "                                                                                     criterion_ = F.binary_cross_entropy,\n",
        "                                                                                     nodes_nb = el[0] )\n",
        "  plot_std_loss_acc(all_train_loss , all_train_acc , all_test_loss , all_test_acc , color = el[2])"
      ],
      "execution_count": 29,
      "outputs": [
        {
          "output_type": "stream",
          "text": [
            "--- configuration : [1000, 0.0005, 'r', <class '__main__.WS_FCNN_image_specific1'>]\n",
            "mean last test acc : 0.8331999778747559\n",
            "std  last test acc : 0.01625424437224865\n",
            "--- configuration : [1000, 0.0005, 'black', <class '__main__.FCNN_image_specific'>]\n",
            "mean last test acc : 0.8144000172615051\n",
            "std  last test acc : 0.017213372513651848\n",
            "--- configuration : [404, 0.0008, 'y', <class '__main__.CNN_image_specific1'>]\n",
            "mean last test acc : 0.813800036907196\n",
            "std  last test acc : 0.019766122102737427\n",
            "--- configuration : [404, 0.0012, 'b', <class '__main__.WS_CNN_image_specific1'>]\n",
            "mean last test acc : 0.8378000259399414\n",
            "std  last test acc : 0.006833723746240139\n"
          ],
          "name": "stdout"
        },
        {
          "output_type": "display_data",
          "data": {
            "image/png": "[encoded data removed]",
            "text/plain": [
              "<Figure size 432x288 with 1 Axes>"
            ]
          },
          "metadata": {
            "tags": [],
            "needs_background": "light"
          }
        }
      ]
    },
    {
      "cell_type": "code",
      "metadata": {
        "colab": {
          "base_uri": "https://localhost:8080/",
          "height": 865
        },
        "id": "0Tp1IUGDtsGY",
        "outputId": "af05d87c-6de5-484c-88e2-029dc9b3c067"
      },
      "source": [
        "###########################################################################\n",
        "####################### FCNN GRAPH ########################################\n",
        "###########################################################################\n",
        "\n",
        "stats = [[200  ,0.001  ,'r' , FCNN_image_specific] ,\n",
        "         [500  ,0.001  ,'r' , FCNN_image_specific] ,\n",
        "         [700  ,0.0007 ,'r' , FCNN_image_specific] ,\n",
        "         [1000 ,0.0005 ,'r' , FCNN_image_specific] ,\n",
        "         [1500 ,0.0002 ,'r' , FCNN_image_specific] ,\n",
        "         \n",
        "         [200 ,0.0004   ,'b', FCNN_1LAYER],\n",
        "         [500 ,0.00025  ,'b', FCNN_1LAYER],\n",
        "         #[700 ,0.00015  ,'b', FCNN_1LAYER],\n",
        "         [1000,0.00015  ,'b', FCNN_1LAYER],\n",
        "\n",
        "         [ _ ,0.0001 ,'g', FCNN_2LAYER],\n",
        "         [ _ ,0.0005 ,'g', FCNN_3LAYER],\n",
        "         [ _ ,0.0005 ,'g', FCNN_4LAYER]\n",
        "         \n",
        "         ]\n",
        "\n",
        "for el in stats:\n",
        "  print(f'--- configuration : {el}')\n",
        "  all_train_loss , all_train_acc , all_test_loss , all_test_acc = train_multiple_runs( el[3] ,\n",
        "                                                                                     runs = RUN ,\n",
        "                                                                                     epoch = EPOCH ,\n",
        "                                                                                     lr_= el[1] ,\n",
        "                                                                                     criterion_ = F.binary_cross_entropy,\n",
        "                                                                                     nodes_nb = el[0] )\n",
        "  plot_std_loss_acc(all_train_loss , all_train_acc , all_test_loss , all_test_acc , color = el[2])"
      ],
      "execution_count": 28,
      "outputs": [
        {
          "output_type": "stream",
          "text": [
            "--- configuration : [200, 0.001, 'r', <class '__main__.FCNN_image_specific'>]\n",
            "mean last test acc : 0.8199999928474426\n",
            "std  last test acc : 0.007673902437090874\n",
            "--- configuration : [500, 0.001, 'r', <class '__main__.FCNN_image_specific'>]\n",
            "mean last test acc : 0.8179000020027161\n",
            "std  last test acc : 0.012013421393930912\n",
            "--- configuration : [700, 0.0007, 'r', <class '__main__.FCNN_image_specific'>]\n",
            "mean last test acc : 0.819599986076355\n",
            "std  last test acc : 0.014751270413398743\n",
            "--- configuration : [1000, 0.0005, 'r', <class '__main__.FCNN_image_specific'>]\n",
            "mean last test acc : 0.8166000247001648\n",
            "std  last test acc : 0.013351654633879662\n",
            "--- configuration : [1500, 0.0002, 'r', <class '__main__.FCNN_image_specific'>]\n",
            "mean last test acc : 0.8033000230789185\n",
            "std  last test acc : 0.01717911846935749\n",
            "--- configuration : [200, 0.0004, 'b', <class '__main__.FCNN_1LAYER'>]\n",
            "mean last test acc : 0.7840999364852905\n",
            "std  last test acc : 0.012431598268449306\n",
            "--- configuration : [500, 0.00025, 'b', <class '__main__.FCNN_1LAYER'>]\n",
            "mean last test acc : 0.7912999987602234\n",
            "std  last test acc : 0.009534137323498726\n",
            "--- configuration : [1000, 0.00015, 'b', <class '__main__.FCNN_1LAYER'>]\n",
            "mean last test acc : 0.7926999926567078\n",
            "std  last test acc : 0.009809862822294235\n",
            "--- configuration : [404, 0.0001, 'g', <class '__main__.FCNN_2LAYER'>]\n",
            "mean last test acc : 0.7896000146865845\n",
            "std  last test acc : 0.008643566630780697\n",
            "--- configuration : [404, 0.0005, 'g', <class '__main__.FCNN_3LAYER'>]\n",
            "mean last test acc : 0.8205000162124634\n",
            "std  last test acc : 0.005873675458133221\n",
            "--- configuration : [404, 0.0005, 'g', <class '__main__.FCNN_4LAYER'>]\n",
            "mean last test acc : 0.8194999694824219\n",
            "std  last test acc : 0.005720330402255058\n"
          ],
          "name": "stdout"
        },
        {
          "output_type": "display_data",
          "data": {
            "image/png": "[encoded data removed]",
            "text/plain": [
              "<Figure size 432x288 with 1 Axes>"
            ]
          },
          "metadata": {
            "tags": [],
            "needs_background": "light"
          }
        }
      ]
    },
    {
      "cell_type": "code",
      "metadata": {
        "id": "YUsanCBi3-pw"
      },
      "source": [
        ""
      ],
      "execution_count": 24,
      "outputs": []
    },
    {
      "cell_type": "code",
      "metadata": {
        "id": "lxgeqgO0CItr",
        "colab": {
          "base_uri": "https://localhost:8080/"
        },
        "outputId": "4a43b485-c74f-4c34-942f-679cbe909587"
      },
      "source": [
        "## Brute force lr investigation\n",
        "\n",
        "'''\n",
        "for lr in [0.00005 , 0.00007 , 0.0001 , 0.00015 , 0.0002 , 0.00025 , 0.0003 , 0.0004]:\n",
        "  print(f'at LR = {lr}')\n",
        "  all_train_loss , all_train_acc , all_test_loss , all_test_acc = train_multiple_runs( WS_CNN_image_specific ,\n",
        "                                                                                     runs = 1 ,\n",
        "                                                                                     epoch = 25 ,\n",
        "                                                                                     lr_= lr ,\n",
        "                                                                                     criterion_ = F.binary_cross_entropy,\n",
        "                                                                                     nodes_nb = _ )\n",
        "  plot_std_loss_acc(all_train_loss , all_train_acc , all_test_loss , all_test_acc)\n",
        "  '''\n",
        "\n",
        "\n",
        "404"
      ],
      "execution_count": 25,
      "outputs": [
        {
          "output_type": "execute_result",
          "data": {
            "text/plain": [
              "404"
            ]
          },
          "metadata": {
            "tags": []
          },
          "execution_count": 25
        }
      ]
    },
    {
      "cell_type": "code",
      "metadata": {
        "id": "kyYQYYAc32Lg"
      },
      "source": [
        ""
      ],
      "execution_count": 25,
      "outputs": []
    }
  ]
}