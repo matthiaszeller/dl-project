{
  "nbformat": 4,
  "nbformat_minor": 0,
  "metadata": {
    "colab": {
      "name": "Hybrid_Model.ipynb",
      "provenance": [],
      "collapsed_sections": [
        "KA3Ui4BnShQu",
        "jYg-E2UB8Flj"
      ],
      "toc_visible": true,
      "include_colab_link": true
    },
    "kernelspec": {
      "name": "python3",
      "display_name": "Python 3"
    }
  },
  "cells": [
    {
      "cell_type": "markdown",
      "metadata": {
        "id": "view-in-github",
        "colab_type": "text"
      },
      "source": [
        "<a href=\"https://colab.research.google.com/github/matthiaszeller/dl-project/blob/main/Hybrid_Model.ipynb\" target=\"_parent\"><img src=\"https://colab.research.google.com/assets/colab-badge.svg\" alt=\"Open In Colab\"/></a>"
      ]
    },
    {
      "cell_type": "code",
      "metadata": {
        "id": "LaNz2YYhwbXx"
      },
      "source": [
        "import torch\r\n",
        "from torchvision import datasets\r\n",
        "import matplotlib.pyplot as plt\r\n",
        "from torch.utils.data import TensorDataset, DataLoader\r\n",
        "\r\n",
        "import torch.nn as nn\r\n",
        "import torch.nn.functional as F\r\n",
        "import torch.optim as optim\r\n",
        "\r\n",
        "import os"
      ],
      "execution_count": 1,
      "outputs": []
    },
    {
      "cell_type": "markdown",
      "metadata": {
        "id": "jAzBfBHS0yjp"
      },
      "source": [
        "# dataset build"
      ]
    },
    {
      "cell_type": "code",
      "metadata": {
        "colab": {
          "base_uri": "https://localhost:8080/"
        },
        "id": "nsfGSYY9QaKA",
        "outputId": "793cfc46-1ca7-48c4-e00d-4c223578811c"
      },
      "source": [
        "!wget www.di.ens.fr/~lelarge/MNIST.tar.gz"
      ],
      "execution_count": 2,
      "outputs": [
        {
          "output_type": "stream",
          "text": [
            "--2021-03-17 19:08:02--  http://www.di.ens.fr/~lelarge/MNIST.tar.gz\n",
            "Resolving www.di.ens.fr (www.di.ens.fr)... 129.199.99.14\n",
            "Connecting to www.di.ens.fr (www.di.ens.fr)|129.199.99.14|:80... connected.\n",
            "HTTP request sent, awaiting response... 302 Found\n",
            "Location: https://www.di.ens.fr/~lelarge/MNIST.tar.gz [following]\n",
            "--2021-03-17 19:08:02--  https://www.di.ens.fr/~lelarge/MNIST.tar.gz\n",
            "Connecting to www.di.ens.fr (www.di.ens.fr)|129.199.99.14|:443... connected.\n",
            "HTTP request sent, awaiting response... 200 OK\n",
            "Length: unspecified [application/x-gzip]\n",
            "Saving to: ‘MNIST.tar.gz.1’\n",
            "\n",
            "MNIST.tar.gz.1          [           <=>      ]  33.20M  14.7MB/s    in 2.3s    \n",
            "\n",
            "2021-03-17 19:08:05 (14.7 MB/s) - ‘MNIST.tar.gz.1’ saved [34813078]\n",
            "\n"
          ],
          "name": "stdout"
        }
      ]
    },
    {
      "cell_type": "code",
      "metadata": {
        "id": "6_TIp4ACQhpr"
      },
      "source": [
        "!tar -xf MNIST.tar.gz\r\n"
      ],
      "execution_count": 3,
      "outputs": []
    },
    {
      "cell_type": "code",
      "metadata": {
        "colab": {
          "base_uri": "https://localhost:8080/"
        },
        "id": "adfc8yshRCUe",
        "outputId": "8b8aa386-eef0-4e53-90de-bb795eee5cc7"
      },
      "source": [
        "!ls MNIST/processed/"
      ],
      "execution_count": 4,
      "outputs": [
        {
          "output_type": "stream",
          "text": [
            "test.pt  training.pt\n"
          ],
          "name": "stdout"
        }
      ]
    },
    {
      "cell_type": "code",
      "metadata": {
        "id": "e6oc9g2JyCEw"
      },
      "source": [
        "######################################################################\r\n",
        "\r\n",
        "def mnist_to_pairs(nb, input, target):\r\n",
        "    input = torch.functional.F.avg_pool2d(input, kernel_size = 2)\r\n",
        "    a = torch.randperm(input.size(0))\r\n",
        "    a = a[:2 * nb].view(nb, 2)\r\n",
        "    input = torch.cat((input[a[:, 0]], input[a[:, 1]]), 1)\r\n",
        "    classes = target[a]\r\n",
        "    target = (classes[:, 0] <= classes[:, 1]).long()\r\n",
        "    return input, target, classes\r\n",
        "\r\n",
        "######################################################################\r\n",
        "\r\n",
        "def generate_pair_sets(nb):\r\n",
        "\r\n",
        "    train_set = datasets.MNIST('', train = True, download = True)\r\n",
        "    train_input = train_set.data.view(-1, 1, 28, 28).float()\r\n",
        "    train_target = train_set.targets\r\n",
        "\r\n",
        "    test_set = datasets.MNIST('', train = False, download = True)\r\n",
        "    test_input = test_set.data.view(-1, 1, 28, 28).float()\r\n",
        "    test_target = test_set.targets\r\n",
        "\r\n",
        "    return mnist_to_pairs(nb, train_input, train_target) + \\\r\n",
        "           mnist_to_pairs(nb, test_input, test_target)\r\n",
        "\r\n",
        "######################################################################"
      ],
      "execution_count": 5,
      "outputs": []
    },
    {
      "cell_type": "code",
      "metadata": {
        "id": "av161kLTFpWj"
      },
      "source": [
        "train_input , train_target , train_classes , test_input , test_target , test_classes = generate_pair_sets(1000)"
      ],
      "execution_count": 13,
      "outputs": []
    },
    {
      "cell_type": "code",
      "metadata": {
        "colab": {
          "base_uri": "https://localhost:8080/",
          "height": 531
        },
        "id": "XGi49cC5F1T3",
        "outputId": "fea57762-a50d-408f-d219-84738c6495f6"
      },
      "source": [
        "plt.imshow( train_input[0][0].numpy() ) \r\n",
        "plt.show()\r\n",
        "plt.imshow( train_input[0][1].numpy() ) \r\n",
        "plt.show()\r\n",
        "print(f'train shape : {train_input.shape}')"
      ],
      "execution_count": 14,
      "outputs": [
        {
          "output_type": "display_data",
          "data": {
            "image/png": "[encoded data removed]",
            "text/plain": [
              "<Figure size 432x288 with 1 Axes>"
            ]
          },
          "metadata": {
            "tags": [],
            "needs_background": "light"
          }
        },
        {
          "output_type": "display_data",
          "data": {
            "image/png": "[encoded data removed]",
            "text/plain": [
              "<Figure size 432x288 with 1 Axes>"
            ]
          },
          "metadata": {
            "tags": [],
            "needs_background": "light"
          }
        },
        {
          "output_type": "stream",
          "text": [
            "train shape : torch.Size([1000, 2, 14, 14])\n"
          ],
          "name": "stdout"
        }
      ]
    },
    {
      "cell_type": "code",
      "metadata": {
        "id": "ImsRSpztHZ_Z"
      },
      "source": [
        "train_dataset = TensorDataset(train_input,train_target , train_classes)\r\n",
        "train_dataloader = DataLoader(train_dataset , batch_size=100)\r\n",
        "\r\n",
        "test_dataset = TensorDataset(test_input,test_target , test_classes)\r\n",
        "test_dataloader = DataLoader(test_dataset , batch_size=100)\r\n"
      ],
      "execution_count": 16,
      "outputs": []
    },
    {
      "cell_type": "code",
      "metadata": {
        "colab": {
          "base_uri": "https://localhost:8080/"
        },
        "id": "7waMxKoqHaCF",
        "outputId": "2b36f49a-7d2e-46a5-e70e-432d32bd84be"
      },
      "source": [
        "for el in train_dataloader:\r\n",
        "  # image , target, classes\r\n",
        "  print(el[0].shape, el[1].shape, el[2].shape)\r\n",
        "  break"
      ],
      "execution_count": 9,
      "outputs": [
        {
          "output_type": "stream",
          "text": [
            "torch.Size([100, 2, 14, 14]) torch.Size([100]) torch.Size([100, 2])\n"
          ],
          "name": "stdout"
        }
      ]
    },
    {
      "cell_type": "markdown",
      "metadata": {
        "id": "9_wIH-M8g0MS"
      },
      "source": [
        "# Models"
      ]
    },
    {
      "cell_type": "code",
      "metadata": {
        "id": "6NDo4PotHZye"
      },
      "source": [
        "class FullyDenseNet(nn.Module):\r\n",
        "    def __init__(self):\r\n",
        "        super(FullyDenseNet, self).__init__()\r\n",
        "\r\n",
        "        self.fc1 = nn.Linear(2*14*14, 300)\r\n",
        "        self.fc2 = nn.Linear(300, 200)\r\n",
        "        self.fc3 = nn.Linear(200, 100)\r\n",
        "        self.fc4 = nn.Linear(100, 50)\r\n",
        "        self.fc5 = nn.Linear(50, 1)\r\n",
        "\r\n",
        "    def forward(self, x):\r\n",
        "        x = nn.Flatten(1)(x)\r\n",
        "        x = torch.relu( self.fc1(x) )\r\n",
        "        x = torch.relu( self.fc2(x) )\r\n",
        "        x = torch.relu( self.fc3(x) )\r\n",
        "        x = torch.relu( self.fc4(x) )\r\n",
        "        x = self.fc5(x)\r\n",
        "        return torch.sigmoid(x)"
      ],
      "execution_count": 10,
      "outputs": []
    },
    {
      "cell_type": "markdown",
      "metadata": {
        "id": "6wy_jV2oc7ZS"
      },
      "source": [
        "## CNN Model 3 : Weight Sharing + AL Combined"
      ]
    },
    {
      "cell_type": "code",
      "metadata": {
        "id": "Cl_QtRM3c-mL"
      },
      "source": [
        "class CNN_Model3(nn.Module):\r\n",
        "    def __init__(self):\r\n",
        "        super(CNN_Model3, self).__init__()\r\n",
        "\r\n",
        "        # Network basis: common for all losses\r\n",
        "        # 14 * 14 = 196\r\n",
        "        self.fc1_im1 = nn.Linear(14*14, 100)\r\n",
        "        self.fc1_im2 = nn.Linear(14*14, 100)\r\n",
        "        \r\n",
        "        self.fc2_im1 = nn.Linear(100, 50)\r\n",
        "        self.fc2_im2 = nn.Linear(100, 50)\r\n",
        "        \r\n",
        "        # Auxiliary networks\r\n",
        "        self.fc3 = nn.Linear(50, 10)\r\n",
        "        \r\n",
        "        # Main task\r\n",
        "        self.fc4 = nn.Linear(2*50, 10)\r\n",
        "        self.fc5 = nn.Linear(10, 1)\r\n",
        "\r\n",
        "    def forward(self, x):\r\n",
        "        im1 = nn.Flatten()(x[:, 0, :, :])\r\n",
        "        im2 = nn.Flatten()(x[:, 1, :, :])\r\n",
        "        \r\n",
        "        im1 = torch.relu(self.fc1_im1(im1))\r\n",
        "        im2 = torch.relu(self.fc1_im2(im2))\r\n",
        "        \r\n",
        "        im1 = torch.relu(self.fc2_im1(im1))\r\n",
        "        im2 = torch.relu(self.fc2_im2(im2))\r\n",
        "        \r\n",
        "        # Main task\r\n",
        "        common = torch.cat((im1, im2), dim=1)\r\n",
        "        common = torch.relu(self.fc4(common))\r\n",
        "        common = self.fc5(common)\r\n",
        "        common = torch.sigmoid(common)\r\n",
        "        \r\n",
        "        # Auxiliary networks\r\n",
        "        im1 = self.fc3(im1)\r\n",
        "        im1 = F.softmax(im1, dim=0)\r\n",
        "        \r\n",
        "        im2 = self.fc3(im2)\r\n",
        "        im2 = F.softmax(im2, dim=0)\r\n",
        "        \r\n",
        "        return common, im1, im2"
      ],
      "execution_count": 26,
      "outputs": []
    },
    {
      "cell_type": "markdown",
      "metadata": {
        "id": "KA3Ui4BnShQu"
      },
      "source": [
        "# Train tools"
      ]
    },
    {
      "cell_type": "code",
      "metadata": {
        "id": "4y7rlAqCOvFA"
      },
      "source": [
        "def custom_loss(output, target, classes, lambda_=1.0):\n",
        "  \"\"\"\n",
        "  Custom loss for network with auxiliary losses. The total loss is a combination\n",
        "  of the loss of the main task (binary cross entropy) and the negative log likelihood\n",
        "  for the two auxiliary tasks. Importance of auxiliary losses is controlled by\n",
        "  the `lambda_` hyperparameter.\n",
        "  \"\"\"\n",
        "  main, im1, im2 = output\n",
        "\n",
        "  main_loss = F.binary_cross_entropy(main.flatten(), target)\n",
        "  aux_loss_1 = F.nll_loss(im1, classes[:, 0])\n",
        "  aux_loss_2 = F.nll_loss(im2, classes[:, 1])\n",
        "\n",
        "  return main_loss + lambda_ * (aux_loss_1 + aux_loss_2)"
      ],
      "execution_count": 18,
      "outputs": []
    },
    {
      "cell_type": "code",
      "metadata": {
        "id": "1Fmv6jmZOvFA"
      },
      "source": [
        "def handle_loss(criterion):\n",
        "  \"\"\"\n",
        "  Handle the fact that the network with auxiliary loss has three-item tuple output,\n",
        "  which needs to be treated separately to compute the loss and the accuracy.\n",
        "  \"\"\"\n",
        "  if criterion is not custom_loss:\n",
        "    internal_criterion = lambda output, target, _: criterion(output.flatten(), target)\n",
        "    compute_acc = lambda output, target: (target == torch.round(output.flatten()) ).sum().item()\n",
        "  else:\n",
        "    internal_criterion = criterion\n",
        "    compute_acc = lambda output, target: (target == torch.round(output[0].flatten()) ).sum().item()\n",
        "    \n",
        "  return internal_criterion, compute_acc"
      ],
      "execution_count": 19,
      "outputs": []
    },
    {
      "cell_type": "code",
      "metadata": {
        "id": "i54w5hBmHaES"
      },
      "source": [
        "def train_epoch(network_ , optimizer_ , criterion = F.binary_cross_entropy ):\n",
        "  internal_criterion, compute_acc = handle_loss(criterion)\n",
        "    \n",
        "  loss_tot = []\n",
        "  acc_tot = []\n",
        "  network_.train()\n",
        "  for batch_idx, (data, target , classes ) in enumerate(train_dataloader):\n",
        "    optimizer_.zero_grad()\n",
        "    output = network_(data)\n",
        "    loss = internal_criterion(output, target.to(torch.float32), classes)\n",
        "    loss.backward()\n",
        "    optimizer_.step()\n",
        "\n",
        "    loss_tot.append(loss.item())\n",
        "    acc_tot.append( compute_acc(output, target) )\n",
        "  \n",
        "  return torch.FloatTensor(loss_tot).mean().item() , torch.FloatTensor(acc_tot).mean().item()/100.0"
      ],
      "execution_count": 20,
      "outputs": []
    },
    {
      "cell_type": "code",
      "metadata": {
        "id": "xe7whYlPQoLi"
      },
      "source": [
        "def test(network_ , criterion_ = F.binary_cross_entropy):\n",
        "  internal_criterion, compute_acc = handle_loss(criterion_)\n",
        "\n",
        "  network_.eval()\n",
        "  test_loss = 0\n",
        "  acc = 0\n",
        "\n",
        "  with torch.no_grad():\n",
        "    for data, target , classes in test_dataloader:\n",
        "      output = network_(data)\n",
        "      test_loss += internal_criterion(output, target.to(torch.float32), classes)\n",
        "      acc += compute_acc(output, target)\n",
        "\n",
        "  test_loss /= len(test_dataloader)\n",
        "  acc /= len(test_dataloader)\n",
        "  return test_loss , acc/100.0"
      ],
      "execution_count": 21,
      "outputs": []
    },
    {
      "cell_type": "code",
      "metadata": {
        "id": "MHcA1vKgHaGi"
      },
      "source": [
        "def train(network_ , optimizer_ , criterion_ = F.binary_cross_entropy ,epoch_nb = 30,   debug_ = True):\r\n",
        "\r\n",
        "  tot_train_loss = []\r\n",
        "  tot_train_acc = []\r\n",
        "  tot_test_loss = []\r\n",
        "  tot_test_acc = []\r\n",
        "\r\n",
        "\r\n",
        "  for epoch in range(epoch_nb):\r\n",
        "    train_loss , train_acc = train_epoch(network_ , optimizer_ , criterion_)\r\n",
        "    test_loss , test_acc = test(network_ , criterion_)\r\n",
        "\r\n",
        "    tot_train_loss.append(train_loss)\r\n",
        "    tot_train_acc.append(train_acc)\r\n",
        "    tot_test_loss.append(test_loss)\r\n",
        "    tot_test_acc.append(test_acc)\r\n",
        "\r\n",
        "    if(debug_):\r\n",
        "      print(epoch, f'{train_loss:.4}\\t{train_acc:.4}\\t{test_loss:.4}\\t{test_acc:.4}')\r\n",
        "\r\n",
        "  return tot_train_loss , tot_train_acc , tot_test_loss , tot_test_acc"
      ],
      "execution_count": 22,
      "outputs": []
    },
    {
      "cell_type": "markdown",
      "metadata": {
        "id": "6Zoja7A0SNHd"
      },
      "source": [
        "# Auxiliary task"
      ]
    },
    {
      "cell_type": "code",
      "metadata": {
        "id": "A6Fwn57JOvE-",
        "colab": {
          "base_uri": "https://localhost:8080/"
        },
        "outputId": "2c998e9b-0d1d-4397-d8fc-79baa835798e"
      },
      "source": [
        "net = CNN_Model3()\n",
        "optimizer = optim.SGD(net.parameters(), lr=0.01, momentum=0.5)\n",
        "tot_train_loss , tot_train_acc , tot_test_loss , tot_test_acc = train(net, optimizer, criterion_=custom_loss)"
      ],
      "execution_count": 27,
      "outputs": [
        {
          "output_type": "stream",
          "text": [
            "0 0.9854\t0.536\t0.5902\t0.649\n",
            "1 0.5425\t0.7\t0.5025\t0.714\n",
            "2 0.4646\t0.745\t0.461\t0.744\n",
            "3 0.4157\t0.773\t0.4319\t0.762\n",
            "4 0.3644\t0.79\t0.4136\t0.779\n",
            "5 0.3223\t0.808\t0.4041\t0.78\n",
            "6 0.2925\t0.826\t0.3934\t0.788\n",
            "7 0.2619\t0.839\t0.4208\t0.772\n",
            "8 0.2381\t0.853\t0.4365\t0.774\n",
            "9 0.2693\t0.844\t0.5472\t0.73\n",
            "10 0.2626\t0.819\t0.4434\t0.77\n",
            "11 0.218\t0.85\t0.3718\t0.798\n",
            "12 0.1397\t0.883\t0.3711\t0.799\n",
            "13 0.09884\t0.909\t0.3824\t0.801\n",
            "14 0.06018\t0.928\t0.3715\t0.801\n",
            "15 0.02811\t0.941\t0.3948\t0.798\n",
            "16 0.05892\t0.923\t0.3808\t0.816\n",
            "17 0.003924\t0.95\t0.4053\t0.817\n",
            "18 -0.04235\t0.974\t0.4105\t0.812\n",
            "19 -0.06236\t0.983\t0.4367\t0.809\n",
            "20 -0.05883\t0.974\t0.5192\t0.794\n",
            "21 0.00467\t0.948\t1.718\t0.611\n",
            "22 0.3161\t0.86\t0.477\t0.763\n",
            "23 0.00743\t0.942\t0.4428\t0.792\n",
            "24 -0.06555\t0.978\t0.4689\t0.79\n",
            "25 -0.07329\t0.98\t0.5961\t0.768\n",
            "26 -0.09218\t0.987\t0.4746\t0.805\n",
            "27 -0.1054\t0.993\t0.4759\t0.814\n",
            "28 -0.1121\t0.994\t0.4987\t0.803\n",
            "29 -0.1219\t0.996\t0.5923\t0.799\n"
          ],
          "name": "stdout"
        }
      ]
    },
    {
      "cell_type": "code",
      "metadata": {
        "id": "ZfK9CTERp5TH"
      },
      "source": [
        ""
      ],
      "execution_count": null,
      "outputs": []
    }
  ]
}
