{
 "cells": [
  {
   "cell_type": "code",
   "execution_count": 111,
   "id": "perceived-eagle",
   "metadata": {},
   "outputs": [],
   "source": [
    "import nets\n",
    "import stats\n",
    "import training\n",
    "import loss\n",
    "\n",
    "from torch import optim"
   ]
  },
  {
   "cell_type": "code",
   "execution_count": null,
   "id": "confused-edgar",
   "metadata": {},
   "outputs": [],
   "source": []
  },
  {
   "cell_type": "code",
   "execution_count": 56,
   "id": "small-samba",
   "metadata": {},
   "outputs": [],
   "source": [
    "##################################"
   ]
  },
  {
   "cell_type": "code",
   "execution_count": 57,
   "id": "million-dutch",
   "metadata": {},
   "outputs": [],
   "source": [
    "fdn = nets.FullyDenseNet()\n",
    "optzer = optim.SGD(fdn.parameters(), lr=0.01, momentum=0.5)"
   ]
  },
  {
   "cell_type": "code",
   "execution_count": 58,
   "id": "renewable-characteristic",
   "metadata": {},
   "outputs": [
    {
     "name": "stdout",
     "output_type": "stream",
     "text": [
      "Epoch\tLoss Train\tAcc Train\tLoss Test\tAcc Test\n",
      "0\t0.774\t\t0.583\t\t0.591\t\t0.702\n",
      "1\t0.545\t\t0.735\t\t0.578\t\t0.685\n",
      "2\t0.479\t\t0.76\t\t0.503\t\t0.761\n",
      "3\t0.398\t\t0.827\t\t0.521\t\t0.754\n",
      "4\t0.346\t\t0.847\t\t0.526\t\t0.755\n",
      "5\t0.339\t\t0.859\t\t0.591\t\t0.735\n",
      "6\t0.314\t\t0.863\t\t0.514\t\t0.76\n",
      "7\t0.284\t\t0.89\t\t0.629\t\t0.714\n",
      "8\t0.269\t\t0.881\t\t0.83\t\t0.64\n",
      "9\t0.263\t\t0.885\t\t0.629\t\t0.728\n",
      "10\t0.2\t\t0.921\t\t0.511\t\t0.788\n",
      "11\t0.121\t\t0.962\t\t0.544\t\t0.784\n",
      "12\t0.0803\t\t0.977\t\t0.584\t\t0.781\n",
      "13\t0.0578\t\t0.989\t\t0.633\t\t0.78\n",
      "14\t0.0522\t\t0.991\t\t0.662\t\t0.772\n",
      "15\t0.0567\t\t0.983\t\t1.74\t\t0.604\n",
      "16\t0.428\t\t0.865\t\t0.515\t\t0.787\n",
      "17\t0.104\t\t0.975\t\t0.643\t\t0.77\n",
      "18\t0.0681\t\t0.983\t\t0.747\t\t0.764\n",
      "19\t0.0515\t\t0.989\t\t1.08\t\t0.737\n",
      "20\t0.0549\t\t0.986\t\t0.745\t\t0.776\n",
      "21\t0.0199\t\t1.0\t\t0.724\t\t0.781\n",
      "22\t0.0118\t\t1.0\t\t0.736\t\t0.775\n",
      "23\t0.00883\t\t1.0\t\t0.771\t\t0.777\n",
      "24\t0.00687\t\t1.0\t\t0.81\t\t0.78\n",
      "25\t0.0056\t\t1.0\t\t0.832\t\t0.781\n",
      "26\t0.00458\t\t1.0\t\t0.841\t\t0.78\n",
      "27\t0.00377\t\t1.0\t\t0.848\t\t0.776\n",
      "28\t0.00317\t\t1.0\t\t0.856\t\t0.775\n",
      "29\t0.00273\t\t1.0\t\t0.865\t\t0.775\n"
     ]
    },
    {
     "data": {
      "text/plain": [
       "1"
      ]
     },
     "execution_count": 58,
     "metadata": {},
     "output_type": "execute_result"
    }
   ],
   "source": [
    "training.train(fdn , optzer)\n",
    "1"
   ]
  },
  {
   "cell_type": "code",
   "execution_count": 59,
   "id": "broken-violation",
   "metadata": {},
   "outputs": [],
   "source": [
    "###################################"
   ]
  },
  {
   "cell_type": "code",
   "execution_count": 60,
   "id": "comprehensive-browser",
   "metadata": {},
   "outputs": [],
   "source": [
    "cnn1 = nets.CNN_model1()\n",
    "optzer = optim.SGD(cnn1.parameters(), lr=0.001, momentum=0.8)"
   ]
  },
  {
   "cell_type": "code",
   "execution_count": 61,
   "id": "concrete-johns",
   "metadata": {},
   "outputs": [
    {
     "name": "stdout",
     "output_type": "stream",
     "text": [
      "Epoch\tLoss Train\tAcc Train\tLoss Test\tAcc Test\n",
      "0\t0.909\t\t0.578\t\t0.628\t\t0.697\n",
      "1\t0.556\t\t0.719\t\t0.574\t\t0.719\n",
      "2\t0.492\t\t0.77\t\t0.57\t\t0.722\n",
      "3\t0.451\t\t0.801\t\t0.565\t\t0.73\n",
      "4\t0.422\t\t0.825\t\t0.565\t\t0.737\n",
      "5\t0.396\t\t0.833\t\t0.565\t\t0.748\n",
      "6\t0.372\t\t0.85\t\t0.565\t\t0.755\n",
      "7\t0.35\t\t0.861\t\t0.566\t\t0.756\n",
      "8\t0.329\t\t0.873\t\t0.569\t\t0.752\n",
      "9\t0.31\t\t0.879\t\t0.573\t\t0.752\n",
      "10\t0.291\t\t0.891\t\t0.577\t\t0.755\n",
      "11\t0.273\t\t0.901\t\t0.581\t\t0.757\n",
      "12\t0.256\t\t0.913\t\t0.587\t\t0.754\n",
      "13\t0.239\t\t0.921\t\t0.592\t\t0.753\n",
      "14\t0.223\t\t0.926\t\t0.598\t\t0.751\n",
      "15\t0.207\t\t0.934\t\t0.603\t\t0.753\n",
      "16\t0.192\t\t0.945\t\t0.612\t\t0.751\n",
      "17\t0.178\t\t0.957\t\t0.621\t\t0.754\n",
      "18\t0.164\t\t0.962\t\t0.632\t\t0.755\n",
      "19\t0.151\t\t0.967\t\t0.64\t\t0.754\n",
      "20\t0.139\t\t0.973\t\t0.652\t\t0.754\n",
      "21\t0.127\t\t0.977\t\t0.666\t\t0.756\n",
      "22\t0.117\t\t0.981\t\t0.678\t\t0.752\n",
      "23\t0.106\t\t0.985\t\t0.689\t\t0.753\n",
      "24\t0.0972\t\t0.988\t\t0.699\t\t0.751\n",
      "25\t0.0888\t\t0.989\t\t0.709\t\t0.752\n",
      "26\t0.081\t\t0.991\t\t0.723\t\t0.751\n",
      "27\t0.074\t\t0.996\t\t0.734\t\t0.756\n",
      "28\t0.0676\t\t0.998\t\t0.75\t\t0.754\n",
      "29\t0.062\t\t0.999\t\t0.77\t\t0.753\n"
     ]
    },
    {
     "data": {
      "text/plain": [
       "1"
      ]
     },
     "execution_count": 61,
     "metadata": {},
     "output_type": "execute_result"
    }
   ],
   "source": [
    "training.train(cnn1 , optzer)\n",
    "1"
   ]
  },
  {
   "cell_type": "code",
   "execution_count": 62,
   "id": "dependent-designation",
   "metadata": {},
   "outputs": [],
   "source": [
    "###########################"
   ]
  },
  {
   "cell_type": "code",
   "execution_count": 112,
   "id": "congressional-asbestos",
   "metadata": {},
   "outputs": [],
   "source": [
    "cnn2 = nets.CNN_model2()\n",
    "optzer = optim.SGD(cnn2.parameters(), lr=0.001, momentum=0.5)"
   ]
  },
  {
   "cell_type": "code",
   "execution_count": 113,
   "id": "strategic-impossible",
   "metadata": {},
   "outputs": [
    {
     "name": "stdout",
     "output_type": "stream",
     "text": [
      "Epoch\tLoss Train\tAcc Train\tLoss Test\tAcc Test\n",
      "0\t0.902\t\t0.561\t\t0.659\t\t0.647\n",
      "1\t0.583\t\t0.693\t\t0.587\t\t0.701\n",
      "2\t0.506\t\t0.746\t\t0.553\t\t0.73\n",
      "3\t0.455\t\t0.78\t\t0.533\t\t0.742\n",
      "4\t0.417\t\t0.812\t\t0.521\t\t0.756\n",
      "5\t0.386\t\t0.83\t\t0.514\t\t0.764\n",
      "6\t0.36\t\t0.84\t\t0.509\t\t0.773\n",
      "7\t0.338\t\t0.852\t\t0.506\t\t0.775\n",
      "8\t0.319\t\t0.861\t\t0.505\t\t0.778\n",
      "9\t0.301\t\t0.873\t\t0.504\t\t0.777\n",
      "10\t0.284\t\t0.886\t\t0.503\t\t0.779\n",
      "11\t0.269\t\t0.894\t\t0.504\t\t0.781\n",
      "12\t0.254\t\t0.908\t\t0.504\t\t0.784\n",
      "13\t0.241\t\t0.918\t\t0.506\t\t0.786\n",
      "14\t0.228\t\t0.927\t\t0.507\t\t0.787\n",
      "15\t0.215\t\t0.934\t\t0.509\t\t0.787\n",
      "16\t0.203\t\t0.935\t\t0.512\t\t0.792\n",
      "17\t0.192\t\t0.945\t\t0.514\t\t0.794\n",
      "18\t0.181\t\t0.95\t\t0.517\t\t0.794\n",
      "19\t0.171\t\t0.954\t\t0.519\t\t0.795\n",
      "20\t0.161\t\t0.958\t\t0.523\t\t0.796\n",
      "21\t0.152\t\t0.962\t\t0.526\t\t0.799\n",
      "22\t0.143\t\t0.965\t\t0.53\t\t0.799\n",
      "23\t0.134\t\t0.967\t\t0.534\t\t0.802\n",
      "24\t0.127\t\t0.973\t\t0.539\t\t0.801\n",
      "25\t0.119\t\t0.975\t\t0.544\t\t0.804\n",
      "26\t0.112\t\t0.98\t\t0.548\t\t0.805\n",
      "27\t0.106\t\t0.984\t\t0.554\t\t0.805\n",
      "28\t0.0994\t\t0.985\t\t0.56\t\t0.808\n",
      "29\t0.0937\t\t0.988\t\t0.565\t\t0.806\n"
     ]
    },
    {
     "data": {
      "text/plain": [
       "1"
      ]
     },
     "execution_count": 113,
     "metadata": {},
     "output_type": "execute_result"
    }
   ],
   "source": [
    "training.train(cnn2 , optzer)\n",
    "1"
   ]
  },
  {
   "cell_type": "code",
   "execution_count": 99,
   "id": "indonesian-awareness",
   "metadata": {},
   "outputs": [],
   "source": [
    "###########################"
   ]
  },
  {
   "cell_type": "code",
   "execution_count": null,
   "id": "negative-feelings",
   "metadata": {},
   "outputs": [],
   "source": []
  },
  {
   "cell_type": "code",
   "execution_count": null,
   "id": "sporting-gibraltar",
   "metadata": {},
   "outputs": [],
   "source": []
  }
 ],
 "metadata": {
  "kernelspec": {
   "display_name": "Python 3",
   "language": "python",
   "name": "python3"
  },
  "language_info": {
   "codemirror_mode": {
    "name": "ipython",
    "version": 3
   },
   "file_extension": ".py",
   "mimetype": "text/x-python",
   "name": "python",
   "nbconvert_exporter": "python",
   "pygments_lexer": "ipython3",
   "version": "3.8.5"
  }
 },
 "nbformat": 4,
 "nbformat_minor": 5
}
