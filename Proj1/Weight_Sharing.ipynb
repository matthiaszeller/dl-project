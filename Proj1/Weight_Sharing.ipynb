{
  "nbformat": 4,
  "nbformat_minor": 0,
  "metadata": {
    "colab": {
      "name": "Copy of Copy of fully_dense_nn.ipynb",
      "provenance": [],
      "collapsed_sections": [
        "KA3Ui4BnShQu",
        "jYg-E2UB8Flj"
      ],
      "authorship_tag": "ABX9TyNS9cKXRuTO/CWuWv/OADsy",
      "include_colab_link": true
    },
    "kernelspec": {
      "name": "python3",
      "display_name": "Python 3"
    }
  },
  "cells": [
    {
      "cell_type": "markdown",
      "metadata": {
        "id": "view-in-github",
        "colab_type": "text"
      },
      "source": [
        "<a href=\"https://colab.research.google.com/github/matthiaszeller/dl-project/blob/main/Weight_Sharing.ipynb\" target=\"_parent\"><img src=\"https://colab.research.google.com/assets/colab-badge.svg\" alt=\"Open In Colab\"/></a>"
      ]
    },
    {
      "cell_type": "code",
      "metadata": {
        "id": "LaNz2YYhwbXx"
      },
      "source": [
        "import torch\r\n",
        "from torchvision import datasets\r\n",
        "import matplotlib.pyplot as plt\r\n",
        "from torch.utils.data import TensorDataset, DataLoader\r\n",
        "\r\n",
        "import torch.nn as nn\r\n",
        "import torch.nn.functional as F\r\n",
        "import torch.optim as optim\r\n",
        "\r\n",
        "import os"
      ],
      "execution_count": 1,
      "outputs": []
    },
    {
      "cell_type": "markdown",
      "metadata": {
        "id": "jAzBfBHS0yjp"
      },
      "source": [
        "# dataset build"
      ]
    },
    {
      "cell_type": "code",
      "metadata": {
        "colab": {
          "base_uri": "https://localhost:8080/"
        },
        "id": "nsfGSYY9QaKA",
        "outputId": "6a478a45-064a-4c9d-b1d1-114e6dbe8801"
      },
      "source": [
        "!wget www.di.ens.fr/~lelarge/MNIST.tar.gz"
      ],
      "execution_count": 2,
      "outputs": [
        {
          "output_type": "stream",
          "text": [
            "--2021-03-08 21:17:27--  http://www.di.ens.fr/~lelarge/MNIST.tar.gz\n",
            "Resolving www.di.ens.fr (www.di.ens.fr)... 129.199.99.14\n",
            "Connecting to www.di.ens.fr (www.di.ens.fr)|129.199.99.14|:80... connected.\n",
            "HTTP request sent, awaiting response... 302 Found\n",
            "Location: https://www.di.ens.fr/~lelarge/MNIST.tar.gz [following]\n",
            "--2021-03-08 21:17:27--  https://www.di.ens.fr/~lelarge/MNIST.tar.gz\n",
            "Connecting to www.di.ens.fr (www.di.ens.fr)|129.199.99.14|:443... connected.\n",
            "HTTP request sent, awaiting response... 200 OK\n",
            "Length: unspecified [application/x-gzip]\n",
            "Saving to: ‘MNIST.tar.gz’\n",
            "\n",
            "MNIST.tar.gz            [        <=>         ]  33.20M  6.22MB/s    in 16s     \n",
            "\n",
            "2021-03-08 21:17:44 (2.08 MB/s) - ‘MNIST.tar.gz’ saved [34813078]\n",
            "\n"
          ],
          "name": "stdout"
        }
      ]
    },
    {
      "cell_type": "code",
      "metadata": {
        "id": "6_TIp4ACQhpr"
      },
      "source": [
        "!tar -xf MNIST.tar.gz\r\n"
      ],
      "execution_count": 3,
      "outputs": []
    },
    {
      "cell_type": "code",
      "metadata": {
        "colab": {
          "base_uri": "https://localhost:8080/"
        },
        "id": "adfc8yshRCUe",
        "outputId": "74b8b2b3-4a27-45e2-d2fa-308558ab3d36"
      },
      "source": [
        "!ls MNIST/processed/"
      ],
      "execution_count": 4,
      "outputs": [
        {
          "output_type": "stream",
          "text": [
            "test.pt  training.pt\n"
          ],
          "name": "stdout"
        }
      ]
    },
    {
      "cell_type": "code",
      "metadata": {
        "id": "e6oc9g2JyCEw"
      },
      "source": [
        "######################################################################\r\n",
        "\r\n",
        "def mnist_to_pairs(nb, input, target):\r\n",
        "    input = torch.functional.F.avg_pool2d(input, kernel_size = 2)\r\n",
        "    a = torch.randperm(input.size(0))\r\n",
        "    a = a[:2 * nb].view(nb, 2)\r\n",
        "    input = torch.cat((input[a[:, 0]], input[a[:, 1]]), 1)\r\n",
        "    classes = target[a]\r\n",
        "    target = (classes[:, 0] <= classes[:, 1]).long()\r\n",
        "    return input, target, classes\r\n",
        "\r\n",
        "######################################################################\r\n",
        "\r\n",
        "def generate_pair_sets(nb):\r\n",
        "\r\n",
        "    train_set = datasets.MNIST('', train = True, download = True)\r\n",
        "    train_input = train_set.data.view(-1, 1, 28, 28).float()\r\n",
        "    train_target = train_set.targets\r\n",
        "\r\n",
        "    test_set = datasets.MNIST('', train = False, download = True)\r\n",
        "    test_input = test_set.data.view(-1, 1, 28, 28).float()\r\n",
        "    test_target = test_set.targets\r\n",
        "\r\n",
        "    return mnist_to_pairs(nb, train_input, train_target) + \\\r\n",
        "           mnist_to_pairs(nb, test_input, test_target)\r\n",
        "\r\n",
        "######################################################################"
      ],
      "execution_count": 5,
      "outputs": []
    },
    {
      "cell_type": "code",
      "metadata": {
        "id": "av161kLTFpWj"
      },
      "source": [
        "train_input , train_target , train_classes , test_input , test_target , test_classes = generate_pair_sets(1000)"
      ],
      "execution_count": 6,
      "outputs": []
    },
    {
      "cell_type": "code",
      "metadata": {
        "colab": {
          "base_uri": "https://localhost:8080/",
          "height": 530
        },
        "id": "XGi49cC5F1T3",
        "outputId": "fdf7b128-ed59-48f0-ff58-1dd8caa2c84c"
      },
      "source": [
        "plt.imshow( train_input[0][0].numpy() ) \r\n",
        "plt.show()\r\n",
        "plt.imshow( train_input[0][1].numpy() ) \r\n",
        "plt.show()\r\n",
        "print(f'train shape : {train_input.shape}')"
      ],
      "execution_count": 7,
      "outputs": [
        {
          "output_type": "display_data",
          "data": {
            "image/png": "[encoded data removed]",
            "text/plain": [
              "<Figure size 432x288 with 1 Axes>"
            ]
          },
          "metadata": {
            "tags": [],
            "needs_background": "light"
          }
        },
        {
          "output_type": "display_data",
          "data": {
            "image/png": "[encoded data removed]",
            "text/plain": [
              "<Figure size 432x288 with 1 Axes>"
            ]
          },
          "metadata": {
            "tags": [],
            "needs_background": "light"
          }
        },
        {
          "output_type": "stream",
          "text": [
            "train shape : torch.Size([1000, 2, 14, 14])\n"
          ],
          "name": "stdout"
        }
      ]
    },
    {
      "cell_type": "code",
      "metadata": {
        "id": "ImsRSpztHZ_Z"
      },
      "source": [
        "train_dataset = TensorDataset(train_input,train_target , train_classes)\r\n",
        "train_dataloader = DataLoader(train_dataset , batch_size=100)\r\n",
        "\r\n",
        "test_dataset = TensorDataset(test_input,test_target , test_classes)\r\n",
        "test_dataloader = DataLoader(test_dataset , batch_size=100)\r\n"
      ],
      "execution_count": 8,
      "outputs": []
    },
    {
      "cell_type": "code",
      "metadata": {
        "colab": {
          "base_uri": "https://localhost:8080/"
        },
        "id": "7waMxKoqHaCF",
        "outputId": "6449cab2-55b4-445f-b08e-94dbf1f6f289"
      },
      "source": [
        "for el in train_dataloader:\r\n",
        "  # image , target, classes\r\n",
        "  print(el[0].shape, el[1].shape, el[2].shape)\r\n",
        "  break"
      ],
      "execution_count": 9,
      "outputs": [
        {
          "output_type": "stream",
          "text": [
            "torch.Size([100, 2, 14, 14]) torch.Size([100]) torch.Size([100, 2])\n"
          ],
          "name": "stdout"
        }
      ]
    },
    {
      "cell_type": "markdown",
      "metadata": {
        "id": "9_wIH-M8g0MS"
      },
      "source": [
        "# Models"
      ]
    },
    {
      "cell_type": "markdown",
      "metadata": {
        "id": "03P9yp3E08Fl"
      },
      "source": [
        "## FullyDenseNN"
      ]
    },
    {
      "cell_type": "code",
      "metadata": {
        "id": "6NDo4PotHZye"
      },
      "source": [
        "class FullyDenseNet(nn.Module):\r\n",
        "    def __init__(self):\r\n",
        "        super(FullyDenseNet, self).__init__()\r\n",
        "\r\n",
        "        self.fc1 = nn.Linear(2*14*14, 300)\r\n",
        "        self.fc2 = nn.Linear(300, 200)\r\n",
        "        self.fc3 = nn.Linear(200, 100)\r\n",
        "        self.fc4 = nn.Linear(100, 50)\r\n",
        "        self.fc5 = nn.Linear(50, 1)\r\n",
        "\r\n",
        "    def forward(self, x):\r\n",
        "        x = nn.Flatten(1)(x)\r\n",
        "        x = torch.relu( self.fc1(x) )\r\n",
        "        x = torch.relu( self.fc2(x) )\r\n",
        "        x = torch.relu( self.fc3(x) )\r\n",
        "        x = torch.relu( self.fc4(x) )\r\n",
        "        x = self.fc5(x)\r\n",
        "        return torch.sigmoid(x)"
      ],
      "execution_count": 63,
      "outputs": []
    },
    {
      "cell_type": "markdown",
      "metadata": {
        "id": "EtWbJexXfVbj"
      },
      "source": [
        "## CNN_model"
      ]
    },
    {
      "cell_type": "code",
      "metadata": {
        "id": "G67Nk3y4fVDD"
      },
      "source": [
        "class CNN_model1(nn.Module):\r\n",
        "  def __init__(self):\r\n",
        "        super(CNN_model1, self).__init__()\r\n",
        "        self.conv1 = nn.Conv2d(2, 4, kernel_size=3)\r\n",
        "        self.conv2 = nn.Conv2d(4, 6 , kernel_size=3)\r\n",
        "\r\n",
        "        self.fc1 = nn.Linear(6*10*10, 100)\r\n",
        "        self.fc2 = nn.Linear(100, 1)\r\n",
        "\r\n",
        "\r\n",
        "  def forward(self, x):\r\n",
        "\r\n",
        "\r\n",
        "        x = torch.relu(self.conv1(x))\r\n",
        "        x = torch.relu(self.conv2(x))\r\n",
        "\r\n",
        "        x = nn.Flatten(1)(x)        \r\n",
        "        x = torch.relu(self.fc1(x))\r\n",
        "        x = self.fc2(x) \r\n",
        "\r\n",
        "        return torch.sigmoid(x)"
      ],
      "execution_count": 118,
      "outputs": []
    },
    {
      "cell_type": "markdown",
      "metadata": {
        "id": "m334fj8yg_Fc"
      },
      "source": [
        "## CNN Model 2"
      ]
    },
    {
      "cell_type": "code",
      "metadata": {
        "id": "GTNvDWcqhEzy"
      },
      "source": [
        "class CNN_model2(nn.Module):\r\n",
        "  def __init__(self):\r\n",
        "        super(CNN_model2, self).__init__()\r\n",
        "        self.conv1 = nn.Conv2d(1, 4, kernel_size=3)\r\n",
        "        self.conv2 = nn.Conv2d(4, 6 , kernel_size=3)\r\n",
        "\r\n",
        "        self.fc1 = nn.Linear(1200, 100)\r\n",
        "        self.fc2 = nn.Linear(100, 1)\r\n",
        "\r\n",
        "\r\n",
        "  def forward(self, x):\r\n",
        "\r\n",
        "        # I hate this , how do u make it batch independent ? should be like : x_l = x[0,:,:]\r\n",
        "        x_l = x[:,0,:,:]\r\n",
        "        x_r = x[:,1,:,:]\r\n",
        "\r\n",
        "        x_l = x_l.view(x_l.shape[0] , 1, 14,14)\r\n",
        "        x_r = x_r.view(x_r.shape[0] , 1, 14,14)\r\n",
        "\r\n",
        "        x_l = torch.relu(self.conv1(x_l))\r\n",
        "        x_l = torch.relu(self.conv2(x_l))\r\n",
        "\r\n",
        "        x_r = torch.relu(self.conv1(x_r))\r\n",
        "        x_r = torch.relu(self.conv2(x_r))\r\n",
        "\r\n",
        "        x_r = nn.Flatten(1)(x_r)   \r\n",
        "        x_l = nn.Flatten(1)(x_l)  \r\n",
        "\r\n",
        "        x = torch.cat((x_r, x_l), 1)\r\n",
        "\r\n",
        "        x = torch.relu(self.fc1(x))\r\n",
        "        x = self.fc2(x) \r\n",
        "\r\n",
        "        return torch.sigmoid(x)"
      ],
      "execution_count": 153,
      "outputs": []
    },
    {
      "cell_type": "markdown",
      "metadata": {
        "id": "KA3Ui4BnShQu"
      },
      "source": [
        "# Train tools"
      ]
    },
    {
      "cell_type": "code",
      "metadata": {
        "id": "i54w5hBmHaES"
      },
      "source": [
        "def train_epoch(network_ , optimizer_ , criterion = F.binary_cross_entropy ):\r\n",
        "  loss_tot = []\r\n",
        "  acc_tot = []\r\n",
        "  network_.train()\r\n",
        "  for batch_idx, (data, target , classes ) in enumerate(train_dataloader):\r\n",
        "    optimizer_.zero_grad()\r\n",
        "    output = network_(data).flatten()\r\n",
        "    loss = criterion(output, target.to(torch.float32))\r\n",
        "    loss.backward()\r\n",
        "    optimizer_.step()\r\n",
        "\r\n",
        "    loss_tot.append(loss.item())\r\n",
        "    acc_tot.append( (target == torch.round(output) ).sum().item() )\r\n",
        "  \r\n",
        "  return torch.FloatTensor(loss_tot).mean().item() , torch.FloatTensor(acc_tot).mean().item()/100.0"
      ],
      "execution_count": 149,
      "outputs": []
    },
    {
      "cell_type": "code",
      "metadata": {
        "id": "xe7whYlPQoLi"
      },
      "source": [
        "def test(network_ , criterion_ = F.binary_cross_entropy):\r\n",
        "  network_.eval()\r\n",
        "  test_loss = 0\r\n",
        "  acc = 0\r\n",
        "\r\n",
        "  with torch.no_grad():\r\n",
        "    for data, target , classes in test_dataloader:\r\n",
        "      output = network_(data)\r\n",
        "      test_loss += criterion_(output.flatten(), target.to(torch.float32)).item()\r\n",
        "      acc += (target == torch.round(output.flatten()) ).sum().item()\r\n",
        "\r\n",
        "  test_loss /= len(test_dataloader)\r\n",
        "  acc /= len(test_dataloader)\r\n",
        "  return test_loss , acc/100.0"
      ],
      "execution_count": 23,
      "outputs": []
    },
    {
      "cell_type": "code",
      "metadata": {
        "id": "MHcA1vKgHaGi"
      },
      "source": [
        "def train(network_ , optimizer_ , criterion_ = F.binary_cross_entropy ,epoch_nb = 30,   debug_ = True):\r\n",
        "\r\n",
        "  tot_train_loss = []\r\n",
        "  tot_train_acc = []\r\n",
        "  tot_test_loss = []\r\n",
        "  tot_test_acc = []\r\n",
        "\r\n",
        "\r\n",
        "  for epoch in range(epoch_nb):\r\n",
        "    train_loss , train_acc = train_epoch(network_ , optimizer_ , criterion_)\r\n",
        "    test_loss , test_acc = test(network_ , criterion_)\r\n",
        "\r\n",
        "    tot_train_loss.append(train_loss)\r\n",
        "    tot_train_acc.append(train_acc)\r\n",
        "    tot_test_loss.append(test_loss)\r\n",
        "    tot_test_acc.append(test_acc)\r\n",
        "\r\n",
        "    if(debug_):\r\n",
        "      print(epoch, train_loss , train_acc , test_loss , test_acc)\r\n",
        "\r\n",
        "  return tot_train_loss , tot_train_acc , tot_test_loss , tot_test_acc"
      ],
      "execution_count": 24,
      "outputs": []
    },
    {
      "cell_type": "markdown",
      "metadata": {
        "id": "jYg-E2UB8Flj"
      },
      "source": [
        "# stats"
      ]
    },
    {
      "cell_type": "code",
      "metadata": {
        "id": "ffB574WB8IFx"
      },
      "source": [
        "def train_multiple_runs( network_class , runs = 10 , epoch = 30):\r\n",
        "  all_train_loss , all_train_acc , all_test_loss , all_test_acc = [],[],[],[]\r\n",
        "  \r\n",
        "  for i in range(runs):\r\n",
        "    n = network_class()\r\n",
        "    optimizer = optim.SGD(n.parameters(), lr=0.01, momentum=0.5)\r\n",
        "    criterion = F.binary_cross_entropy\r\n",
        "\r\n",
        "    tot_train_loss , tot_train_acc , tot_test_loss , tot_test_acc = train(n , optimizer , criterion , epoch , debug_ = False)\r\n",
        "    all_train_loss.append(tot_train_loss)\r\n",
        "    all_train_acc.append(tot_train_acc)\r\n",
        "    all_test_loss.append(tot_test_loss)\r\n",
        "    all_test_acc.append(tot_test_acc)\r\n",
        "\r\n",
        "  return all_train_loss , all_train_acc , all_test_loss , all_test_acc"
      ],
      "execution_count": 14,
      "outputs": []
    },
    {
      "cell_type": "code",
      "metadata": {
        "id": "C66k1nu4HaMp"
      },
      "source": [
        "def plot_loss_acc( tot_train_loss , tot_train_acc , tot_test_loss , tot_test_acc ):\r\n",
        "  epochs = range(1, len(tot_train_loss)+1 )\r\n",
        "  plt.plot(epochs, tot_train_loss, 'g', label='Training loss')\r\n",
        "  plt.plot(epochs, tot_test_loss, 'b', label='Test loss')\r\n",
        "  plt.plot(epochs, tot_train_acc, 'r', label='Training acc')\r\n",
        "  plt.plot(epochs, tot_test_acc, 'y', label='Test acc')\r\n",
        "  plt.title('Training and Test loss/acc')\r\n",
        "  plt.xlabel('Epochs')\r\n",
        "  plt.ylabel('loss/acc')\r\n",
        "  plt.ylim((0,1))\r\n",
        "  plt.legend()\r\n",
        "  plt.show()"
      ],
      "execution_count": 15,
      "outputs": []
    },
    {
      "cell_type": "code",
      "metadata": {
        "id": "fi4wxxDM9KWH"
      },
      "source": [
        "import numpy as np\r\n",
        "def plot_std_loss_acc(all_train_loss , all_train_acc , all_test_loss , all_test_acc):\r\n",
        "  trl_mean = np.array(all_train_loss).mean(axis = 0)\r\n",
        "  tel_mean = np.array(all_train_acc).mean(axis = 0)\r\n",
        "  tra_mean = np.array(all_test_loss).mean(axis = 0)\r\n",
        "  tea_mean = np.array(all_test_acc).mean(axis = 0)\r\n",
        "\r\n",
        "  trl_std = np.array(all_train_loss).std(axis = 0)\r\n",
        "  tel_std = np.array(all_train_acc).std(axis = 0)\r\n",
        "  tra_std = np.array(all_test_loss).std(axis = 0)\r\n",
        "  tea_std = np.array(all_test_acc).std(axis = 0)\r\n",
        "\r\n",
        "  epochs = range(1, len(tea_std)+1 )\r\n",
        "\r\n",
        "  temp = [ [trl_mean , trl_std] , [tel_mean , tel_std] , [tra_mean , tra_std] , [tea_mean , tea_std] ]\r\n",
        "\r\n",
        "  for g in temp : \r\n",
        "    plt.plot( epochs , g[0] )\r\n",
        "    plt.fill_between(epochs, g[0]-g[1], g[0]+g[1] ,alpha=0.3)\r\n",
        "\r\n",
        "  plt.ylim((-0.1,1.1))\r\n"
      ],
      "execution_count": 16,
      "outputs": []
    },
    {
      "cell_type": "markdown",
      "metadata": {
        "id": "R2MygqnigKoI"
      },
      "source": [
        "# PLAYGROUND"
      ]
    },
    {
      "cell_type": "code",
      "metadata": {
        "colab": {
          "base_uri": "https://localhost:8080/",
          "height": 265
        },
        "id": "TQOWmxEzhaDa",
        "outputId": "09998db6-500e-4e63-c3d9-8d83ac6ab94a"
      },
      "source": [
        "a,b,c,d = train_multiple_runs( FullyDenseNet , runs = 1 , epoch = 30)\r\n",
        "plot_std_loss_acc(a,b,c,d)"
      ],
      "execution_count": 129,
      "outputs": [
        {
          "output_type": "display_data",
          "data": {
            "image/png": "[encoded data removed]",
            "text/plain": [
              "<Figure size 432x288 with 1 Axes>"
            ]
          },
          "metadata": {
            "tags": [],
            "needs_background": "light"
          }
        }
      ]
    },
    {
      "cell_type": "code",
      "metadata": {
        "id": "sxQBfTfQ-sqF",
        "colab": {
          "base_uri": "https://localhost:8080/",
          "height": 265
        },
        "outputId": "71bb273d-7341-4e12-a004-3829772cb509"
      },
      "source": [
        "a,b,c,d = train_multiple_runs( CNN_model1 , runs = 1 , epoch = 30)\r\n",
        "plot_std_loss_acc(a,b,c,d)"
      ],
      "execution_count": 130,
      "outputs": [
        {
          "output_type": "display_data",
          "data": {
            "image/png": "[encoded data removed]",
            "text/plain": [
              "<Figure size 432x288 with 1 Axes>"
            ]
          },
          "metadata": {
            "tags": [],
            "needs_background": "light"
          }
        }
      ]
    },
    {
      "cell_type": "code",
      "metadata": {
        "colab": {
          "base_uri": "https://localhost:8080/"
        },
        "id": "vFWIDb5W-wp1",
        "outputId": "8aa46928-6c0e-413c-c53d-8a9f3b3450ad"
      },
      "source": [
        "n = CNN_model2()\r\n",
        "optimizer = optim.SGD(n.parameters(), lr=0.001, momentum=0.5)\r\n",
        "criterion = F.binary_cross_entropy\r\n",
        "\r\n",
        "_,_,_,_ = train(n,optimizer, epoch_nb=30)\r\n",
        "\r\n",
        "del n , optimizer , criterion"
      ],
      "execution_count": 157,
      "outputs": [
        {
          "output_type": "stream",
          "text": [
            "0 0.9431501626968384 0.5409999847412109 0.6624147355556488 0.627\n",
            "1 0.5912103056907654 0.6869999694824219 0.5804959446191787 0.688\n",
            "2 0.5105010271072388 0.745999984741211 0.5397192895412445 0.721\n",
            "3 0.46137818694114685 0.78 0.51413514316082 0.7340000000000001\n",
            "4 0.4260109066963196 0.8130000305175781 0.4984599232673645 0.745\n",
            "5 0.39765089750289917 0.8290000152587891 0.4890988290309906 0.7509999999999999\n",
            "6 0.3736110329627991 0.8430000305175781 0.4819082260131836 0.758\n",
            "7 0.3521307408809662 0.8569999694824219 0.47732614576816557 0.7609999999999999\n",
            "8 0.3324241042137146 0.8719999694824219 0.4733900547027588 0.764\n",
            "9 0.3142440915107727 0.8859999847412109 0.47132361829280855 0.7709999999999999\n",
            "10 0.2974017858505249 0.8930000305175781 0.468922758102417 0.774\n",
            "11 0.2817964553833008 0.899000015258789 0.4686205327510834 0.774\n",
            "12 0.26729676127433777 0.9069999694824219 0.4683503478765488 0.778\n",
            "13 0.2536115050315857 0.9180000305175782 0.4675432533025742 0.779\n",
            "14 0.24050848186016083 0.9259999847412109 0.46972051858901975 0.7809999999999999\n",
            "15 0.22844381630420685 0.9319999694824219 0.46896093487739565 0.782\n",
            "16 0.21653619408607483 0.9369999694824219 0.4704018920660019 0.784\n",
            "17 0.20523545145988464 0.9390000152587891 0.4725839883089066 0.782\n",
            "18 0.19445952773094177 0.9440000152587891 0.4744820326566696 0.782\n",
            "19 0.18410271406173706 0.95 0.4766125798225403 0.7859999999999999\n",
            "20 0.17450059950351715 0.955999984741211 0.4756637692451477 0.7909999999999999\n",
            "21 0.1650531142950058 0.9630000305175781 0.4798101544380188 0.79\n",
            "22 0.1560824066400528 0.965999984741211 0.48051123023033143 0.7909999999999999\n",
            "23 0.14788936078548431 0.9769999694824218 0.4845782995223999 0.789\n",
            "24 0.14003048837184906 0.980999984741211 0.48838949501514434 0.79\n",
            "25 0.13255134224891663 0.9830000305175781 0.489007306098938 0.7929999999999999\n",
            "26 0.12553447484970093 0.9840000152587891 0.4945764750242233 0.792\n",
            "27 0.11877945810556412 0.985999984741211 0.49356518089771273 0.795\n",
            "28 0.11265577375888824 0.9869999694824219 0.49905226230621336 0.792\n",
            "29 0.10657612979412079 0.9890000152587891 0.4982942909002304 0.7959999999999999\n"
          ],
          "name": "stdout"
        }
      ]
    },
    {
      "cell_type": "code",
      "metadata": {
        "id": "zO1yxZsU_Cqo"
      },
      "source": [
        ""
      ],
      "execution_count": 130,
      "outputs": []
    },
    {
      "cell_type": "code",
      "metadata": {
        "id": "L7Pb0hj2CC9i"
      },
      "source": [
        ""
      ],
      "execution_count": 18,
      "outputs": []
    },
    {
      "cell_type": "code",
      "metadata": {
        "id": "eovQgyRoCzD1"
      },
      "source": [
        ""
      ],
      "execution_count": 18,
      "outputs": []
    },
    {
      "cell_type": "code",
      "metadata": {
        "id": "f6mVvNcTDd_o"
      },
      "source": [
        ""
      ],
      "execution_count": 18,
      "outputs": []
    },
    {
      "cell_type": "code",
      "metadata": {
        "id": "NjoLHS3jJOV-"
      },
      "source": [
        ""
      ],
      "execution_count": 18,
      "outputs": []
    }
  ]
}
