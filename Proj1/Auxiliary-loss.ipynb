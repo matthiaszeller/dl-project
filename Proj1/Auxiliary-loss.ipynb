{
 "cells": [
  {
   "cell_type": "markdown",
   "metadata": {
    "id": "b27f7KUWOvEn"
   },
   "source": [
    "# Paper *Self-Supervised Generalisation with Meta Auxiliary Learning*\n",
    "\n",
    "https://papers.nips.cc/paper/2019/file/92262bf907af914b95a0fc33c3f33bf6-Paper.pdf"
   ]
  },
  {
   "cell_type": "markdown",
   "metadata": {
    "id": "berrgfqfOvEw"
   },
   "source": [
    "Using an auxiliary loss is called auxiliary learning, and is similar to multi-task learning, except that only the primary task is of interest. In our case, the primary task is to output whether image 1 is a digit smaller than image 2. The role of the auxiliary task is to assist in generalization of this primary task.\n",
    "\n",
    "This paper discusses unsupervised auxiliary learning, for the cases when no label exist for the auxiliary task. Note: this is not our case, we have the original labels $\\{0, 1, \\dots, 9\\}$ from which we deduce the boolean value. Also, the project presentation PDF mentions:\n",
    "\n",
    "> For the [auxiliary loss], the training can in particular take advantage of the availability of the classes of the two digits in each pair, beside the Boolean value truly of interest. \n"
   ]
  },
  {
   "cell_type": "markdown",
   "metadata": {
    "id": "YtatCcAfOvEx"
   },
   "source": [
    "# Google paper \"Going deeper with convolutions\"\n",
    "\n",
    "https://arxiv.org/abs/1409.4842\n",
    "\n",
    "https://stats.stackexchange.com/questions/304699/what-is-auxiliary-loss-as-mentioned-in-pspnet-paper\n",
    "\n"
   ]
  },
  {
   "cell_type": "markdown",
   "metadata": {
    "id": "snBSBHKgOvEy"
   },
   "source": [
    "The paper from Google introduced the concept of auxiliary loss. But the focus is to improve very deep networks (they describe a 22-layer long network), whereas we don't really have deep networks for our simple task. The basic idea is to add **auxiliary classifiers connected to intermediate layers**. This is especially useful to **fight gradient vanishing and add regularization**."
   ]
  },
  {
   "cell_type": "markdown",
   "metadata": {
    "id": "MMYHT4_YOvEz"
   },
   "source": [
    "### Structure of extra network\n",
    "\n",
    "1. Average pooling layer\n",
    "1. 1x1 convolution for dimension reduction and relu activation\n",
    "1. fully connected and relu\n",
    "1. dropout (70%)\n",
    "1. linear layer with softmax loss as classifier"
   ]
  },
  {
   "cell_type": "markdown",
   "metadata": {
    "id": "m6eOERVwOvE0"
   },
   "source": [
    "# Draft ideas for Project 1"
   ]
  },
  {
   "cell_type": "markdown",
   "metadata": {
    "id": "fQD_DGLDOvE0"
   },
   "source": [
    "Based on this [medium article](https://towardsdatascience.com/improve-your-neural-networks-generalization-performance-by-adding-an-unsupervised-auxiliary-loss-4d58b2dead54), we can combine the main loss with the auxiliary loss for the total loss:\n",
    "\n",
    "$$\\text{total loss} = \\text{main loss} + \\lambda \\cdot \\text{auxiliary loss}$$"
   ]
  },
  {
   "cell_type": "markdown",
   "metadata": {
    "id": "OidAZFkJOvE1"
   },
   "source": [
    "Also, since our network is *not* deep (and can't be, because computations must be rather fast as mentionned in the project description), we should probably put the auxiliary classifier at the end of the network, and not at intermediate levels (as done in Google paper). "
   ]
  },
  {
   "cell_type": "markdown",
   "metadata": {
    "id": "h_Yu7RsoOvE1"
   },
   "source": [
    "Also, we must combine the main and auxiliary loss in a meaningful way:\n",
    "\n",
    "* Main loss is currently an accuracy \n",
    "* Auxiliary loss would probably be categorical cross entropy"
   ]
  },
  {
   "cell_type": "markdown",
   "metadata": {
    "id": "4umvak0mOvE2"
   },
   "source": [
    "We should probably change the main loss to something more related to the multi-class entropy. "
   ]
  },
  {
   "cell_type": "markdown",
   "metadata": {
    "id": "FWsFE_rfOvE2"
   },
   "source": [
    "# Implementation"
   ]
  },
  {
   "cell_type": "code",
   "execution_count": 1,
   "metadata": {
    "id": "LaNz2YYhwbXx"
   },
   "outputs": [],
   "source": [
    "import torch\n",
    "from torchvision import datasets\n",
    "import matplotlib.pyplot as plt\n",
    "from torch.utils.data import TensorDataset, DataLoader\n",
    "\n",
    "import torch.nn as nn\n",
    "import torch.nn.functional as F\n",
    "import torch.optim as optim\n",
    "\n",
    "import os"
   ]
  },
  {
   "cell_type": "code",
   "execution_count": 2,
   "metadata": {
    "id": "iKEh2PwKZ-B5"
   },
   "outputs": [],
   "source": [
    "try:\n",
    "    import google.colab\n",
    "    # At this point, we know we're in google collab\n",
    "    DOWNLOAD = True\n",
    "except:\n",
    "    DOWNLOAD = not Path('MNIST').exists()"
   ]
  },
  {
   "cell_type": "markdown",
   "metadata": {
    "id": "jAzBfBHS0yjp"
   },
   "source": [
    "## dataset build"
   ]
  },
  {
   "cell_type": "code",
   "execution_count": 3,
   "metadata": {
    "colab": {
     "base_uri": "https://localhost:8080/"
    },
    "id": "67bLOhCvaBqy",
    "outputId": "b2660b75-d379-4eee-c063-38a64a713221"
   },
   "outputs": [
    {
     "name": "stdout",
     "output_type": "stream",
     "text": [
      "--2021-03-14 11:40:41--  http://www.di.ens.fr/~lelarge/MNIST.tar.gz\n",
      "Resolving www.di.ens.fr (www.di.ens.fr)... 129.199.99.14\n",
      "Connecting to www.di.ens.fr (www.di.ens.fr)|129.199.99.14|:80... connected.\n",
      "HTTP request sent, awaiting response... 302 Found\n",
      "Location: https://www.di.ens.fr/~lelarge/MNIST.tar.gz [following]\n",
      "--2021-03-14 11:40:41--  https://www.di.ens.fr/~lelarge/MNIST.tar.gz\n",
      "Connecting to www.di.ens.fr (www.di.ens.fr)|129.199.99.14|:443... connected.\n",
      "HTTP request sent, awaiting response... 200 OK\n",
      "Length: unspecified [application/x-gzip]\n",
      "Saving to: ‘MNIST.tar.gz.2’\n",
      "\n",
      "MNIST.tar.gz.2          [            <=>     ]  33.20M  13.7MB/s    in 2.4s    \n",
      "\n",
      "2021-03-14 11:40:44 (13.7 MB/s) - ‘MNIST.tar.gz.2’ saved [34813078]\n",
      "\n",
      "Download finished...\n"
     ]
    }
   ],
   "source": [
    "if DOWNLOAD:\n",
    "    !wget www.di.ens.fr/~lelarge/MNIST.tar.gz\n",
    "    !tar -xf MNIST.tar.gz\n",
    "    print('Download finished...')"
   ]
  },
  {
   "cell_type": "code",
   "execution_count": 4,
   "metadata": {
    "id": "e6oc9g2JyCEw"
   },
   "outputs": [],
   "source": [
    "######################################################################\n",
    "\n",
    "def mnist_to_pairs(nb, input, target):\n",
    "    input = torch.functional.F.avg_pool2d(input, kernel_size = 2)\n",
    "    a = torch.randperm(input.size(0))\n",
    "    a = a[:2 * nb].view(nb, 2)\n",
    "    input = torch.cat((input[a[:, 0]], input[a[:, 1]]), 1)\n",
    "    classes = target[a]\n",
    "    target = (classes[:, 0] <= classes[:, 1]).long()\n",
    "    return input, target, classes\n",
    "\n",
    "######################################################################\n",
    "\n",
    "def generate_pair_sets(nb):\n",
    "\n",
    "    train_set = datasets.MNIST('', train = True, download = True)\n",
    "    train_input = train_set.data.view(-1, 1, 28, 28).float()\n",
    "    train_target = train_set.targets\n",
    "\n",
    "    test_set = datasets.MNIST('', train = False, download = True)\n",
    "    test_input = test_set.data.view(-1, 1, 28, 28).float()\n",
    "    test_target = test_set.targets\n",
    "\n",
    "    return mnist_to_pairs(nb, train_input, train_target) + \\\n",
    "           mnist_to_pairs(nb, test_input, test_target)\n",
    "\n",
    "######################################################################"
   ]
  },
  {
   "cell_type": "code",
   "execution_count": 5,
   "metadata": {
    "id": "av161kLTFpWj"
   },
   "outputs": [],
   "source": [
    "train_input , train_target , train_classes , test_input , test_target , test_classes = generate_pair_sets(1000)"
   ]
  },
  {
   "cell_type": "code",
   "execution_count": 6,
   "metadata": {
    "colab": {
     "base_uri": "https://localhost:8080/",
     "height": 533
    },
    "id": "XGi49cC5F1T3",
    "outputId": "11e5e366-80ba-46c1-a701-d2c2a56f286b"
   },
   "outputs": [
    {
     "data": {
      "image/png": "[encoded data removed]",
      "text/plain": [
       "<Figure size 432x288 with 1 Axes>"
      ]
     },
     "metadata": {
      "needs_background": "light",
      "tags": []
     },
     "output_type": "display_data"
    },
    {
     "data": {
      "image/png": "[encoded data removed]",
      "text/plain": [
       "<Figure size 432x288 with 1 Axes>"
      ]
     },
     "metadata": {
      "needs_background": "light",
      "tags": []
     },
     "output_type": "display_data"
    },
    {
     "name": "stdout",
     "output_type": "stream",
     "text": [
      "train shape : torch.Size([1000, 2, 14, 14])\n"
     ]
    }
   ],
   "source": [
    "plt.imshow( train_input[0][0].numpy() ) \n",
    "plt.show()\n",
    "plt.imshow( train_input[0][1].numpy() ) \n",
    "plt.show()\n",
    "print(f'train shape : {train_input.shape}')"
   ]
  },
  {
   "cell_type": "code",
   "execution_count": 7,
   "metadata": {
    "id": "ImsRSpztHZ_Z"
   },
   "outputs": [],
   "source": [
    "train_dataset = TensorDataset(train_input,train_target , train_classes)\n",
    "train_dataloader = DataLoader(train_dataset , batch_size=100)\n",
    "\n",
    "test_dataset = TensorDataset(test_input,test_target , test_classes)\n",
    "test_dataloader = DataLoader(test_dataset , batch_size=100)\n"
   ]
  },
  {
   "cell_type": "markdown",
   "metadata": {
    "id": "g8P1WI8gOvE-"
   },
   "source": [
    "# Fully dense net with aux loss\n"
   ]
  },
  {
   "cell_type": "code",
   "execution_count": 8,
   "metadata": {
    "id": "6NDo4PotHZye"
   },
   "outputs": [],
   "source": [
    "class FullyDenseNet(nn.Module):\n",
    "    def __init__(self):\n",
    "        super(FullyDenseNet, self).__init__()\n",
    "\n",
    "        self.fc1 = nn.Linear(2*14*14, 300)\n",
    "        self.fc2 = nn.Linear(300, 200)\n",
    "        self.fc3 = nn.Linear(200, 100)\n",
    "        self.fc4 = nn.Linear(100, 50)\n",
    "        self.fc5 = nn.Linear(50, 1)\n",
    "\n",
    "    def forward(self, x):\n",
    "        x = nn.Flatten(1)(x)\n",
    "        x = torch.relu( self.fc1(x) )\n",
    "        x = torch.relu( self.fc2(x) )\n",
    "        x = torch.relu( self.fc3(x) )\n",
    "        x = torch.relu( self.fc4(x) )\n",
    "        x = self.fc5(x)\n",
    "        return torch.sigmoid(x)"
   ]
  },
  {
   "cell_type": "code",
   "execution_count": 9,
   "metadata": {
    "id": "-Q88Hb4QOvE-"
   },
   "outputs": [],
   "source": [
    "class FullyDenseNetAux(nn.Module):\n",
    "    def __init__(self):\n",
    "        super(FullyDenseNetAux, self).__init__()\n",
    "\n",
    "        # Network basis: common for all losses\n",
    "        # 14 * 14 = 196\n",
    "        self.fc1_im1 = nn.Linear(14*14, 100)\n",
    "        self.fc1_im2 = nn.Linear(14*14, 100)\n",
    "        \n",
    "        self.fc2_im1 = nn.Linear(100, 50)\n",
    "        self.fc2_im2 = nn.Linear(100, 50)\n",
    "        \n",
    "        # Auxiliary networks\n",
    "        self.fc3_im1 = nn.Linear(50, 10)\n",
    "        self.fc3_im2 = nn.Linear(50, 10)\n",
    "        \n",
    "        # Main task\n",
    "        self.fc4 = nn.Linear(2*50, 10)\n",
    "        self.fc5 = nn.Linear(10, 1)\n",
    "\n",
    "    def forward(self, x):\n",
    "        im1 = nn.Flatten()(x[:, 0, :, :])\n",
    "        im2 = nn.Flatten()(x[:, 1, :, :])\n",
    "        \n",
    "        im1 = torch.relu(self.fc1_im1(im1))\n",
    "        im2 = torch.relu(self.fc1_im2(im2))\n",
    "        \n",
    "        im1 = torch.relu(self.fc2_im1(im1))\n",
    "        im2 = torch.relu(self.fc2_im2(im2))\n",
    "        \n",
    "        # Main task\n",
    "        common = torch.cat((im1, im2), dim=1)\n",
    "        common = torch.relu(self.fc4(common))\n",
    "        common = self.fc5(common)\n",
    "        common = torch.sigmoid(common)\n",
    "        \n",
    "        # Auxiliary networks\n",
    "        im1 = self.fc3_im1(im1)\n",
    "        im1 = F.softmax(im1, dim=0)\n",
    "        \n",
    "        im2 = self.fc3_im2(im2)\n",
    "        im2 = F.softmax(im2, dim=0)\n",
    "        \n",
    "        return common, im1, im2"
   ]
  },
  {
   "cell_type": "markdown",
   "metadata": {
    "id": "KA3Ui4BnShQu"
   },
   "source": [
    "# Train tools"
   ]
  },
  {
   "cell_type": "code",
   "execution_count": 10,
   "metadata": {
    "id": "4y7rlAqCOvFA"
   },
   "outputs": [],
   "source": [
    "def custom_loss(output, target, classes, lambda_=1.0):\n",
    "  \"\"\"\n",
    "  Custom loss for network with auxiliary losses. The total loss is a combination\n",
    "  of the loss of the main task (binary cross entropy) and the negative log likelihood\n",
    "  for the two auxiliary tasks. Importance of auxiliary losses is controlled by\n",
    "  the `lambda_` hyperparameter.\n",
    "  \"\"\"\n",
    "  main, im1, im2 = output\n",
    "\n",
    "  main_loss = F.binary_cross_entropy(main.flatten(), target)\n",
    "  aux_loss_1 = F.nll_loss(im1, classes[:, 0])\n",
    "  aux_loss_2 = F.nll_loss(im2, classes[:, 1])\n",
    "\n",
    "  return main_loss + lambda_ * (aux_loss_1 + aux_loss_2)"
   ]
  },
  {
   "cell_type": "code",
   "execution_count": 11,
   "metadata": {
    "id": "1Fmv6jmZOvFA"
   },
   "outputs": [],
   "source": [
    "def handle_loss(criterion):\n",
    "  \"\"\"\n",
    "  Handle the fact that the network with auxiliary loss has three-item tuple output,\n",
    "  which needs to be treated separately to compute the loss and the accuracy.\n",
    "  \"\"\"\n",
    "  if criterion is not custom_loss:\n",
    "    internal_criterion = lambda output, target, _: criterion(output.flatten(), target)\n",
    "    compute_acc = lambda output, target: (target == torch.round(output.flatten()) ).sum().item()\n",
    "  else:\n",
    "    internal_criterion = criterion\n",
    "    compute_acc = lambda output, target: (target == torch.round(output[0].flatten()) ).sum().item()\n",
    "    \n",
    "  return internal_criterion, compute_acc"
   ]
  },
  {
   "cell_type": "code",
   "execution_count": 12,
   "metadata": {
    "id": "i54w5hBmHaES"
   },
   "outputs": [],
   "source": [
    "def train_epoch(network_ , optimizer_ , criterion = F.binary_cross_entropy ):\n",
    "  internal_criterion, compute_acc = handle_loss(criterion)\n",
    "    \n",
    "  loss_tot = []\n",
    "  acc_tot = []\n",
    "  network_.train()\n",
    "  for batch_idx, (data, target , classes ) in enumerate(train_dataloader):\n",
    "    optimizer_.zero_grad()\n",
    "    output = network_(data)\n",
    "    loss = internal_criterion(output, target.to(torch.float32), classes)\n",
    "    loss.backward()\n",
    "    optimizer_.step()\n",
    "\n",
    "    loss_tot.append(loss.item())\n",
    "    acc_tot.append( compute_acc(output, target) )\n",
    "  \n",
    "  return torch.FloatTensor(loss_tot).mean().item() , torch.FloatTensor(acc_tot).mean().item()/100.0"
   ]
  },
  {
   "cell_type": "code",
   "execution_count": 13,
   "metadata": {
    "id": "xe7whYlPQoLi"
   },
   "outputs": [],
   "source": [
    "def test(network_ , criterion_ = F.binary_cross_entropy):\n",
    "  internal_criterion, compute_acc = handle_loss(criterion_)\n",
    "\n",
    "  network_.eval()\n",
    "  test_loss = 0\n",
    "  acc = 0\n",
    "\n",
    "  with torch.no_grad():\n",
    "    for data, target , classes in test_dataloader:\n",
    "      output = network_(data)\n",
    "      test_loss += internal_criterion(output, target.to(torch.float32), classes)\n",
    "      acc += compute_acc(output, target)\n",
    "\n",
    "  test_loss /= len(test_dataloader)\n",
    "  acc /= len(test_dataloader)\n",
    "  return test_loss , acc/100.0"
   ]
  },
  {
   "cell_type": "code",
   "execution_count": 14,
   "metadata": {
    "id": "MHcA1vKgHaGi"
   },
   "outputs": [],
   "source": [
    "def train(network_ , optimizer_ , criterion_ = F.binary_cross_entropy ,epoch_nb = 30,   debug_ = True):\n",
    "\n",
    "  tot_train_loss = []\n",
    "  tot_train_acc = []\n",
    "  tot_test_loss = []\n",
    "  tot_test_acc = []\n",
    "\n",
    "\n",
    "  for epoch in range(epoch_nb):\n",
    "    train_loss , train_acc = train_epoch(network_ , optimizer_ , criterion_)\n",
    "    test_loss , test_acc = test(network_ , criterion_)\n",
    "\n",
    "    tot_train_loss.append(train_loss)\n",
    "    tot_train_acc.append(train_acc)\n",
    "    tot_test_loss.append(test_loss)\n",
    "    tot_test_acc.append(test_acc)\n",
    "\n",
    "    if(debug_):\n",
    "      print(epoch, f'{train_loss:.4}\\t{train_acc:.4}\\t{test_loss:.4}\\t{test_acc:.4}')\n",
    "\n",
    "  return tot_train_loss , tot_train_acc , tot_test_loss , tot_test_acc"
   ]
  },
  {
   "cell_type": "markdown",
   "metadata": {
    "id": "6Zoja7A0SNHd"
   },
   "source": [
    "# Auxiliary task"
   ]
  },
  {
   "cell_type": "code",
   "execution_count": 15,
   "metadata": {
    "colab": {
     "base_uri": "https://localhost:8080/"
    },
    "id": "A6Fwn57JOvE-",
    "outputId": "c3013cf7-fb11-4b29-d20b-a9ff8ae0bf1d"
   },
   "outputs": [
    {
     "name": "stdout",
     "output_type": "stream",
     "text": [
      "0 0.6243\t0.636\t0.5536\t0.701\n",
      "1 0.5129\t0.748\t0.5158\t0.737\n",
      "2 0.4222\t0.815\t0.5019\t0.748\n",
      "3 0.3605\t0.831\t0.6466\t0.693\n",
      "4 0.3674\t0.827\t0.5708\t0.731\n",
      "5 0.2681\t0.899\t0.9423\t0.658\n",
      "6 0.2907\t0.896\t0.5052\t0.787\n",
      "7 0.2346\t0.921\t0.5215\t0.779\n",
      "8 0.252\t0.899\t0.4981\t0.786\n",
      "9 0.1856\t0.929\t0.4614\t0.796\n",
      "10 0.2553\t0.889\t0.4269\t0.806\n",
      "11 0.178\t0.949\t0.4554\t0.805\n",
      "12 0.08578\t0.985\t0.4907\t0.807\n",
      "13 0.05256\t0.998\t0.5184\t0.802\n",
      "14 0.03613\t0.999\t0.543\t0.808\n",
      "15 0.02663\t0.999\t0.5633\t0.806\n",
      "16 0.01908\t0.999\t0.5806\t0.808\n",
      "17 0.01454\t1.0\t0.5951\t0.809\n",
      "18 0.01137\t1.0\t0.6122\t0.81\n",
      "19 0.009255\t1.0\t0.6302\t0.81\n",
      "20 0.007751\t1.0\t0.6448\t0.811\n",
      "21 0.006642\t1.0\t0.6576\t0.81\n",
      "22 0.005761\t1.0\t0.6706\t0.812\n",
      "23 0.005085\t1.0\t0.6814\t0.813\n",
      "24 0.004527\t1.0\t0.692\t0.812\n",
      "25 0.004062\t1.0\t0.7016\t0.812\n",
      "26 0.00368\t1.0\t0.7104\t0.812\n",
      "27 0.003353\t1.0\t0.7188\t0.813\n",
      "28 0.003068\t1.0\t0.7267\t0.813\n",
      "29 0.002821\t1.0\t0.7334\t0.814\n"
     ]
    }
   ],
   "source": [
    "net = FullyDenseNet()\n",
    "optimizer = optim.SGD(net.parameters(), lr=0.01, momentum=0.5)\n",
    "tot_train_loss , tot_train_acc , tot_test_loss , tot_test_acc = train(net, optimizer, F.binary_cross_entropy)"
   ]
  },
  {
   "cell_type": "code",
   "execution_count": 16,
   "metadata": {
    "colab": {
     "base_uri": "https://localhost:8080/"
    },
    "id": "UdLX5l2XOvE_",
    "outputId": "6bd98f54-2502-47c5-8d41-faa7d6134c89"
   },
   "outputs": [
    {
     "name": "stdout",
     "output_type": "stream",
     "text": [
      "0 0.9808\t0.474\t0.6706\t0.482\n",
      "1 0.6102\t0.613\t0.5871\t0.671\n",
      "2 0.5256\t0.706\t0.5376\t0.704\n",
      "3 0.4515\t0.756\t0.4964\t0.741\n",
      "4 0.3914\t0.787\t0.474\t0.752\n",
      "5 0.3398\t0.813\t0.4534\t0.766\n",
      "6 0.3114\t0.822\t0.4455\t0.771\n",
      "7 0.2785\t0.832\t0.4206\t0.774\n",
      "8 0.2177\t0.87\t0.4034\t0.779\n",
      "9 0.1898\t0.862\t0.4354\t0.778\n",
      "10 0.2007\t0.865\t0.4597\t0.775\n",
      "11 0.1615\t0.865\t0.4486\t0.785\n",
      "12 0.09253\t0.907\t0.4102\t0.793\n",
      "13 0.1585\t0.855\t0.5369\t0.753\n",
      "14 0.1357\t0.871\t0.5103\t0.759\n",
      "15 0.08797\t0.894\t0.3868\t0.806\n",
      "16 0.03988\t0.925\t0.6029\t0.737\n",
      "17 0.04774\t0.919\t0.5267\t0.762\n",
      "18 -0.01742\t0.949\t0.5682\t0.782\n",
      "19 -0.03833\t0.966\t0.5102\t0.806\n",
      "20 -0.05876\t0.962\t0.5037\t0.804\n",
      "21 -0.04813\t0.957\t0.6589\t0.735\n",
      "22 -0.05696\t0.961\t0.7121\t0.756\n",
      "23 -0.07793\t0.974\t0.9587\t0.75\n",
      "24 -0.07445\t0.97\t0.6592\t0.784\n",
      "25 -0.0817\t0.973\t0.809\t0.771\n",
      "26 -0.08272\t0.977\t0.6558\t0.803\n",
      "27 0.04679\t0.919\t0.4387\t0.803\n",
      "28 0.02548\t0.922\t0.4135\t0.758\n",
      "29 -0.03652\t0.954\t0.6463\t0.765\n"
     ]
    }
   ],
   "source": [
    "net = FullyDenseNetAux()\n",
    "optimizer = optim.SGD(net.parameters(), lr=0.01, momentum=0.5)\n",
    "tot_train_loss , tot_train_acc , tot_test_loss , tot_test_acc = train(net, optimizer, criterion_=custom_loss)"
   ]
  },
  {
   "cell_type": "markdown",
   "metadata": {
    "id": "jYg-E2UB8Flj"
   },
   "source": [
    "# stats"
   ]
  },
  {
   "cell_type": "code",
   "execution_count": 17,
   "metadata": {
    "id": "D4w2tGbGgUne"
   },
   "outputs": [],
   "source": [
    "import seaborn as sns\n",
    "sns.set(style='whitegrid')"
   ]
  },
  {
   "cell_type": "code",
   "execution_count": 18,
   "metadata": {
    "id": "ffB574WB8IFx"
   },
   "outputs": [],
   "source": [
    "def train_multiple_runs(network_class, criterion=F.binary_cross_entropy, runs = 10 , epoch = 30):\n",
    "  all_train_loss , all_train_acc , all_test_loss , all_test_acc = [],[],[],[]\n",
    "  \n",
    "  for i in range(runs):\n",
    "    n = network_class()\n",
    "    optimizer = optim.SGD(n.parameters(), lr=0.01, momentum=0.5)\n",
    "\n",
    "    tot_train_loss , tot_train_acc , tot_test_loss , tot_test_acc = train(n , optimizer , criterion , epoch , debug_ = False)\n",
    "    all_train_loss.append(tot_train_loss)\n",
    "    all_train_acc.append(tot_train_acc)\n",
    "    all_test_loss.append(tot_test_loss)\n",
    "    all_test_acc.append(tot_test_acc)\n",
    "\n",
    "    if i % 2 == 0:\n",
    "      print(i, end=' ')\n",
    "\n",
    "  return all_train_loss , all_train_acc , all_test_loss , all_test_acc"
   ]
  },
  {
   "cell_type": "code",
   "execution_count": 19,
   "metadata": {
    "id": "C66k1nu4HaMp"
   },
   "outputs": [],
   "source": [
    "def plot_loss_acc( tot_train_loss , tot_train_acc , tot_test_loss , tot_test_acc ):\n",
    "  epochs = range(1, len(tot_train_loss)+1 )\n",
    "  plt.plot(epochs, tot_train_loss, 'g', label='Training loss')\n",
    "  plt.plot(epochs, tot_test_loss, 'b', label='Test loss')\n",
    "  plt.plot(epochs, tot_train_acc, 'r', label='Training acc')\n",
    "  plt.plot(epochs, tot_test_acc, 'y', label='Test acc')\n",
    "  plt.title('Training and Test loss/acc')\n",
    "  plt.xlabel('Epochs')\n",
    "  plt.ylabel('loss/acc')\n",
    "  plt.ylim((0,1))\n",
    "  plt.legend()\n",
    "  plt.show()"
   ]
  },
  {
   "cell_type": "code",
   "execution_count": 20,
   "metadata": {
    "id": "fi4wxxDM9KWH"
   },
   "outputs": [],
   "source": [
    "def plot_std_loss_acc(all_train_loss , all_train_acc , all_test_loss , all_test_acc):\n",
    "  def subplot(ax, mean, std, label=None):\n",
    "    x = range(1, len(mean) + 1)\n",
    "    ax.plot(x, mean, label=label)\n",
    "    ax.fill_between(x, mean - std, mean + std, alpha=0.3)\n",
    "\n",
    "  # Convert lists of lists to tensors\n",
    "  data = {\n",
    "      'loss_train': all_train_loss,\n",
    "      'loss_test' : all_test_loss,\n",
    "      'acc_train':  all_train_acc,\n",
    "      'acc_test':   all_test_acc\n",
    "  }\n",
    "\n",
    "  data = {k: torch.tensor(v) for k, v in data.items()}\n",
    "\n",
    "  # Compute mean and std. The multiple runs are in axis 0, epochs in axis 1\n",
    "  plot_data = {}\n",
    "  for label, tensor in data.items():\n",
    "    plot_data[f'{label}_mean'] = tensor.mean(dim=0)\n",
    "    plot_data[f'{label}_std'] = tensor.std(dim=0)\n",
    "    \n",
    "  # Plot!\n",
    "  fig, ax = plt.subplots(2, 1, sharex=True, figsize=(6, 5))\n",
    "  subplot(ax[0], plot_data['loss_train_mean'], plot_data['loss_train_std'], label='train')\n",
    "  subplot(ax[0], plot_data['loss_test_mean'], plot_data['loss_test_std'], label='test')\n",
    "  ax[0].set_ylabel('Loss')\n",
    "  subplot(ax[1], plot_data['acc_train_mean'], plot_data['acc_train_std'])\n",
    "  subplot(ax[1], plot_data['acc_test_mean'], plot_data['acc_test_std'])\n",
    "  ax[1].set_ylabel('Accuracy')\n",
    "  ax[1].set_xlabel('Epoch')\n",
    "\n",
    "  ax[0].legend()"
   ]
  },
  {
   "cell_type": "code",
   "execution_count": 21,
   "metadata": {
    "colab": {
     "base_uri": "https://localhost:8080/"
    },
    "id": "Mq82dFBjaXCc",
    "outputId": "10264574-3b62-479f-f117-a18aab5d48bc"
   },
   "outputs": [
    {
     "name": "stdout",
     "output_type": "stream",
     "text": [
      "0 2 4 6 8 10 12 14 "
     ]
    }
   ],
   "source": [
    "all_train_loss , all_train_acc , all_test_loss , all_test_acc = train_multiple_runs(FullyDenseNetAux, \n",
    "                                                                                    criterion=custom_loss,\n",
    "                                                                                    epoch=25,\n",
    "                                                                                    runs=15)"
   ]
  },
  {
   "cell_type": "code",
   "execution_count": 21,
   "metadata": {
    "id": "sOuoZPAjiZUF"
   },
   "outputs": [],
   "source": []
  },
  {
   "cell_type": "code",
   "execution_count": 22,
   "metadata": {
    "colab": {
     "base_uri": "https://localhost:8080/",
     "height": 340
    },
    "id": "pL0EeDC2a_Gm",
    "outputId": "12add5f3-3f0a-4b95-8741-64ad189e09c6"
   },
   "outputs": [
    {
     "data": {
      "image/png": "[encoded data removed]",
      "text/plain": [
       "<Figure size 432x360 with 2 Axes>"
      ]
     },
     "metadata": {
      "tags": []
     },
     "output_type": "display_data"
    }
   ],
   "source": [
    "plot_std_loss_acc(all_train_loss , all_train_acc , all_test_loss , all_test_acc)"
   ]
  }
 ],
 "metadata": {
  "colab": {
   "name": "Auxiliary-loss.ipynb",
   "provenance": []
  },
  "kernelspec": {
   "display_name": "Python 3",
   "language": "python",
   "name": "python3"
  },
  "language_info": {
   "codemirror_mode": {
    "name": "ipython",
    "version": 3
   },
   "file_extension": ".py",
   "mimetype": "text/x-python",
   "name": "python",
   "nbconvert_exporter": "python",
   "pygments_lexer": "ipython3",
   "version": "3.8.5"
  }
 },
 "nbformat": 4,
 "nbformat_minor": 1
}
