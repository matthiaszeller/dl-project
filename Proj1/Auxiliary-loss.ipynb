{
 "cells": [
  {
   "cell_type": "markdown",
   "metadata": {},
   "source": [
    "# Paper *Self-Supervised Generalisation with Meta Auxiliary Learning*\n",
    "\n",
    "https://papers.nips.cc/paper/2019/file/92262bf907af914b95a0fc33c3f33bf6-Paper.pdf"
   ]
  },
  {
   "cell_type": "markdown",
   "metadata": {},
   "source": [
    "Using an auxiliary loss is called auxiliary learning, and is similar to multi-task learning, except that only the primary task is of interest. In our case, the primary task is to output whether image 1 is a digit smaller than image 2. The role of the auxiliary task is to assist in generalization of this primary task.\n",
    "\n",
    "This paper discusses unsupervised auxiliary learning, for the cases when no label exist for the auxiliary task. Note: this is not our case, we have the original labels $\\{0, 1, \\dots, 9\\}$ from which we deduce the boolean value. Also, the project presentation PDF mentions:\n",
    "\n",
    "> For the [auxiliary loss], the training can in particular take advantage of the availability of the classes of the two digits in each pair, beside the Boolean value truly of interest. \n"
   ]
  },
  {
   "cell_type": "markdown",
   "metadata": {},
   "source": [
    "# Google paper \"Going deeper with convolutions\"\n",
    "\n",
    "https://arxiv.org/abs/1409.4842\n",
    "\n",
    "https://stats.stackexchange.com/questions/304699/what-is-auxiliary-loss-as-mentioned-in-pspnet-paper\n",
    "\n"
   ]
  },
  {
   "cell_type": "markdown",
   "metadata": {},
   "source": [
    "The paper from Google introduced the concept of auxiliary loss. But the focus is to improve very deep networks (they describe a 22-layer long network), whereas we don't really have deep networks for our simple task. The basic idea is to add **auxiliary classifiers connected to intermediate layers**. This is especially useful to **fight gradient vanishing and add regularization**."
   ]
  },
  {
   "cell_type": "markdown",
   "metadata": {},
   "source": [
    "### Structure of extra network\n",
    "\n",
    "1. Average pooling layer\n",
    "1. 1x1 convolution for dimension reduction and relu activation\n",
    "1. fully connected and relu\n",
    "1. dropout (70%)\n",
    "1. linear layer with softmax loss as classifier"
   ]
  },
  {
   "cell_type": "markdown",
   "metadata": {},
   "source": [
    "# Draft ideas for Project 1"
   ]
  },
  {
   "cell_type": "markdown",
   "metadata": {},
   "source": [
    "Based on this [medium article](https://towardsdatascience.com/improve-your-neural-networks-generalization-performance-by-adding-an-unsupervised-auxiliary-loss-4d58b2dead54), we can combine the main loss with the auxiliary loss for the total loss:\n",
    "\n",
    "$$\\text{total loss} = \\text{main loss} + \\lambda \\cdot \\text{auxiliary loss}$$"
   ]
  },
  {
   "cell_type": "markdown",
   "metadata": {},
   "source": [
    "Also, since our network is *not* deep (and can't be, because computations must be rather fast as mentionned in the project description), we should probably put the auxiliary classifier at the end of the network, and not at intermediate levels (as done in Google paper). "
   ]
  },
  {
   "cell_type": "markdown",
   "metadata": {},
   "source": [
    "Also, we must combine the main and auxiliary loss in a meaningful way:\n",
    "\n",
    "* Main loss is currently an accuracy \n",
    "* Auxiliary loss would probably be categorical cross entropy"
   ]
  },
  {
   "cell_type": "markdown",
   "metadata": {},
   "source": [
    "We should probably change the main loss to something more related to the multi-class entropy. "
   ]
  },
  {
   "cell_type": "markdown",
   "metadata": {},
   "source": [
    "# Implementation"
   ]
  },
  {
   "cell_type": "code",
   "execution_count": 1,
   "metadata": {
    "id": "LaNz2YYhwbXx"
   },
   "outputs": [],
   "source": [
    "import torch\r\n",
    "from torchvision import datasets\r\n",
    "import matplotlib.pyplot as plt\r\n",
    "from torch.utils.data import TensorDataset, DataLoader\r\n",
    "\r\n",
    "import torch.nn as nn\r\n",
    "import torch.nn.functional as F\r\n",
    "import torch.optim as optim\r\n",
    "\r\n",
    "import os"
   ]
  },
  {
   "cell_type": "markdown",
   "metadata": {
    "id": "jAzBfBHS0yjp"
   },
   "source": [
    "## dataset build"
   ]
  },
  {
   "cell_type": "code",
   "execution_count": 2,
   "metadata": {
    "colab": {
     "base_uri": "https://localhost:8080/"
    },
    "id": "nsfGSYY9QaKA",
    "outputId": "3e29e18e-7160-4f4b-8cac-c4f32fc09f44"
   },
   "outputs": [
    {
     "name": "stdout",
     "output_type": "stream",
     "text": [
      "--2021-03-08 21:38:53--  http://www.di.ens.fr/~lelarge/MNIST.tar.gz\n",
      "Resolving www.di.ens.fr (www.di.ens.fr)... 129.199.99.14\n",
      "Connecting to www.di.ens.fr (www.di.ens.fr)|129.199.99.14|:80... connected.\n",
      "HTTP request sent, awaiting response... 302 Found\n",
      "Location: https://www.di.ens.fr/~lelarge/MNIST.tar.gz [following]\n",
      "--2021-03-08 21:38:53--  https://www.di.ens.fr/~lelarge/MNIST.tar.gz\n",
      "Connecting to www.di.ens.fr (www.di.ens.fr)|129.199.99.14|:443... connected.\n",
      "HTTP request sent, awaiting response... 200 OK\n",
      "Length: unspecified [application/x-gzip]\n",
      "Saving to: ‘MNIST.tar.gz.1’\n",
      "\n",
      "MNIST.tar.gz.1          [        <=>         ]  13.79M   591KB/s               ^C\n"
     ]
    }
   ],
   "source": [
    "!wget www.di.ens.fr/~lelarge/MNIST.tar.gz"
   ]
  },
  {
   "cell_type": "code",
   "execution_count": 3,
   "metadata": {
    "id": "6_TIp4ACQhpr"
   },
   "outputs": [],
   "source": [
    "!tar -xf MNIST.tar.gz\r\n"
   ]
  },
  {
   "cell_type": "code",
   "execution_count": 4,
   "metadata": {
    "colab": {
     "base_uri": "https://localhost:8080/"
    },
    "id": "adfc8yshRCUe",
    "outputId": "01e3407b-189f-4e4d-d60b-96459ad8ee1d"
   },
   "outputs": [
    {
     "name": "stdout",
     "output_type": "stream",
     "text": [
      "test.pt  training.pt\n"
     ]
    }
   ],
   "source": [
    "!ls MNIST/processed/"
   ]
  },
  {
   "cell_type": "code",
   "execution_count": 2,
   "metadata": {
    "id": "e6oc9g2JyCEw"
   },
   "outputs": [],
   "source": [
    "######################################################################\r\n",
    "\r\n",
    "def mnist_to_pairs(nb, input, target):\r\n",
    "    input = torch.functional.F.avg_pool2d(input, kernel_size = 2)\r\n",
    "    a = torch.randperm(input.size(0))\r\n",
    "    a = a[:2 * nb].view(nb, 2)\r\n",
    "    input = torch.cat((input[a[:, 0]], input[a[:, 1]]), 1)\r\n",
    "    classes = target[a]\r\n",
    "    target = (classes[:, 0] <= classes[:, 1]).long()\r\n",
    "    return input, target, classes\r\n",
    "\r\n",
    "######################################################################\r\n",
    "\r\n",
    "def generate_pair_sets(nb):\r\n",
    "\r\n",
    "    train_set = datasets.MNIST('', train = True, download = True)\r\n",
    "    train_input = train_set.data.view(-1, 1, 28, 28).float()\r\n",
    "    train_target = train_set.targets\r\n",
    "\r\n",
    "    test_set = datasets.MNIST('', train = False, download = True)\r\n",
    "    test_input = test_set.data.view(-1, 1, 28, 28).float()\r\n",
    "    test_target = test_set.targets\r\n",
    "\r\n",
    "    return mnist_to_pairs(nb, train_input, train_target) + \\\r\n",
    "           mnist_to_pairs(nb, test_input, test_target)\r\n",
    "\r\n",
    "######################################################################"
   ]
  },
  {
   "cell_type": "code",
   "execution_count": 3,
   "metadata": {
    "id": "av161kLTFpWj"
   },
   "outputs": [],
   "source": [
    "train_input , train_target , train_classes , test_input , test_target , test_classes = generate_pair_sets(1000)"
   ]
  },
  {
   "cell_type": "code",
   "execution_count": 4,
   "metadata": {
    "colab": {
     "base_uri": "https://localhost:8080/",
     "height": 530
    },
    "id": "XGi49cC5F1T3",
    "outputId": "1cd17e02-2132-4fec-9d77-eab2cceddb0a"
   },
   "outputs": [
    {
     "data": {
      "image/png": "[encoded data removed]",
      "text/plain": [
       "<Figure size 432x288 with 1 Axes>"
      ]
     },
     "metadata": {
      "needs_background": "light"
     },
     "output_type": "display_data"
    },
    {
     "data": {
      "image/png": "[encoded data removed]",
      "text/plain": [
       "<Figure size 432x288 with 1 Axes>"
      ]
     },
     "metadata": {
      "needs_background": "light"
     },
     "output_type": "display_data"
    },
    {
     "name": "stdout",
     "output_type": "stream",
     "text": [
      "train shape : torch.Size([1000, 2, 14, 14])\n"
     ]
    }
   ],
   "source": [
    "plt.imshow( train_input[0][0].numpy() ) \r\n",
    "plt.show()\r\n",
    "plt.imshow( train_input[0][1].numpy() ) \r\n",
    "plt.show()\r\n",
    "print(f'train shape : {train_input.shape}')"
   ]
  },
  {
   "cell_type": "code",
   "execution_count": 5,
   "metadata": {
    "id": "ImsRSpztHZ_Z"
   },
   "outputs": [],
   "source": [
    "train_dataset = TensorDataset(train_input,train_target , train_classes)\r\n",
    "train_dataloader = DataLoader(train_dataset , batch_size=100)\r\n",
    "\r\n",
    "test_dataset = TensorDataset(test_input,test_target , test_classes)\r\n",
    "test_dataloader = DataLoader(test_dataset , batch_size=100)\r\n"
   ]
  },
  {
   "cell_type": "markdown",
   "metadata": {},
   "source": [
    "# Fully dense net with aux loss\n"
   ]
  },
  {
   "cell_type": "code",
   "execution_count": 27,
   "metadata": {
    "id": "6NDo4PotHZye"
   },
   "outputs": [],
   "source": [
    "class FullyDenseNet(nn.Module):\n",
    "    def __init__(self):\n",
    "        super(FullyDenseNet, self).__init__()\n",
    "\n",
    "        self.fc1 = nn.Linear(2*14*14, 300)\n",
    "        self.fc2 = nn.Linear(300, 200)\n",
    "        self.fc3 = nn.Linear(200, 100)\n",
    "        self.fc4 = nn.Linear(100, 50)\n",
    "        self.fc5 = nn.Linear(50, 1)\n",
    "\n",
    "    def forward(self, x):\n",
    "        x = nn.Flatten(1)(x)\n",
    "        x = torch.relu( self.fc1(x) )\n",
    "        x = torch.relu( self.fc2(x) )\n",
    "        x = torch.relu( self.fc3(x) )\n",
    "        x = torch.relu( self.fc4(x) )\n",
    "        x = self.fc5(x)\n",
    "        return torch.sigmoid(x)"
   ]
  },
  {
   "cell_type": "code",
   "execution_count": 11,
   "metadata": {
    "id": "6NDo4PotHZye"
   },
   "outputs": [],
   "source": [
    "class FullyDenseNetAux(nn.Module):\n",
    "    def __init__(self):\n",
    "        super(FullyDenseNetAux, self).__init__()\n",
    "\n",
    "        # Network basis: common for all losses\n",
    "        # 14 * 14 = 196\n",
    "        self.fc1_im1 = nn.Linear(14*14, 100)\n",
    "        self.fc1_im2 = nn.Linear(14*14, 100)\n",
    "        \n",
    "        self.fc2_im1 = nn.Linear(100, 50)\n",
    "        self.fc2_im2 = nn.Linear(100, 50)\n",
    "        \n",
    "        # Auxiliary networks\n",
    "        self.fc3_im1 = nn.Linear(50, 10)\n",
    "        self.fc3_im2 = nn.Linear(50, 10)\n",
    "        \n",
    "        # Main task\n",
    "        self.fc4 = nn.Linear(2*50, 10)\n",
    "        self.fc5 = nn.Linear(10, 1)\n",
    "\n",
    "    def forward(self, x):\n",
    "        im1 = nn.Flatten()(x[:, 0, :, :])\n",
    "        im2 = nn.Flatten()(x[:, 1, :, :])\n",
    "        \n",
    "        im1 = torch.relu(self.fc1_im1(im1))\n",
    "        im2 = torch.relu(self.fc1_im2(im2))\n",
    "        \n",
    "        im1 = torch.relu(self.fc2_im1(im1))\n",
    "        im2 = torch.relu(self.fc2_im2(im2))\n",
    "        \n",
    "        # Main task\n",
    "        common = torch.cat((im1, im2), dim=1)\n",
    "        common = torch.relu(self.fc4(common))\n",
    "        common = self.fc5(common)\n",
    "        common = F.sigmoid(common)\n",
    "        \n",
    "        # Auxiliary networks\n",
    "        im1 = self.fc3_im1(im1)\n",
    "        im1 = F.softmax(im1)\n",
    "        \n",
    "        im2 = self.fc3_im2(im2)\n",
    "        im2 = F.softmax(im2)\n",
    "        \n",
    "        return common, im1, im2"
   ]
  },
  {
   "cell_type": "code",
   "execution_count": 33,
   "metadata": {},
   "outputs": [
    {
     "name": "stdout",
     "output_type": "stream",
     "text": [
      "0 0.6589189767837524 50.91 tensor(0.5844) 48.552\n",
      "1 0.48521560430526733 50.8760009765625 tensor(0.5688) 48.688\n",
      "2 0.4298025667667389 51.042001953125 tensor(0.5805) 48.174\n",
      "3 0.3910297751426697 51.032001953125 tensor(0.5940) 47.886\n",
      "4 0.36674779653549194 50.912001953125 tensor(0.5776) 48.224\n",
      "5 0.37001627683639526 50.6360009765625 tensor(0.5107) 49.242\n",
      "6 0.31918391585350037 50.557998046875 tensor(0.4855) 52.356\n",
      "7 0.2548154890537262 50.6660009765625 tensor(0.4833) 51.894\n",
      "8 0.19821672141551971 50.767998046875 tensor(0.4985) 51.838\n",
      "9 0.1679983139038086 50.792001953125 tensor(0.5085) 51.48\n",
      "10 0.14728650450706482 50.882001953125 tensor(0.5195) 50.72\n",
      "11 0.12207827717065811 50.6760009765625 tensor(0.6308) 53.526\n",
      "12 0.19551147520542145 50.4660009765625 tensor(0.6134) 53.193999999999996\n",
      "13 0.14905351400375366 51.027998046875 tensor(0.6278) 53.122\n",
      "14 0.11941385269165039 50.667998046875 tensor(0.5406) 51.824\n",
      "15 0.13974426686763763 50.9160009765625 tensor(0.5548) 49.45\n",
      "16 0.13733993470668793 50.8460009765625 tensor(0.6100) 48.77\n",
      "17 0.0744851753115654 50.752001953125 tensor(0.7297) 53.812\n",
      "18 0.058474160730838776 50.797998046875 tensor(0.8641) 54.29\n",
      "19 0.05140538886189461 50.8239990234375 tensor(0.8276) 53.888000000000005\n",
      "20 0.0790279358625412 50.92 tensor(0.6226) 52.562\n",
      "21 0.14044587314128876 50.722001953125 tensor(0.5948) 53.066\n",
      "22 0.04573604464530945 50.857998046875 tensor(0.5934) 52.228\n",
      "23 0.02198568359017372 50.8139990234375 tensor(0.5936) 51.13\n",
      "24 0.009299185127019882 50.8160009765625 tensor(0.6325) 50.928000000000004\n",
      "25 0.006973314099013805 50.8160009765625 tensor(0.6580) 50.928000000000004\n",
      "26 0.005498533137142658 50.8160009765625 tensor(0.6778) 50.912\n",
      "27 0.004536784254014492 50.8160009765625 tensor(0.6938) 50.943999999999996\n",
      "28 0.0038618866819888353 50.8160009765625 tensor(0.7075) 50.94\n",
      "29 0.003350795479491353 50.8160009765625 tensor(0.7197) 50.94\n"
     ]
    }
   ],
   "source": [
    "net = FullyDenseNet()\n",
    "optimizer = optim.SGD(net.parameters(), lr=0.01, momentum=0.5)\n",
    "tot_train_loss , tot_train_acc , tot_test_loss , tot_test_acc = train(net, optimizer, F.binary_cross_entropy)"
   ]
  },
  {
   "cell_type": "code",
   "execution_count": 32,
   "metadata": {},
   "outputs": [
    {
     "name": "stderr",
     "output_type": "stream",
     "text": [
      "/home/maousi/anaconda3/envs/ml/lib/python3.8/site-packages/torch/nn/functional.py:1639: UserWarning: nn.functional.sigmoid is deprecated. Use torch.sigmoid instead.\n",
      "  warnings.warn(\"nn.functional.sigmoid is deprecated. Use torch.sigmoid instead.\")\n",
      "<ipython-input-11-c0597ce55c3e>:39: UserWarning: Implicit dimension choice for softmax has been deprecated. Change the call to include dim=X as an argument.\n",
      "  im1 = F.softmax(im1)\n",
      "<ipython-input-11-c0597ce55c3e>:42: UserWarning: Implicit dimension choice for softmax has been deprecated. Change the call to include dim=X as an argument.\n",
      "  im2 = F.softmax(im2)\n"
     ]
    },
    {
     "name": "stdout",
     "output_type": "stream",
     "text": [
      "0 0.3471938669681549 53.2 tensor(0.1102) 56.5\n",
      "1 -0.07583669573068619 52.3739990234375 tensor(-0.1400) 52.86\n",
      "2 -0.2540977895259857 51.43 tensor(-0.2573) 50.922\n",
      "3 -0.3904423117637634 50.8960009765625 tensor(-0.3181) 49.898\n",
      "4 -0.4854885935783386 50.7860009765625 tensor(-0.3574) 50.07\n",
      "5 -0.5614346265792847 50.767998046875 tensor(-0.4032) 50.692\n",
      "6 -0.6354878544807434 50.887998046875 tensor(-0.4307) 50.268\n",
      "7 -0.7142586708068848 50.917998046875 tensor(-0.4408) 50.552\n",
      "8 -0.7655872106552124 50.93 tensor(-0.4552) 49.972\n",
      "9 -0.8210858106613159 50.96 tensor(-0.5064) 51.076\n",
      "10 -0.8529136776924133 50.91 tensor(-0.5105) 51.258\n",
      "11 -0.8885366320610046 51.06 tensor(-0.4908) 50.496\n",
      "12 -0.9068744778633118 50.852001953125 tensor(-0.5312) 51.614\n",
      "13 -0.7646325826644897 50.787998046875 tensor(-0.5017) 53.354\n",
      "14 -0.8853691816329956 51.047998046875 tensor(-0.6560) 51.618\n",
      "15 -1.0521290302276611 50.89 tensor(-0.6639) 51.244\n",
      "16 -1.1075416803359985 50.887998046875 tensor(-0.6694) 51.342\n",
      "17 -1.138146162033081 50.8160009765625 tensor(-0.6435) 50.556000000000004\n",
      "18 -1.1550319194793701 50.8039990234375 tensor(-0.6429) 50.681999999999995\n",
      "19 -1.1085014343261719 50.937998046875 tensor(-0.6572) 51.006\n",
      "20 -1.1415607929229736 50.8939990234375 tensor(-0.1131) 47.168\n",
      "21 -1.1536283493041992 50.72 tensor(-0.6064) 52.84\n",
      "22 -1.1839786767959595 50.542001953125 tensor(-0.5352) 53.346000000000004\n",
      "23 -1.2148669958114624 50.81 tensor(-0.5653) 52.97\n",
      "24 -1.2340166568756104 50.6760009765625 tensor(-0.5786) 52.596000000000004\n",
      "25 -1.2948808670043945 50.802001953125 tensor(-0.5974) 53.044\n",
      "26 -1.2524441480636597 50.8139990234375 tensor(-0.2973) 47.663999999999994\n",
      "27 -1.2899768352508545 50.587998046875 tensor(-0.7606) 52.416000000000004\n",
      "28 -1.3616690635681152 50.832001953125 tensor(-0.7346) 52.356\n",
      "29 -1.3788238763809204 50.8639990234375 tensor(-0.7238) 52.408\n"
     ]
    }
   ],
   "source": [
    "net = FullyDenseNetAux()\n",
    "optimizer = optim.SGD(net.parameters(), lr=0.01, momentum=0.5)\n",
    "tot_train_loss , tot_train_acc , tot_test_loss , tot_test_acc = train(net, optimizer, criterion_=custom_loss)"
   ]
  },
  {
   "cell_type": "markdown",
   "metadata": {
    "id": "KA3Ui4BnShQu"
   },
   "source": [
    "# Train tools"
   ]
  },
  {
   "cell_type": "code",
   "execution_count": 6,
   "metadata": {},
   "outputs": [],
   "source": [
    "def custom_loss(output, target, classes):\n",
    "    main, im1, im2 = output\n",
    "    \n",
    "    main_loss = F.binary_cross_entropy(main.flatten(), target)\n",
    "    aux_loss_1 = F.nll_loss(im1, classes[:, 0])\n",
    "    aux_loss_2 = F.nll_loss(im2, classes[:, 1])\n",
    "    \n",
    "    return main_loss + aux_loss_1 + aux_loss_2"
   ]
  },
  {
   "cell_type": "code",
   "execution_count": 31,
   "metadata": {},
   "outputs": [],
   "source": [
    "def handle_loss(criterion):\n",
    "  if criterion is not custom_loss:\n",
    "    internal_criterion = lambda output, target, _: criterion(output.flatten(), target)\n",
    "    compute_acc = lambda output, target: (target == torch.round(output) ).sum().item()\n",
    "  else:\n",
    "    internal_criterion = criterion\n",
    "    compute_acc = lambda output, target: (target == torch.round(output[0]) ).sum().item()\n",
    "    \n",
    "  return internal_criterion, compute_acc"
   ]
  },
  {
   "cell_type": "code",
   "execution_count": 8,
   "metadata": {
    "id": "i54w5hBmHaES"
   },
   "outputs": [],
   "source": [
    "def train_epoch(network_ , optimizer_ , criterion = F.binary_cross_entropy ):\n",
    "  internal_criterion, compute_acc = handle_loss(criterion)\n",
    "    \n",
    "  loss_tot = []\n",
    "  acc_tot = []\n",
    "  network_.train()\n",
    "  for batch_idx, (data, target , classes ) in enumerate(train_dataloader):\n",
    "    optimizer_.zero_grad()\n",
    "    output = network_(data)\n",
    "    loss = internal_criterion(output, target.to(torch.float32), classes)\n",
    "    loss.backward()\n",
    "    optimizer_.step()\n",
    "\n",
    "    loss_tot.append(loss.item())\n",
    "    acc_tot.append( compute_acc(output, target) )\n",
    "  \n",
    "  return torch.FloatTensor(loss_tot).mean().item() , torch.FloatTensor(acc_tot).mean().item()/100.0"
   ]
  },
  {
   "cell_type": "code",
   "execution_count": 24,
   "metadata": {
    "id": "xe7whYlPQoLi"
   },
   "outputs": [],
   "source": [
    "def test(network_ , criterion_ = F.binary_cross_entropy):\n",
    "  internal_criterion, compute_acc = handle_loss(criterion_)\n",
    "\n",
    "  network_.eval()\n",
    "  test_loss = 0\n",
    "  acc = 0\n",
    "\n",
    "  with torch.no_grad():\n",
    "    for data, target , classes in test_dataloader:\n",
    "      output = network_(data)\n",
    "      test_loss += internal_criterion(output, target.to(torch.float32), classes)\n",
    "      acc += compute_acc(output, target)\n",
    "\n",
    "  test_loss /= len(test_dataloader)\n",
    "  acc /= len(test_dataloader)\n",
    "  return test_loss , acc/100.0"
   ]
  },
  {
   "cell_type": "code",
   "execution_count": 39,
   "metadata": {},
   "outputs": [
    {
     "name": "stderr",
     "output_type": "stream",
     "text": [
      "<ipython-input-11-c0597ce55c3e>:39: UserWarning: Implicit dimension choice for softmax has been deprecated. Change the call to include dim=X as an argument.\n",
      "  im1 = F.softmax(im1)\n",
      "<ipython-input-11-c0597ce55c3e>:42: UserWarning: Implicit dimension choice for softmax has been deprecated. Change the call to include dim=X as an argument.\n",
      "  im2 = F.softmax(im2)\n"
     ]
    },
    {
     "name": "stdout",
     "output_type": "stream",
     "text": [
      "0 0.25306418538093567 48.442001953125 tensor(-0.0231) 50.222\n",
      "1 -0.19650132954120636 50.53 tensor(-0.1727) 48.681999999999995\n",
      "2 -0.35344260931015015 50.7739990234375 tensor(-0.2374) 47.854\n",
      "3 -0.45223158597946167 50.5960009765625 tensor(-0.3300) 49.508\n",
      "4 -0.5171807408332825 50.502001953125 tensor(-0.3838) 49.23\n",
      "5 -0.6004834175109863 50.6 tensor(-0.4790) 50.532\n",
      "6 -0.6957592964172363 50.522001953125 tensor(-0.5611) 51.27\n",
      "7 -0.8166763186454773 50.5460009765625 tensor(-0.5250) 52.626000000000005\n",
      "8 -0.8450201153755188 50.6560009765625 tensor(-0.5720) 51.382\n",
      "9 -0.8971213102340698 50.7060009765625 tensor(-0.5629) 51.044\n",
      "10 -0.9311823844909668 50.647998046875 tensor(-0.5630) 51.251999999999995\n",
      "11 -0.963970959186554 50.7460009765625 tensor(-0.4387) 49.523999999999994\n",
      "12 -0.9470165371894836 50.7839990234375 tensor(-0.5763) 50.083999999999996\n",
      "13 -0.9613487124443054 50.602001953125 tensor(-0.5541) 50.238\n",
      "14 -1.0090757608413696 50.6339990234375 tensor(-0.5136) 52.95399999999999\n",
      "15 -0.9839712381362915 50.532001953125 tensor(-0.4952) 52.58\n",
      "16 -1.06119966506958 50.7060009765625 tensor(-0.4423) 52.84\n",
      "17 -1.0750175714492798 50.7239990234375 tensor(-0.4056) 52.946000000000005\n",
      "18 -1.0870001316070557 50.757998046875 tensor(-0.4389) 52.61600000000001\n",
      "19 -1.0880229473114014 50.8060009765625 tensor(-0.4095) 52.49\n",
      "20 -1.094697117805481 50.85 tensor(-0.4066) 52.238\n",
      "21 -0.9371591806411743 51.12 tensor(-0.5200) 50.722\n",
      "22 -0.9214426875114441 50.547998046875 tensor(-0.3040) 53.048\n",
      "23 -1.0674843788146973 50.72 tensor(-0.4227) 52.416000000000004\n",
      "24 -1.0762498378753662 50.7939990234375 tensor(-0.4672) 52.44\n",
      "25 -1.0916606187820435 50.767998046875 tensor(-0.0789) 54.008\n",
      "26 -1.099919319152832 50.84 tensor(-0.4316) 52.256\n",
      "27 -1.1130821704864502 50.98 tensor(-0.4510) 51.228\n",
      "28 -1.103208303451538 50.962001953125 tensor(-0.5116) 51.483999999999995\n",
      "29 -1.1091803312301636 51.0239990234375 tensor(-0.5645) 51.608000000000004\n"
     ]
    }
   ],
   "source": [
    "net = FullyDenseNetAux()\n",
    "optimizer = optim.SGD(net.parameters(), lr=0.01, momentum=0.5)\n",
    "tot_train_loss , tot_train_acc , tot_test_loss , tot_test_acc = train(net, optimizer, criterion_=custom_loss)"
   ]
  },
  {
   "cell_type": "code",
   "execution_count": 42,
   "metadata": {
    "id": "MHcA1vKgHaGi"
   },
   "outputs": [
    {
     "ename": "IndentationError",
     "evalue": "unexpected indent (<ipython-input-42-d5b1ccc08e0a>, line 18)",
     "output_type": "error",
     "traceback": [
      "\u001b[0;36m  File \u001b[0;32m\"<ipython-input-42-d5b1ccc08e0a>\"\u001b[0;36m, line \u001b[0;32m18\u001b[0m\n\u001b[0;31m    passt_loss , test_acc)\u001b[0m\n\u001b[0m    ^\u001b[0m\n\u001b[0;31mIndentationError\u001b[0m\u001b[0;31m:\u001b[0m unexpected indent\n"
     ]
    }
   ],
   "source": [
    "def train(network_ , optimizer_ , criterion_ = F.binary_cross_entropy ,epoch_nb = 30,   debug_ = True):\r\n",
    "\r\n",
    "  tot_train_loss = []\r\n",
    "  tot_train_acc = []\r\n",
    "  tot_test_loss = []\r\n",
    "  tot_test_acc = []\r\n",
    "\r\n",
    "\r\n",
    "  for epoch in range(epoch_nb):\r\n",
    "    train_loss , train_acc = train_epoch(network_ , optimizer_ , criterion_)\r\n",
    "    test_loss , test_acc = test(network_ , criterion_)\r\n",
    "\r\n",
    "    tot_train_loss.append(train_loss)\r\n",
    "    tot_train_acc.append(train_acc)\r\n",
    "    tot_test_loss.append(test_loss)\r\n",
    "    tot_test_acc.append(test_acc)\r\n",
    "\n",
    "        passt_loss , test_acc)\r\n",
    "\r\n",
    "  return tot_train_loss , tot_train_acc , tot_test_loss , tot_test_acc"
   ]
  },
  {
   "cell_type": "markdown",
   "metadata": {
    "id": "jYg-E2UB8Flj"
   },
   "source": [
    "# stats"
   ]
  },
  {
   "cell_type": "code",
   "execution_count": 16,
   "metadata": {
    "id": "ffB574WB8IFx"
   },
   "outputs": [],
   "source": [
    "def train_multiple_runs( network_class , runs = 10 , epoch = 30):\r\n",
    "  all_train_loss , all_train_acc , all_test_loss , all_test_acc = [],[],[],[]\r\n",
    "  \r\n",
    "  for i in range(runs):\r\n",
    "    n = network_class()\r\n",
    "    optimizer = optim.SGD(n.parameters(), lr=0.01, momentum=0.5)\r\n",
    "    criterion = F.binary_cross_entropy\r\n",
    "\r\n",
    "    tot_train_loss , tot_train_acc , tot_test_loss , tot_test_acc = train(n , optimizer , criterion , epoch , debug_ = False)\r\n",
    "    all_train_loss.append(tot_train_loss)\r\n",
    "    all_train_acc.append(tot_train_acc)\r\n",
    "    all_test_loss.append(tot_test_loss)\r\n",
    "    all_test_acc.append(tot_test_acc)\r\n",
    "\r\n",
    "  return all_train_loss , all_train_acc , all_test_loss , all_test_acc"
   ]
  },
  {
   "cell_type": "code",
   "execution_count": 17,
   "metadata": {
    "id": "C66k1nu4HaMp"
   },
   "outputs": [],
   "source": [
    "def plot_loss_acc( tot_train_loss , tot_train_acc , tot_test_loss , tot_test_acc ):\r\n",
    "  epochs = range(1, len(tot_train_loss)+1 )\r\n",
    "  plt.plot(epochs, tot_train_loss, 'g', label='Training loss')\r\n",
    "  plt.plot(epochs, tot_test_loss, 'b', label='Test loss')\r\n",
    "  plt.plot(epochs, tot_train_acc, 'r', label='Training acc')\r\n",
    "  plt.plot(epochs, tot_test_acc, 'y', label='Test acc')\r\n",
    "  plt.title('Training and Test loss/acc')\r\n",
    "  plt.xlabel('Epochs')\r\n",
    "  plt.ylabel('loss/acc')\r\n",
    "  plt.ylim((0,1))\r\n",
    "  plt.legend()\r\n",
    "  plt.show()"
   ]
  },
  {
   "cell_type": "code",
   "execution_count": 18,
   "metadata": {
    "id": "fi4wxxDM9KWH"
   },
   "outputs": [],
   "source": [
    "import numpy as np\r\n",
    "def plot_std_loss_acc(all_train_loss , all_train_acc , all_test_loss , all_test_acc):\r\n",
    "  trl_mean = np.array(all_train_loss).mean(axis = 0)\r\n",
    "  tel_mean = np.array(all_train_acc).mean(axis = 0)\r\n",
    "  tra_mean = np.array(all_test_loss).mean(axis = 0)\r\n",
    "  tea_mean = np.array(all_test_acc).mean(axis = 0)\r\n",
    "\r\n",
    "  trl_std = np.array(all_train_loss).std(axis = 0)\r\n",
    "  tel_std = np.array(all_train_acc).std(axis = 0)\r\n",
    "  tra_std = np.array(all_test_loss).std(axis = 0)\r\n",
    "  tea_std = np.array(all_test_acc).std(axis = 0)\r\n",
    "\r\n",
    "  epochs = range(1, len(tea_std)+1 )\r\n",
    "\r\n",
    "  temp = [ [trl_mean , trl_std] , [tel_mean , tel_std] , [tra_mean , tra_std] , [tea_mean , tea_std] ]\r\n",
    "\r\n",
    "  for g in temp : \r\n",
    "    plt.plot( epochs , g[0] )\r\n",
    "    plt.fill_between(epochs, g[0]-g[1], g[0]+g[1] ,alpha=0.3)\r\n",
    "\r\n",
    "  plt.ylim((-0.1,1.1))\r\n"
   ]
  }
 ],
 "metadata": {
  "kernelspec": {
   "display_name": "Python [conda env:ml] *",
   "language": "python",
   "name": "conda-env-ml-py"
  },
  "language_info": {
   "codemirror_mode": {
    "name": "ipython",
    "version": 3
   },
   "file_extension": ".py",
   "mimetype": "text/x-python",
   "name": "python",
   "nbconvert_exporter": "python",
   "pygments_lexer": "ipython3",
   "version": "3.8.5"
  }
 },
 "nbformat": 4,
 "nbformat_minor": 4
}
