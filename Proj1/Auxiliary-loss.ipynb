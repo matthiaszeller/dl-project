{
  "nbformat": 4,
  "nbformat_minor": 0,
  "metadata": {
    "kernelspec": {
      "display_name": "Python [conda env:ml] *",
      "language": "python",
      "name": "conda-env-ml-py"
    },
    "language_info": {
      "codemirror_mode": {
        "name": "ipython",
        "version": 3
      },
      "file_extension": ".py",
      "mimetype": "text/x-python",
      "name": "python",
      "nbconvert_exporter": "python",
      "pygments_lexer": "ipython3",
      "version": "3.8.5"
    },
    "colab": {
      "name": "Auxiliary-loss.ipynb",
      "provenance": []
    }
  },
  "cells": [
    {
      "cell_type": "markdown",
      "metadata": {
        "id": "b27f7KUWOvEn"
      },
      "source": [
        "# Paper *Self-Supervised Generalisation with Meta Auxiliary Learning*\n",
        "\n",
        "https://papers.nips.cc/paper/2019/file/92262bf907af914b95a0fc33c3f33bf6-Paper.pdf"
      ]
    },
    {
      "cell_type": "markdown",
      "metadata": {
        "id": "berrgfqfOvEw"
      },
      "source": [
        "Using an auxiliary loss is called auxiliary learning, and is similar to multi-task learning, except that only the primary task is of interest. In our case, the primary task is to output whether image 1 is a digit smaller than image 2. The role of the auxiliary task is to assist in generalization of this primary task.\n",
        "\n",
        "This paper discusses unsupervised auxiliary learning, for the cases when no label exist for the auxiliary task. Note: this is not our case, we have the original labels $\\{0, 1, \\dots, 9\\}$ from which we deduce the boolean value. Also, the project presentation PDF mentions:\n",
        "\n",
        "> For the [auxiliary loss], the training can in particular take advantage of the availability of the classes of the two digits in each pair, beside the Boolean value truly of interest. \n"
      ]
    },
    {
      "cell_type": "markdown",
      "metadata": {
        "id": "YtatCcAfOvEx"
      },
      "source": [
        "# Google paper \"Going deeper with convolutions\"\n",
        "\n",
        "https://arxiv.org/abs/1409.4842\n",
        "\n",
        "https://stats.stackexchange.com/questions/304699/what-is-auxiliary-loss-as-mentioned-in-pspnet-paper\n",
        "\n"
      ]
    },
    {
      "cell_type": "markdown",
      "metadata": {
        "id": "snBSBHKgOvEy"
      },
      "source": [
        "The paper from Google introduced the concept of auxiliary loss. But the focus is to improve very deep networks (they describe a 22-layer long network), whereas we don't really have deep networks for our simple task. The basic idea is to add **auxiliary classifiers connected to intermediate layers**. This is especially useful to **fight gradient vanishing and add regularization**."
      ]
    },
    {
      "cell_type": "markdown",
      "metadata": {
        "id": "MMYHT4_YOvEz"
      },
      "source": [
        "### Structure of extra network\n",
        "\n",
        "1. Average pooling layer\n",
        "1. 1x1 convolution for dimension reduction and relu activation\n",
        "1. fully connected and relu\n",
        "1. dropout (70%)\n",
        "1. linear layer with softmax loss as classifier"
      ]
    },
    {
      "cell_type": "markdown",
      "metadata": {
        "id": "m6eOERVwOvE0"
      },
      "source": [
        "# Draft ideas for Project 1"
      ]
    },
    {
      "cell_type": "markdown",
      "metadata": {
        "id": "fQD_DGLDOvE0"
      },
      "source": [
        "Based on this [medium article](https://towardsdatascience.com/improve-your-neural-networks-generalization-performance-by-adding-an-unsupervised-auxiliary-loss-4d58b2dead54), we can combine the main loss with the auxiliary loss for the total loss:\n",
        "\n",
        "$$\\text{total loss} = \\text{main loss} + \\lambda \\cdot \\text{auxiliary loss}$$"
      ]
    },
    {
      "cell_type": "markdown",
      "metadata": {
        "id": "OidAZFkJOvE1"
      },
      "source": [
        "Also, since our network is *not* deep (and can't be, because computations must be rather fast as mentionned in the project description), we should probably put the auxiliary classifier at the end of the network, and not at intermediate levels (as done in Google paper). "
      ]
    },
    {
      "cell_type": "markdown",
      "metadata": {
        "id": "h_Yu7RsoOvE1"
      },
      "source": [
        "Also, we must combine the main and auxiliary loss in a meaningful way:\n",
        "\n",
        "* Main loss is currently an accuracy \n",
        "* Auxiliary loss would probably be categorical cross entropy"
      ]
    },
    {
      "cell_type": "markdown",
      "metadata": {
        "id": "4umvak0mOvE2"
      },
      "source": [
        "We should probably change the main loss to something more related to the multi-class entropy. "
      ]
    },
    {
      "cell_type": "markdown",
      "metadata": {
        "id": "FWsFE_rfOvE2"
      },
      "source": [
        "# Implementation"
      ]
    },
    {
      "cell_type": "code",
      "metadata": {
        "id": "LaNz2YYhwbXx"
      },
      "source": [
        "import torch\r\n",
        "from torchvision import datasets\r\n",
        "import matplotlib.pyplot as plt\r\n",
        "from torch.utils.data import TensorDataset, DataLoader\r\n",
        "\r\n",
        "import torch.nn as nn\r\n",
        "import torch.nn.functional as F\r\n",
        "import torch.optim as optim\r\n",
        "\r\n",
        "import os"
      ],
      "execution_count": 1,
      "outputs": []
    },
    {
      "cell_type": "code",
      "metadata": {
        "id": "iKEh2PwKZ-B5"
      },
      "source": [
        "try:\n",
        "    import google.colab\n",
        "    # At this point, we know we're in google collab\n",
        "    DOWNLOAD = True\n",
        "except:\n",
        "    DOWNLOAD = not Path('MNIST').exists()"
      ],
      "execution_count": 2,
      "outputs": []
    },
    {
      "cell_type": "markdown",
      "metadata": {
        "id": "jAzBfBHS0yjp"
      },
      "source": [
        "## dataset build"
      ]
    },
    {
      "cell_type": "code",
      "metadata": {
        "colab": {
          "base_uri": "https://localhost:8080/"
        },
        "id": "67bLOhCvaBqy",
        "outputId": "e0b42eaa-0499-4c77-9bb3-a838a6c5febe"
      },
      "source": [
        "if DOWNLOAD:\n",
        "    !wget www.di.ens.fr/~lelarge/MNIST.tar.gz\n",
        "    !tar -xf MNIST.tar.gz\n",
        "    print('Download finished...')"
      ],
      "execution_count": 3,
      "outputs": [
        {
          "output_type": "stream",
          "text": [
            "--2021-03-14 11:33:45--  http://www.di.ens.fr/~lelarge/MNIST.tar.gz\n",
            "Resolving www.di.ens.fr (www.di.ens.fr)... 129.199.99.14\n",
            "Connecting to www.di.ens.fr (www.di.ens.fr)|129.199.99.14|:80... connected.\n",
            "HTTP request sent, awaiting response... 302 Found\n",
            "Location: https://www.di.ens.fr/~lelarge/MNIST.tar.gz [following]\n",
            "--2021-03-14 11:33:45--  https://www.di.ens.fr/~lelarge/MNIST.tar.gz\n",
            "Connecting to www.di.ens.fr (www.di.ens.fr)|129.199.99.14|:443... connected.\n",
            "HTTP request sent, awaiting response... 200 OK\n",
            "Length: unspecified [application/x-gzip]\n",
            "Saving to: ‘MNIST.tar.gz.1’\n",
            "\n",
            "MNIST.tar.gz.1          [           <=>      ]  33.20M  15.2MB/s    in 2.2s    \n",
            "\n",
            "2021-03-14 11:33:48 (15.2 MB/s) - ‘MNIST.tar.gz.1’ saved [34813078]\n",
            "\n",
            "Download finished...\n"
          ],
          "name": "stdout"
        }
      ]
    },
    {
      "cell_type": "code",
      "metadata": {
        "id": "e6oc9g2JyCEw"
      },
      "source": [
        "######################################################################\r\n",
        "\r\n",
        "def mnist_to_pairs(nb, input, target):\r\n",
        "    input = torch.functional.F.avg_pool2d(input, kernel_size = 2)\r\n",
        "    a = torch.randperm(input.size(0))\r\n",
        "    a = a[:2 * nb].view(nb, 2)\r\n",
        "    input = torch.cat((input[a[:, 0]], input[a[:, 1]]), 1)\r\n",
        "    classes = target[a]\r\n",
        "    target = (classes[:, 0] <= classes[:, 1]).long()\r\n",
        "    return input, target, classes\r\n",
        "\r\n",
        "######################################################################\r\n",
        "\r\n",
        "def generate_pair_sets(nb):\r\n",
        "\r\n",
        "    train_set = datasets.MNIST('', train = True, download = True)\r\n",
        "    train_input = train_set.data.view(-1, 1, 28, 28).float()\r\n",
        "    train_target = train_set.targets\r\n",
        "\r\n",
        "    test_set = datasets.MNIST('', train = False, download = True)\r\n",
        "    test_input = test_set.data.view(-1, 1, 28, 28).float()\r\n",
        "    test_target = test_set.targets\r\n",
        "\r\n",
        "    return mnist_to_pairs(nb, train_input, train_target) + \\\r\n",
        "           mnist_to_pairs(nb, test_input, test_target)\r\n",
        "\r\n",
        "######################################################################"
      ],
      "execution_count": 4,
      "outputs": []
    },
    {
      "cell_type": "code",
      "metadata": {
        "id": "av161kLTFpWj"
      },
      "source": [
        "train_input , train_target , train_classes , test_input , test_target , test_classes = generate_pair_sets(1000)"
      ],
      "execution_count": 5,
      "outputs": []
    },
    {
      "cell_type": "code",
      "metadata": {
        "colab": {
          "base_uri": "https://localhost:8080/",
          "height": 533
        },
        "id": "XGi49cC5F1T3",
        "outputId": "be863ab3-5090-4532-a4a8-3a4308bcdc55"
      },
      "source": [
        "plt.imshow( train_input[0][0].numpy() ) \r\n",
        "plt.show()\r\n",
        "plt.imshow( train_input[0][1].numpy() ) \r\n",
        "plt.show()\r\n",
        "print(f'train shape : {train_input.shape}')"
      ],
      "execution_count": 6,
      "outputs": [
        {
          "output_type": "display_data",
          "data": {
            "image/png": "[encoded data removed]",
            "text/plain": [
              "<Figure size 432x288 with 1 Axes>"
            ]
          },
          "metadata": {
            "tags": [],
            "needs_background": "light"
          }
        },
        {
          "output_type": "display_data",
          "data": {
            "image/png": "[encoded data removed]",
            "text/plain": [
              "<Figure size 432x288 with 1 Axes>"
            ]
          },
          "metadata": {
            "tags": [],
            "needs_background": "light"
          }
        },
        {
          "output_type": "stream",
          "text": [
            "train shape : torch.Size([1000, 2, 14, 14])\n"
          ],
          "name": "stdout"
        }
      ]
    },
    {
      "cell_type": "code",
      "metadata": {
        "id": "ImsRSpztHZ_Z"
      },
      "source": [
        "train_dataset = TensorDataset(train_input,train_target , train_classes)\r\n",
        "train_dataloader = DataLoader(train_dataset , batch_size=100)\r\n",
        "\r\n",
        "test_dataset = TensorDataset(test_input,test_target , test_classes)\r\n",
        "test_dataloader = DataLoader(test_dataset , batch_size=100)\r\n"
      ],
      "execution_count": 7,
      "outputs": []
    },
    {
      "cell_type": "markdown",
      "metadata": {
        "id": "g8P1WI8gOvE-"
      },
      "source": [
        "# Fully dense net with aux loss\n"
      ]
    },
    {
      "cell_type": "code",
      "metadata": {
        "id": "6NDo4PotHZye"
      },
      "source": [
        "class FullyDenseNet(nn.Module):\n",
        "    def __init__(self):\n",
        "        super(FullyDenseNet, self).__init__()\n",
        "\n",
        "        self.fc1 = nn.Linear(2*14*14, 300)\n",
        "        self.fc2 = nn.Linear(300, 200)\n",
        "        self.fc3 = nn.Linear(200, 100)\n",
        "        self.fc4 = nn.Linear(100, 50)\n",
        "        self.fc5 = nn.Linear(50, 1)\n",
        "\n",
        "    def forward(self, x):\n",
        "        x = nn.Flatten(1)(x)\n",
        "        x = torch.relu( self.fc1(x) )\n",
        "        x = torch.relu( self.fc2(x) )\n",
        "        x = torch.relu( self.fc3(x) )\n",
        "        x = torch.relu( self.fc4(x) )\n",
        "        x = self.fc5(x)\n",
        "        return torch.sigmoid(x)"
      ],
      "execution_count": 8,
      "outputs": []
    },
    {
      "cell_type": "code",
      "metadata": {
        "id": "-Q88Hb4QOvE-"
      },
      "source": [
        "class FullyDenseNetAux(nn.Module):\n",
        "    def __init__(self):\n",
        "        super(FullyDenseNetAux, self).__init__()\n",
        "\n",
        "        # Network basis: common for all losses\n",
        "        # 14 * 14 = 196\n",
        "        self.fc1_im1 = nn.Linear(14*14, 100)\n",
        "        self.fc1_im2 = nn.Linear(14*14, 100)\n",
        "        \n",
        "        self.fc2_im1 = nn.Linear(100, 50)\n",
        "        self.fc2_im2 = nn.Linear(100, 50)\n",
        "        \n",
        "        # Auxiliary networks\n",
        "        self.fc3_im1 = nn.Linear(50, 10)\n",
        "        self.fc3_im2 = nn.Linear(50, 10)\n",
        "        \n",
        "        # Main task\n",
        "        self.fc4 = nn.Linear(2*50, 10)\n",
        "        self.fc5 = nn.Linear(10, 1)\n",
        "\n",
        "    def forward(self, x):\n",
        "        im1 = nn.Flatten()(x[:, 0, :, :])\n",
        "        im2 = nn.Flatten()(x[:, 1, :, :])\n",
        "        \n",
        "        im1 = torch.relu(self.fc1_im1(im1))\n",
        "        im2 = torch.relu(self.fc1_im2(im2))\n",
        "        \n",
        "        im1 = torch.relu(self.fc2_im1(im1))\n",
        "        im2 = torch.relu(self.fc2_im2(im2))\n",
        "        \n",
        "        # Main task\n",
        "        common = torch.cat((im1, im2), dim=1)\n",
        "        common = torch.relu(self.fc4(common))\n",
        "        common = self.fc5(common)\n",
        "        common = torch.sigmoid(common)\n",
        "        \n",
        "        # Auxiliary networks\n",
        "        im1 = self.fc3_im1(im1)\n",
        "        im1 = F.softmax(im1, dim=0)\n",
        "        \n",
        "        im2 = self.fc3_im2(im2)\n",
        "        im2 = F.softmax(im2, dim=0)\n",
        "        \n",
        "        return common, im1, im2"
      ],
      "execution_count": 23,
      "outputs": []
    },
    {
      "cell_type": "markdown",
      "metadata": {
        "id": "KA3Ui4BnShQu"
      },
      "source": [
        "# Train tools"
      ]
    },
    {
      "cell_type": "code",
      "metadata": {
        "id": "4y7rlAqCOvFA"
      },
      "source": [
        "def custom_loss(output, target, classes, lambda_=1.0):\n",
        "  \"\"\"\n",
        "  Custom loss for network with auxiliary losses. The total loss is a combination\n",
        "  of the loss of the main task (binary cross entropy) and the negative log likelihood\n",
        "  for the two auxiliary tasks. Importance of auxiliary losses is controlled by\n",
        "  the `lambda_` hyperparameter.\n",
        "  \"\"\"\n",
        "  main, im1, im2 = output\n",
        "\n",
        "  main_loss = F.binary_cross_entropy(main.flatten(), target)\n",
        "  aux_loss_1 = F.nll_loss(im1, classes[:, 0])\n",
        "  aux_loss_2 = F.nll_loss(im2, classes[:, 1])\n",
        "\n",
        "  return main_loss + lambda_ * (aux_loss_1 + aux_loss_2)"
      ],
      "execution_count": 10,
      "outputs": []
    },
    {
      "cell_type": "code",
      "metadata": {
        "id": "1Fmv6jmZOvFA"
      },
      "source": [
        "def handle_loss(criterion):\n",
        "  \"\"\"\n",
        "  Handle the fact that the network with auxiliary loss has three-item tuple output,\n",
        "  which needs to be treated separately to compute the loss and the accuracy.\n",
        "  \"\"\"\n",
        "  if criterion is not custom_loss:\n",
        "    internal_criterion = lambda output, target, _: criterion(output.flatten(), target)\n",
        "    compute_acc = lambda output, target: (target == torch.round(output.flatten()) ).sum().item()\n",
        "  else:\n",
        "    internal_criterion = criterion\n",
        "    compute_acc = lambda output, target: (target == torch.round(output[0].flatten()) ).sum().item()\n",
        "    \n",
        "  return internal_criterion, compute_acc"
      ],
      "execution_count": 11,
      "outputs": []
    },
    {
      "cell_type": "code",
      "metadata": {
        "id": "i54w5hBmHaES"
      },
      "source": [
        "def train_epoch(network_ , optimizer_ , criterion = F.binary_cross_entropy ):\n",
        "  internal_criterion, compute_acc = handle_loss(criterion)\n",
        "    \n",
        "  loss_tot = []\n",
        "  acc_tot = []\n",
        "  network_.train()\n",
        "  for batch_idx, (data, target , classes ) in enumerate(train_dataloader):\n",
        "    optimizer_.zero_grad()\n",
        "    output = network_(data)\n",
        "    loss = internal_criterion(output, target.to(torch.float32), classes)\n",
        "    loss.backward()\n",
        "    optimizer_.step()\n",
        "\n",
        "    loss_tot.append(loss.item())\n",
        "    acc_tot.append( compute_acc(output, target) )\n",
        "  \n",
        "  return torch.FloatTensor(loss_tot).mean().item() , torch.FloatTensor(acc_tot).mean().item()/100.0"
      ],
      "execution_count": 12,
      "outputs": []
    },
    {
      "cell_type": "code",
      "metadata": {
        "id": "xe7whYlPQoLi"
      },
      "source": [
        "def test(network_ , criterion_ = F.binary_cross_entropy):\n",
        "  internal_criterion, compute_acc = handle_loss(criterion_)\n",
        "\n",
        "  network_.eval()\n",
        "  test_loss = 0\n",
        "  acc = 0\n",
        "\n",
        "  with torch.no_grad():\n",
        "    for data, target , classes in test_dataloader:\n",
        "      output = network_(data)\n",
        "      test_loss += internal_criterion(output, target.to(torch.float32), classes)\n",
        "      acc += compute_acc(output, target)\n",
        "\n",
        "  test_loss /= len(test_dataloader)\n",
        "  acc /= len(test_dataloader)\n",
        "  return test_loss , acc/100.0"
      ],
      "execution_count": 13,
      "outputs": []
    },
    {
      "cell_type": "code",
      "metadata": {
        "id": "MHcA1vKgHaGi"
      },
      "source": [
        "def train(network_ , optimizer_ , criterion_ = F.binary_cross_entropy ,epoch_nb = 30,   debug_ = True):\r\n",
        "\r\n",
        "  tot_train_loss = []\r\n",
        "  tot_train_acc = []\r\n",
        "  tot_test_loss = []\r\n",
        "  tot_test_acc = []\r\n",
        "\r\n",
        "\r\n",
        "  for epoch in range(epoch_nb):\r\n",
        "    train_loss , train_acc = train_epoch(network_ , optimizer_ , criterion_)\r\n",
        "    test_loss , test_acc = test(network_ , criterion_)\r\n",
        "\r\n",
        "    tot_train_loss.append(train_loss)\r\n",
        "    tot_train_acc.append(train_acc)\r\n",
        "    tot_test_loss.append(test_loss)\r\n",
        "    tot_test_acc.append(test_acc)\r\n",
        "\r\n",
        "    if(debug_):\r\n",
        "      print(epoch, f'{train_loss:.4}\\t{train_acc:.4}\\t{test_loss:.4}\\t{test_acc:.4}')\r\n",
        "\r\n",
        "  return tot_train_loss , tot_train_acc , tot_test_loss , tot_test_acc"
      ],
      "execution_count": 14,
      "outputs": []
    },
    {
      "cell_type": "markdown",
      "metadata": {
        "id": "6Zoja7A0SNHd"
      },
      "source": [
        "# Auxiliary task"
      ]
    },
    {
      "cell_type": "code",
      "metadata": {
        "id": "A6Fwn57JOvE-",
        "colab": {
          "base_uri": "https://localhost:8080/"
        },
        "outputId": "80dc255c-4b0e-47b6-ef0c-5b05d777b012"
      },
      "source": [
        "net = FullyDenseNet()\n",
        "optimizer = optim.SGD(net.parameters(), lr=0.01, momentum=0.5)\n",
        "tot_train_loss , tot_train_acc , tot_test_loss , tot_test_acc = train(net, optimizer, F.binary_cross_entropy)"
      ],
      "execution_count": 15,
      "outputs": [
        {
          "output_type": "stream",
          "text": [
            "0 0.6696\t0.604\t0.57\t0.71\n",
            "1 0.5345\t0.732\t0.5502\t0.7\n",
            "2 0.4499\t0.783\t0.5705\t0.691\n",
            "3 0.4016\t0.819\t0.5403\t0.723\n",
            "4 0.3622\t0.841\t0.5014\t0.751\n",
            "5 0.3598\t0.836\t0.4694\t0.77\n",
            "6 0.3376\t0.844\t0.5858\t0.708\n",
            "7 0.294\t0.879\t0.6945\t0.696\n",
            "8 0.2416\t0.912\t0.7627\t0.692\n",
            "9 0.1927\t0.935\t0.7615\t0.702\n",
            "10 0.1452\t0.954\t0.6071\t0.755\n",
            "11 0.1702\t0.935\t0.5532\t0.782\n",
            "12 0.1532\t0.957\t0.5263\t0.775\n",
            "13 0.1286\t0.957\t0.488\t0.787\n",
            "14 0.1267\t0.958\t0.6736\t0.733\n",
            "15 0.08596\t0.983\t0.8368\t0.707\n",
            "16 0.07419\t0.984\t0.5473\t0.784\n",
            "17 0.1329\t0.948\t0.5481\t0.786\n",
            "18 0.07619\t0.98\t0.5344\t0.791\n",
            "19 0.03894\t0.997\t0.7462\t0.772\n",
            "20 0.05215\t0.99\t0.7355\t0.78\n",
            "21 0.0601\t0.98\t0.6454\t0.78\n",
            "22 0.01342\t1.0\t0.6019\t0.792\n",
            "23 0.007263\t1.0\t0.6236\t0.794\n",
            "24 0.005722\t1.0\t0.6415\t0.795\n",
            "25 0.004682\t1.0\t0.6548\t0.795\n",
            "26 0.003971\t1.0\t0.6669\t0.795\n",
            "27 0.003464\t1.0\t0.6776\t0.794\n",
            "28 0.003056\t1.0\t0.6869\t0.793\n",
            "29 0.002743\t1.0\t0.6955\t0.793\n"
          ],
          "name": "stdout"
        }
      ]
    },
    {
      "cell_type": "code",
      "metadata": {
        "id": "UdLX5l2XOvE_",
        "colab": {
          "base_uri": "https://localhost:8080/"
        },
        "outputId": "5494865f-63df-466b-e14a-4ed32fd9f500"
      },
      "source": [
        "net = FullyDenseNetAux()\n",
        "optimizer = optim.SGD(net.parameters(), lr=0.01, momentum=0.5)\n",
        "tot_train_loss , tot_train_acc , tot_test_loss , tot_test_acc = train(net, optimizer, criterion_=custom_loss)"
      ],
      "execution_count": 25,
      "outputs": [
        {
          "output_type": "stream",
          "text": [
            "0 0.6329\t0.593\t0.5411\t0.691\n",
            "1 0.4889\t0.712\t0.4745\t0.727\n",
            "2 0.4014\t0.771\t0.426\t0.751\n",
            "3 0.327\t0.809\t0.4065\t0.751\n",
            "4 0.2771\t0.819\t0.3905\t0.757\n",
            "5 0.2203\t0.853\t0.3781\t0.779\n",
            "6 0.1935\t0.865\t0.4598\t0.741\n",
            "7 0.1912\t0.855\t0.3626\t0.787\n",
            "8 0.1513\t0.872\t0.3633\t0.789\n",
            "9 0.07604\t0.922\t0.5338\t0.741\n",
            "10 0.1249\t0.892\t0.5897\t0.733\n",
            "11 0.07778\t0.919\t0.7477\t0.714\n",
            "12 0.06539\t0.928\t0.6755\t0.725\n",
            "13 0.04246\t0.927\t0.4922\t0.763\n",
            "14 0.05387\t0.914\t0.405\t0.788\n",
            "15 0.006711\t0.947\t0.3939\t0.789\n",
            "16 -0.01012\t0.946\t0.4308\t0.791\n",
            "17 -0.0212\t0.946\t0.4286\t0.794\n",
            "18 -0.01743\t0.944\t0.4671\t0.788\n",
            "19 0.005617\t0.935\t0.4958\t0.787\n",
            "20 -0.02793\t0.959\t0.5668\t0.768\n",
            "21 -0.01141\t0.939\t0.6806\t0.75\n",
            "22 -0.04261\t0.947\t0.6616\t0.747\n",
            "23 -0.08831\t0.972\t0.4298\t0.806\n",
            "24 -0.1296\t0.991\t0.4167\t0.806\n",
            "25 -0.1478\t0.999\t0.4391\t0.816\n",
            "26 -0.1552\t1.0\t0.4583\t0.815\n",
            "27 -0.1594\t1.0\t0.4719\t0.816\n",
            "28 -0.1622\t1.0\t0.4845\t0.816\n",
            "29 -0.1641\t1.0\t0.4967\t0.815\n"
          ],
          "name": "stdout"
        }
      ]
    },
    {
      "cell_type": "markdown",
      "metadata": {
        "id": "jYg-E2UB8Flj"
      },
      "source": [
        "# stats"
      ]
    },
    {
      "cell_type": "code",
      "metadata": {
        "id": "D4w2tGbGgUne"
      },
      "source": [
        "import seaborn as sns\n",
        "sns.set(style='whitegrid')"
      ],
      "execution_count": 17,
      "outputs": []
    },
    {
      "cell_type": "code",
      "metadata": {
        "id": "ffB574WB8IFx"
      },
      "source": [
        "def train_multiple_runs(network_class, criterion=F.binary_cross_entropy, runs = 10 , epoch = 30):\r\n",
        "  all_train_loss , all_train_acc , all_test_loss , all_test_acc = [],[],[],[]\r\n",
        "  \r\n",
        "  for i in range(runs):\r\n",
        "    n = network_class()\r\n",
        "    optimizer = optim.SGD(n.parameters(), lr=0.01, momentum=0.5)\r\n",
        "\r\n",
        "    tot_train_loss , tot_train_acc , tot_test_loss , tot_test_acc = train(n , optimizer , criterion , epoch , debug_ = False)\r\n",
        "    all_train_loss.append(tot_train_loss)\r\n",
        "    all_train_acc.append(tot_train_acc)\r\n",
        "    all_test_loss.appendnn.functional.sigmoid(tot_test_loss)\r\n",
        "    all_test_acc.append(tot_test_acc)\r\n",
        "\r\n",
        "  return all_train_loss , all_train_acc , all_test_loss , all_test_acc"
      ],
      "execution_count": 18,
      "outputs": []
    },
    {
      "cell_type": "code",
      "metadata": {
        "id": "C66k1nu4HaMp"
      },
      "source": [
        "def plot_loss_acc( tot_train_loss , tot_train_acc , tot_test_loss , tot_test_acc ):\r\n",
        "  epochs = range(1, len(tot_train_loss)+1 )\r\n",
        "  plt.plot(epochs, tot_train_loss, 'g', label='Training loss')\r\n",
        "  plt.plot(epochs, tot_test_loss, 'b', label='Test loss')\r\n",
        "  plt.plot(epochs, tot_train_acc, 'r', label='Training acc')\r\n",
        "  plt.plot(epochs, tot_test_acc, 'y', label='Test acc')\r\n",
        "  plt.title('Training and Test loss/acc')\r\n",
        "  plt.xlabel('Epochs')\r\n",
        "  plt.ylabel('loss/acc')\r\n",
        "  plt.ylim((0,1))\r\n",
        "  plt.legend()\r\n",
        "  plt.show()"
      ],
      "execution_count": 19,
      "outputs": []
    },
    {
      "cell_type": "code",
      "metadata": {
        "id": "fi4wxxDM9KWH"
      },
      "source": [
        "def plot_std_loss_acc(all_train_loss , all_train_acc , all_test_loss , all_test_acc):\r\n",
        "  def subplot(ax, mean, std, label=None):\r\n",
        "    x = range(1, len(mean) + 1)\r\n",
        "    ax.plot(x, mean, label=label)\r\n",
        "    ax.fill_between(x, mean - std, mean + std, alpha=0.3)\r\n",
        "\r\n",
        "  # Convert lists of lists to tensors\r\n",
        "  data = {\r\n",
        "      'loss_train': all_train_loss,\r\n",
        "      'loss_test' : all_test_loss,\r\n",
        "      'acc_train':  all_train_acc,\r\n",
        "      'acc_test':   all_test_acc\r\n",
        "  }\r\n",
        "\r\n",
        "  data = {k: torch.tensor(v) for k, v in data.items()}\r\n",
        "\r\n",
        "  # Compute mean and std. The multiple runs are in axis 0, epochs in axis 1\r\n",
        "  plot_data = {}\r\n",
        "  for label, tensor in data.items():\r\n",
        "    plot_data[f'{label}_mean'] = tensor.mean(dim=0)\r\n",
        "    plot_data[f'{label}_std'] = tensor.std(dim=0)\r\n",
        "    \r\n",
        "  # Plot!\r\n",
        "  fig, ax = plt.subplots(2, 1, sharex=True, figsize=(6, 5))\r\n",
        "  subplot(ax[0], plot_data['loss_train_mean'], plot_data['loss_train_std'], label='train')\r\n",
        "  subplot(ax[0], plot_data['loss_test_mean'], plot_data['loss_test_std'], label='test')\r\n",
        "  ax[0].set_ylabel('Loss')\r\n",
        "  subplot(ax[1], plot_data['acc_train_mean'], plot_data['acc_train_std'])\r\n",
        "  subplot(ax[1], plot_data['acc_test_mean'], plot_data['acc_test_std'])\r\n",
        "  ax[1].set_ylabel('Accuracy')\r\n",
        "  ax[1].set_xlabel('Epoch')\r\n",
        "\r\n",
        "  ax[0].legend()"
      ],
      "execution_count": 20,
      "outputs": []
    },
    {
      "cell_type": "code",
      "metadata": {
        "id": "Mq82dFBjaXCc"
      },
      "source": [
        "all_train_loss , all_train_acc , all_test_loss , all_test_acc = train_multiple_runs(FullyDenseNetAux, \n",
        "                                                                                    criterion=custom_loss,\n",
        "                                                                                    epoch=25)"
      ],
      "execution_count": 26,
      "outputs": []
    },
    {
      "cell_type": "code",
      "metadata": {
        "id": "pL0EeDC2a_Gm",
        "colab": {
          "base_uri": "https://localhost:8080/",
          "height": 339
        },
        "outputId": "f6b574e4-87e0-487f-eaa5-bd6070f8c1c4"
      },
      "source": [
        "plot_std_loss_acc(all_train_loss , all_train_acc , all_test_loss , all_test_acc)"
      ],
      "execution_count": 27,
      "outputs": [
        {
          "output_type": "display_data",
          "data": {
            "image/png": "[encoded data removed]",
            "text/plain": [
              "<Figure size 432x360 with 2 Axes>"
            ]
          },
          "metadata": {
            "tags": []
          }
        }
      ]
    }
  ]
}