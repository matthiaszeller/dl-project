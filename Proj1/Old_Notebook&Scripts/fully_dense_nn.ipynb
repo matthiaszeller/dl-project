{
  "nbformat": 4,
  "nbformat_minor": 0,
  "metadata": {
    "colab": {
      "name": "Copy of fully_dense_nn.ipynb",
      "provenance": [],
      "collapsed_sections": [
        "jAzBfBHS0yjp"
      ],
      "authorship_tag": "ABX9TyOncqau2EU67Ph+h1zxd6bC",
      "include_colab_link": true
    },
    "kernelspec": {
      "name": "python3",
      "display_name": "Python 3"
    }
  },
  "cells": [
    {
      "cell_type": "markdown",
      "metadata": {
        "id": "view-in-github",
        "colab_type": "text"
      },
      "source": [
        "<a href=\"https://colab.research.google.com/github/matthiaszeller/dl-project/blob/main/fully_dense_nn.ipynb\" target=\"_parent\"><img src=\"https://colab.research.google.com/assets/colab-badge.svg\" alt=\"Open In Colab\"/></a>"
      ]
    },
    {
      "cell_type": "code",
      "metadata": {
        "id": "LaNz2YYhwbXx"
      },
      "source": [
        "import torch\r\n",
        "from torchvision import datasets\r\n",
        "import matplotlib.pyplot as plt\r\n",
        "from torch.utils.data import TensorDataset, DataLoader\r\n",
        "\r\n",
        "import torch.nn as nn\r\n",
        "import torch.nn.functional as F\r\n",
        "import torch.optim as optim\r\n",
        "\r\n",
        "import os"
      ],
      "execution_count": 1,
      "outputs": []
    },
    {
      "cell_type": "markdown",
      "metadata": {
        "id": "jAzBfBHS0yjp"
      },
      "source": [
        "# dataset build"
      ]
    },
    {
      "cell_type": "code",
      "metadata": {
        "colab": {
          "base_uri": "https://localhost:8080/"
        },
        "id": "nsfGSYY9QaKA",
        "outputId": "3e29e18e-7160-4f4b-8cac-c4f32fc09f44"
      },
      "source": [
        "!wget www.di.ens.fr/~lelarge/MNIST.tar.gz"
      ],
      "execution_count": 2,
      "outputs": [
        {
          "output_type": "stream",
          "text": [
            "--2021-03-05 12:09:37--  http://www.di.ens.fr/~lelarge/MNIST.tar.gz\n",
            "Resolving www.di.ens.fr (www.di.ens.fr)... 129.199.99.14\n",
            "Connecting to www.di.ens.fr (www.di.ens.fr)|129.199.99.14|:80... connected.\n",
            "HTTP request sent, awaiting response... 302 Found\n",
            "Location: https://www.di.ens.fr/~lelarge/MNIST.tar.gz [following]\n",
            "--2021-03-05 12:09:37--  https://www.di.ens.fr/~lelarge/MNIST.tar.gz\n",
            "Connecting to www.di.ens.fr (www.di.ens.fr)|129.199.99.14|:443... connected.\n",
            "HTTP request sent, awaiting response... 200 OK\n",
            "Length: unspecified [application/x-gzip]\n",
            "Saving to: ‘MNIST.tar.gz.2’\n",
            "\n",
            "MNIST.tar.gz.2          [          <=>       ]  33.20M  16.5MB/s    in 2.0s    \n",
            "\n",
            "2021-03-05 12:09:40 (16.5 MB/s) - ‘MNIST.tar.gz.2’ saved [34813078]\n",
            "\n"
          ],
          "name": "stdout"
        }
      ]
    },
    {
      "cell_type": "code",
      "metadata": {
        "id": "6_TIp4ACQhpr"
      },
      "source": [
        "!tar -xf MNIST.tar.gz\r\n"
      ],
      "execution_count": 3,
      "outputs": []
    },
    {
      "cell_type": "code",
      "metadata": {
        "colab": {
          "base_uri": "https://localhost:8080/"
        },
        "id": "adfc8yshRCUe",
        "outputId": "01e3407b-189f-4e4d-d60b-96459ad8ee1d"
      },
      "source": [
        "!ls MNIST/processed/"
      ],
      "execution_count": 4,
      "outputs": [
        {
          "output_type": "stream",
          "text": [
            "test.pt  training.pt\n"
          ],
          "name": "stdout"
        }
      ]
    },
    {
      "cell_type": "code",
      "metadata": {
        "id": "e6oc9g2JyCEw"
      },
      "source": [
        "######################################################################\r\n",
        "\r\n",
        "def mnist_to_pairs(nb, input, target):\r\n",
        "    input = torch.functional.F.avg_pool2d(input, kernel_size = 2)\r\n",
        "    a = torch.randperm(input.size(0))\r\n",
        "    a = a[:2 * nb].view(nb, 2)\r\n",
        "    input = torch.cat((input[a[:, 0]], input[a[:, 1]]), 1)\r\n",
        "    classes = target[a]\r\n",
        "    target = (classes[:, 0] <= classes[:, 1]).long()\r\n",
        "    return input, target, classes\r\n",
        "\r\n",
        "######################################################################\r\n",
        "\r\n",
        "def generate_pair_sets(nb):\r\n",
        "\r\n",
        "    train_set = datasets.MNIST('', train = True, download = True)\r\n",
        "    train_input = train_set.data.view(-1, 1, 28, 28).float()\r\n",
        "    train_target = train_set.targets\r\n",
        "\r\n",
        "    test_set = datasets.MNIST('', train = False, download = True)\r\n",
        "    test_input = test_set.data.view(-1, 1, 28, 28).float()\r\n",
        "    test_target = test_set.targets\r\n",
        "\r\n",
        "    return mnist_to_pairs(nb, train_input, train_target) + \\\r\n",
        "           mnist_to_pairs(nb, test_input, test_target)\r\n",
        "\r\n",
        "######################################################################"
      ],
      "execution_count": 5,
      "outputs": []
    },
    {
      "cell_type": "code",
      "metadata": {
        "id": "av161kLTFpWj"
      },
      "source": [
        "train_input , train_target , train_classes , test_input , test_target , test_classes = generate_pair_sets(1000)"
      ],
      "execution_count": 6,
      "outputs": []
    },
    {
      "cell_type": "code",
      "metadata": {
        "colab": {
          "base_uri": "https://localhost:8080/",
          "height": 530
        },
        "id": "XGi49cC5F1T3",
        "outputId": "1cd17e02-2132-4fec-9d77-eab2cceddb0a"
      },
      "source": [
        "plt.imshow( train_input[0][0].numpy() ) \r\n",
        "plt.show()\r\n",
        "plt.imshow( train_input[0][1].numpy() ) \r\n",
        "plt.show()\r\n",
        "print(f'train shape : {train_input.shape}')"
      ],
      "execution_count": 7,
      "outputs": [
        {
          "output_type": "display_data",
          "data": {
            "image/png": "[encoded data removed]",
            "text/plain": [
              "<Figure size 432x288 with 1 Axes>"
            ]
          },
          "metadata": {
            "tags": [],
            "needs_background": "light"
          }
        },
        {
          "output_type": "display_data",
          "data": {
            "image/png": "[encoded data removed]",
            "text/plain": [
              "<Figure size 432x288 with 1 Axes>"
            ]
          },
          "metadata": {
            "tags": [],
            "needs_background": "light"
          }
        },
        {
          "output_type": "stream",
          "text": [
            "train shape : torch.Size([1000, 2, 14, 14])\n"
          ],
          "name": "stdout"
        }
      ]
    },
    {
      "cell_type": "code",
      "metadata": {
        "id": "ImsRSpztHZ_Z"
      },
      "source": [
        "train_dataset = TensorDataset(train_input,train_target , train_classes)\r\n",
        "train_dataloader = DataLoader(train_dataset , batch_size=100)\r\n",
        "\r\n",
        "test_dataset = TensorDataset(test_input,test_target , test_classes)\r\n",
        "test_dataloader = DataLoader(test_dataset , batch_size=100)\r\n"
      ],
      "execution_count": 8,
      "outputs": []
    },
    {
      "cell_type": "code",
      "metadata": {
        "colab": {
          "base_uri": "https://localhost:8080/"
        },
        "id": "7waMxKoqHaCF",
        "outputId": "dc674334-9359-4aa1-9668-58619552eab5"
      },
      "source": [
        "for el in train_dataloader:\r\n",
        "  # image , target, classes\r\n",
        "  print(el[0].shape, el[1].shape, el[2].shape)\r\n",
        "  break"
      ],
      "execution_count": 9,
      "outputs": [
        {
          "output_type": "stream",
          "text": [
            "torch.Size([100, 2, 14, 14]) torch.Size([100]) torch.Size([100, 2])\n"
          ],
          "name": "stdout"
        }
      ]
    },
    {
      "cell_type": "markdown",
      "metadata": {
        "id": "03P9yp3E08Fl"
      },
      "source": [
        "# FullyDenseNN"
      ]
    },
    {
      "cell_type": "code",
      "metadata": {
        "id": "6NDo4PotHZye"
      },
      "source": [
        "class FullyDenseNet(nn.Module):\r\n",
        "    def __init__(self):\r\n",
        "        super(FullyDenseNet, self).__init__()\r\n",
        "\r\n",
        "        self.fc1 = nn.Linear(2*14*14, 300)\r\n",
        "        self.fc2 = nn.Linear(300, 200)\r\n",
        "        self.fc3 = nn.Linear(200, 100)\r\n",
        "        self.fc4 = nn.Linear(100, 50)\r\n",
        "        self.fc5 = nn.Linear(50, 1)\r\n",
        "\r\n",
        "    def forward(self, x):\r\n",
        "        x = nn.Flatten(1)(x)\r\n",
        "        x = torch.relu( self.fc1(x) )\r\n",
        "        x = torch.relu( self.fc2(x) )\r\n",
        "        x = torch.relu( self.fc3(x) )\r\n",
        "        x = torch.relu( self.fc4(x) )\r\n",
        "        x = self.fc5(x)\r\n",
        "        return torch.sigmoid(x)"
      ],
      "execution_count": 10,
      "outputs": []
    },
    {
      "cell_type": "markdown",
      "metadata": {
        "id": "KA3Ui4BnShQu"
      },
      "source": [
        "# Train tools"
      ]
    },
    {
      "cell_type": "code",
      "metadata": {
        "id": "i54w5hBmHaES"
      },
      "source": [
        "def train_epoch(network_ , optimizer_ , criterion = F.binary_cross_entropy ):\r\n",
        "  loss_tot = []\r\n",
        "  acc_tot = []\r\n",
        "  network_.train()\r\n",
        "  for batch_idx, (data, target , classes ) in enumerate(train_dataloader):\r\n",
        "    optimizer_.zero_grad()\r\n",
        "    output = network_(data).flatten()\r\n",
        "    loss = criterion(output, target.to(torch.float32))\r\n",
        "    loss.backward()\r\n",
        "    optimizer_.step()\r\n",
        "\r\n",
        "    loss_tot.append(loss.item())\r\n",
        "    acc_tot.append( (target == torch.round(output) ).sum().item() )\r\n",
        "  \r\n",
        "  return torch.FloatTensor(loss_tot).mean().item() , torch.FloatTensor(acc_tot).mean().item()/100.0"
      ],
      "execution_count": 11,
      "outputs": []
    },
    {
      "cell_type": "code",
      "metadata": {
        "id": "xe7whYlPQoLi"
      },
      "source": [
        "def test(network_ , criterion_ = F.binary_cross_entropy):\r\n",
        "  network_.eval()\r\n",
        "  test_loss = 0\r\n",
        "  acc = 0\r\n",
        "\r\n",
        "  with torch.no_grad():\r\n",
        "    for data, target , classes in test_dataloader:\r\n",
        "      output = network_(data)\r\n",
        "      test_loss += criterion_(output.flatten(), target.to(torch.float32)).item()\r\n",
        "      acc += (target == torch.round(output.flatten()) ).sum().item()\r\n",
        "\r\n",
        "  test_loss /= len(test_dataloader)\r\n",
        "  acc /= len(test_dataloader)\r\n",
        "  return test_loss , acc/100.0"
      ],
      "execution_count": 12,
      "outputs": []
    },
    {
      "cell_type": "code",
      "metadata": {
        "id": "MHcA1vKgHaGi"
      },
      "source": [
        "def train(network_ , optimizer_ , criterion_ = F.binary_cross_entropy ,epoch_nb = 30,   debug_ = True):\r\n",
        "\r\n",
        "  tot_train_loss = []\r\n",
        "  tot_train_acc = []\r\n",
        "  tot_test_loss = []\r\n",
        "  tot_test_acc = []\r\n",
        "\r\n",
        "\r\n",
        "  for epoch in range(epoch_nb):\r\n",
        "    train_loss , train_acc = train_epoch(network_ , optimizer_ , criterion_)\r\n",
        "    test_loss , test_acc = test(network_ , criterion_)\r\n",
        "\r\n",
        "    tot_train_loss.append(train_loss)\r\n",
        "    tot_train_acc.append(train_acc)\r\n",
        "    tot_test_loss.append(test_loss)\r\n",
        "    tot_test_acc.append(test_acc)\r\n",
        "\r\n",
        "    if(debug_):\r\n",
        "      print(epoch, train_loss , train_acc , test_loss , test_acc)\r\n",
        "\r\n",
        "  return tot_train_loss , tot_train_acc , tot_test_loss , tot_test_acc"
      ],
      "execution_count": 13,
      "outputs": []
    },
    {
      "cell_type": "markdown",
      "metadata": {
        "id": "jYg-E2UB8Flj"
      },
      "source": [
        "# stats"
      ]
    },
    {
      "cell_type": "code",
      "metadata": {
        "id": "ffB574WB8IFx"
      },
      "source": [
        "def train_multiple_runs( network_class , runs = 10 , epoch = 30):\r\n",
        "  all_train_loss , all_train_acc , all_test_loss , all_test_acc = [],[],[],[]\r\n",
        "  \r\n",
        "  for i in range(runs):\r\n",
        "    n = network_class()\r\n",
        "    optimizer = optim.SGD(n.parameters(), lr=0.01, momentum=0.5)\r\n",
        "    criterion = F.binary_cross_entropy\r\n",
        "\r\n",
        "    tot_train_loss , tot_train_acc , tot_test_loss , tot_test_acc = train(n , optimizer , criterion , epoch , debug_ = False)\r\n",
        "    all_train_loss.append(tot_train_loss)\r\n",
        "    all_train_acc.append(tot_train_acc)\r\n",
        "    all_test_loss.append(tot_test_loss)\r\n",
        "    all_test_acc.append(tot_test_acc)\r\n",
        "\r\n",
        "  return all_train_loss , all_train_acc , all_test_loss , all_test_acc"
      ],
      "execution_count": 14,
      "outputs": []
    },
    {
      "cell_type": "code",
      "metadata": {
        "id": "C66k1nu4HaMp"
      },
      "source": [
        "def plot_loss_acc( tot_train_loss , tot_train_acc , tot_test_loss , tot_test_acc ):\r\n",
        "  epochs = range(1, len(tot_train_loss)+1 )\r\n",
        "  plt.plot(epochs, tot_train_loss, 'g', label='Training loss')\r\n",
        "  plt.plot(epochs, tot_test_loss, 'b', label='Test loss')\r\n",
        "  plt.plot(epochs, tot_train_acc, 'r', label='Training acc')\r\n",
        "  plt.plot(epochs, tot_test_acc, 'y', label='Test acc')\r\n",
        "  plt.title('Training and Test loss/acc')\r\n",
        "  plt.xlabel('Epochs')\r\n",
        "  plt.ylabel('loss/acc')\r\n",
        "  plt.ylim((0,1))\r\n",
        "  plt.legend()\r\n",
        "  plt.show()"
      ],
      "execution_count": 15,
      "outputs": []
    },
    {
      "cell_type": "code",
      "metadata": {
        "id": "fi4wxxDM9KWH"
      },
      "source": [
        "import numpy as np\r\n",
        "def plot_std_loss_acc(all_train_loss , all_train_acc , all_test_loss , all_test_acc):\r\n",
        "  trl_mean = np.array(all_train_loss).mean(axis = 0)\r\n",
        "  tel_mean = np.array(all_train_acc).mean(axis = 0)\r\n",
        "  tra_mean = np.array(all_test_loss).mean(axis = 0)\r\n",
        "  tea_mean = np.array(all_test_acc).mean(axis = 0)\r\n",
        "\r\n",
        "  trl_std = np.array(all_train_loss).std(axis = 0)\r\n",
        "  tel_std = np.array(all_train_acc).std(axis = 0)\r\n",
        "  tra_std = np.array(all_test_loss).std(axis = 0)\r\n",
        "  tea_std = np.array(all_test_acc).std(axis = 0)\r\n",
        "\r\n",
        "  epochs = range(1, len(tea_std)+1 )\r\n",
        "\r\n",
        "  temp = [ [trl_mean , trl_std] , [tel_mean , tel_std] , [tra_mean , tra_std] , [tea_mean , tea_std] ]\r\n",
        "\r\n",
        "  for g in temp : \r\n",
        "    plt.plot( epochs , g[0] )\r\n",
        "    plt.fill_between(epochs, g[0]-g[1], g[0]+g[1] ,alpha=0.3)\r\n",
        "\r\n",
        "  plt.ylim((-0.1,1.1))\r\n"
      ],
      "execution_count": 16,
      "outputs": []
    },
    {
      "cell_type": "code",
      "metadata": {
        "id": "sxQBfTfQ-sqF"
      },
      "source": [
        "all_train_loss , all_train_acc , all_test_loss , all_test_acc = train_multiple_runs( FullyDenseNet , runs = 10 , epoch = 30)"
      ],
      "execution_count": 17,
      "outputs": []
    },
    {
      "cell_type": "code",
      "metadata": {
        "colab": {
          "base_uri": "https://localhost:8080/",
          "height": 265
        },
        "id": "vFWIDb5W-wp1",
        "outputId": "12328f64-bc06-47cf-f595-632d6e36a5e3"
      },
      "source": [
        "plot_std_loss_acc(all_train_loss , all_train_acc , all_test_loss , all_test_acc)"
      ],
      "execution_count": 18,
      "outputs": [
        {
          "output_type": "display_data",
          "data": {
            "image/png": "[encoded data removed]",
            "text/plain": [
              "<Figure size 432x288 with 1 Axes>"
            ]
          },
          "metadata": {
            "tags": [],
            "needs_background": "light"
          }
        }
      ]
    },
    {
      "cell_type": "code",
      "metadata": {
        "id": "zO1yxZsU_Cqo"
      },
      "source": [
        ""
      ],
      "execution_count": 18,
      "outputs": []
    },
    {
      "cell_type": "code",
      "metadata": {
        "id": "L7Pb0hj2CC9i"
      },
      "source": [
        ""
      ],
      "execution_count": 18,
      "outputs": []
    },
    {
      "cell_type": "code",
      "metadata": {
        "id": "eovQgyRoCzD1"
      },
      "source": [
        ""
      ],
      "execution_count": 18,
      "outputs": []
    },
    {
      "cell_type": "code",
      "metadata": {
        "id": "f6mVvNcTDd_o"
      },
      "source": [
        ""
      ],
      "execution_count": 18,
      "outputs": []
    },
    {
      "cell_type": "code",
      "metadata": {
        "id": "NjoLHS3jJOV-"
      },
      "source": [
        ""
      ],
      "execution_count": 18,
      "outputs": []
    }
  ]
}