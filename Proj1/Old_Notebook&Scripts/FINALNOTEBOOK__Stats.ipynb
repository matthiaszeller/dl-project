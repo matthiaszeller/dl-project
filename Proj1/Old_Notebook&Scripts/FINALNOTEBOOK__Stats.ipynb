{
  "nbformat": 4,
  "nbformat_minor": 0,
  "metadata": {
    "colab": {
      "name": "DenseNetModelStats.ipynb",
      "provenance": [],
      "collapsed_sections": [
        "mKaQ4nRcsriT",
        "HGhFqueQBbsw",
        "cMvqg1PntMz4",
        "eHFHCVnxxSvH"
      ],
      "authorship_tag": "ABX9TyNdWIDINBJ/5qR5GHYNgmtO",
      "include_colab_link": true
    },
    "kernelspec": {
      "name": "python3",
      "display_name": "Python 3"
    },
    "language_info": {
      "name": "python"
    }
  },
  "cells": [
    {
      "cell_type": "markdown",
      "metadata": {
        "id": "view-in-github",
        "colab_type": "text"
      },
      "source": [
        "<a href=\"https://colab.research.google.com/github/matthiaszeller/dl-project/blob/main/FINALNOTEBOOK__Stats.ipynb\" target=\"_parent\"><img src=\"https://colab.research.google.com/assets/colab-badge.svg\" alt=\"Open In Colab\"/></a>"
      ]
    },
    {
      "cell_type": "code",
      "metadata": {
        "id": "NrddL35Nsi_Q"
      },
      "source": [
        "import torch\n",
        "from torchvision import datasets\n",
        "import matplotlib.pyplot as plt\n",
        "from torch.utils.data import TensorDataset, DataLoader\n",
        "\n",
        "import torch.nn as nn\n",
        "import torch.nn.functional as F\n",
        "import torch.optim as optim\n",
        "\n",
        "import os"
      ],
      "execution_count": 1,
      "outputs": []
    },
    {
      "cell_type": "markdown",
      "metadata": {
        "id": "mKaQ4nRcsriT"
      },
      "source": [
        "# Dataset"
      ]
    },
    {
      "cell_type": "code",
      "metadata": {
        "colab": {
          "base_uri": "https://localhost:8080/"
        },
        "id": "70ppo_zJsqrV",
        "outputId": "b869bfe9-b1f9-4f93-e8af-6d7b1110d01f"
      },
      "source": [
        "!wget www.di.ens.fr/~lelarge/MNIST.tar.gz"
      ],
      "execution_count": 2,
      "outputs": [
        {
          "output_type": "stream",
          "text": [
            "--2021-04-29 12:21:25--  http://www.di.ens.fr/~lelarge/MNIST.tar.gz\n",
            "Resolving www.di.ens.fr (www.di.ens.fr)... 129.199.99.14\n",
            "Connecting to www.di.ens.fr (www.di.ens.fr)|129.199.99.14|:80... connected.\n",
            "HTTP request sent, awaiting response... 302 Found\n",
            "Location: https://www.di.ens.fr/~lelarge/MNIST.tar.gz [following]\n",
            "--2021-04-29 12:21:25--  https://www.di.ens.fr/~lelarge/MNIST.tar.gz\n",
            "Connecting to www.di.ens.fr (www.di.ens.fr)|129.199.99.14|:443... connected.\n",
            "HTTP request sent, awaiting response... 200 OK\n",
            "Length: unspecified [application/x-gzip]\n",
            "Saving to: ‘MNIST.tar.gz’\n",
            "\n",
            "MNIST.tar.gz            [            <=>     ]  33.20M  6.42MB/s    in 15s     \n",
            "\n",
            "2021-04-29 12:21:40 (2.29 MB/s) - ‘MNIST.tar.gz’ saved [34813078]\n",
            "\n"
          ],
          "name": "stdout"
        }
      ]
    },
    {
      "cell_type": "code",
      "metadata": {
        "id": "fPx_cAbDsw81"
      },
      "source": [
        "!tar -xf MNIST.tar.gz"
      ],
      "execution_count": 3,
      "outputs": []
    },
    {
      "cell_type": "code",
      "metadata": {
        "colab": {
          "base_uri": "https://localhost:8080/"
        },
        "id": "CTDc3OOnszAF",
        "outputId": "454790c5-b125-4dd1-b0bb-bcf74b311556"
      },
      "source": [
        "!ls MNIST/processed/"
      ],
      "execution_count": 4,
      "outputs": [
        {
          "output_type": "stream",
          "text": [
            "test.pt  training.pt\n"
          ],
          "name": "stdout"
        }
      ]
    },
    {
      "cell_type": "code",
      "metadata": {
        "id": "EfI908QSs0gK"
      },
      "source": [
        "######################################################################\n",
        "\n",
        "def mnist_to_pairs(nb, input, target):\n",
        "    input = torch.functional.F.avg_pool2d(input, kernel_size = 2)\n",
        "    a = torch.randperm(input.size(0))\n",
        "    a = a[:2 * nb].view(nb, 2)\n",
        "    input = torch.cat((input[a[:, 0]], input[a[:, 1]]), 1)\n",
        "    classes = target[a]\n",
        "    target = (classes[:, 0] <= classes[:, 1]).long()\n",
        "    return input, target, classes\n",
        "\n",
        "######################################################################\n",
        "\n",
        "def generate_pair_sets(nb):\n",
        "\n",
        "    train_set = datasets.MNIST('', train = True, download = True)\n",
        "    train_input = train_set.data.view(-1, 1, 28, 28).float()\n",
        "    train_target = train_set.targets\n",
        "\n",
        "    test_set = datasets.MNIST('', train = False, download = True)\n",
        "    test_input = test_set.data.view(-1, 1, 28, 28).float()\n",
        "    test_target = test_set.targets\n",
        "\n",
        "    return mnist_to_pairs(nb, train_input, train_target) + \\\n",
        "           mnist_to_pairs(nb, test_input, test_target)\n",
        "\n",
        "######################################################################"
      ],
      "execution_count": 5,
      "outputs": []
    },
    {
      "cell_type": "code",
      "metadata": {
        "id": "A_Ai-Dzes4N4"
      },
      "source": [
        "train_input , train_target , train_classes , test_input , test_target , test_classes = generate_pair_sets(1000)"
      ],
      "execution_count": 6,
      "outputs": []
    },
    {
      "cell_type": "code",
      "metadata": {
        "id": "7vqBjMRKs9Vx"
      },
      "source": [
        "train_dataset = TensorDataset(train_input,train_target , train_classes)\n",
        "test_dataset = TensorDataset(test_input,test_target , test_classes)"
      ],
      "execution_count": 7,
      "outputs": []
    },
    {
      "cell_type": "code",
      "metadata": {
        "id": "pmWJRpJ7tCml"
      },
      "source": [
        ""
      ],
      "execution_count": 7,
      "outputs": []
    },
    {
      "cell_type": "markdown",
      "metadata": {
        "id": "dIFlfWiRtJWH"
      },
      "source": [
        "# model"
      ]
    },
    {
      "cell_type": "markdown",
      "metadata": {
        "id": "HGhFqueQBbsw"
      },
      "source": [
        "## FCNN"
      ]
    },
    {
      "cell_type": "code",
      "metadata": {
        "id": "J2b1v9_ytK7w"
      },
      "source": [
        "class FCNN_1LAYER(nn.Module):\n",
        "    def __init__(self , **kwargs):\n",
        "        super(FCNN_1LAYER, self).__init__()\n",
        "\n",
        "        nb_n = kwargs[\"nodes_nb\"]\n",
        "\n",
        "        self.input = nn.Linear(2*14*14, nb_n)\n",
        "        self.fc1 = nn.Linear(nb_n, 1)\n",
        "        \n",
        "\n",
        "    def forward(self, x):\n",
        "        x = nn.Flatten(1)(x)\n",
        "        x = torch.relu( self.input(x) )\n",
        "        x = self.fc1(x)\n",
        "        \n",
        "        return torch.sigmoid(x)\n",
        "\n",
        "class FCNN_2LAYER(nn.Module):\n",
        "    def __init__(self , **kwargs):\n",
        "        super(FCNN_2LAYER, self).__init__()\n",
        "\n",
        "\n",
        "        self.input = nn.Linear(2*14*14, 300)\n",
        "        self.fc1 = nn.Linear(300, 50)\n",
        "        self.fc2 = nn.Linear(50, 1)\n",
        "        \n",
        "\n",
        "    def forward(self, x):\n",
        "        x = nn.Flatten(1)(x)\n",
        "        x = torch.relu( self.input(x) )\n",
        "        x = torch.relu( self.fc1(x) )\n",
        "        x = self.fc2(x)\n",
        "        \n",
        "        return torch.sigmoid(x)\n",
        "\n",
        "class FCNN_3LAYER(nn.Module):\n",
        "    def __init__(self , **kwargs):\n",
        "        super(FCNN_3LAYER, self).__init__()\n",
        "\n",
        "\n",
        "        self.input = nn.Linear(2*14*14, 300)\n",
        "        self.fc1 = nn.Linear(300, 150)\n",
        "        self.fc2 = nn.Linear(150, 50)\n",
        "        self.fc3 = nn.Linear(50, 1)\n",
        "\n",
        "        \n",
        "\n",
        "    def forward(self, x):\n",
        "        x = nn.Flatten(1)(x)\n",
        "        x = torch.relu( self.input(x) )\n",
        "        x = torch.relu( self.fc1(x) )\n",
        "        x = torch.relu( self.fc2(x) )\n",
        "        x = self.fc3(x)\n",
        "        \n",
        "        return torch.sigmoid(x)\n",
        "\n",
        "class FCNN_4LAYER(nn.Module):\n",
        "    def __init__(self , **kwargs):\n",
        "        super(FCNN_4LAYER, self).__init__()\n",
        "\n",
        "\n",
        "        self.input = nn.Linear(2*14*14, 300)\n",
        "        self.fc1 = nn.Linear(300, 200)\n",
        "        self.fc2 = nn.Linear(200, 100)\n",
        "        self.fc3 = nn.Linear(100, 50)\n",
        "        self.fc4 = nn.Linear(50, 1)\n",
        "\n",
        "        \n",
        "\n",
        "    def forward(self, x):\n",
        "        x = nn.Flatten(1)(x)\n",
        "        x = torch.relu( self.input(x) )\n",
        "        x = torch.relu( self.fc1(x) )\n",
        "        x = torch.relu( self.fc2(x) )\n",
        "        x = torch.relu( self.fc3(x) )\n",
        "        x = self.fc4(x)\n",
        "        \n",
        "        return torch.sigmoid(x)\n",
        "\n",
        "\n",
        "\n",
        "class FCNN_image_specific(nn.Module):\n",
        "    def __init__(self , **kwargs):\n",
        "        super(FCNN_image_specific, self).__init__()\n",
        "\n",
        "        nb_n = kwargs[\"nodes_nb\"]\n",
        "\n",
        "        self.input = nn.Linear(14*14, nb_n)\n",
        "        self.fc1R = nn.Linear(nb_n, 10)\n",
        "        self.fc1L = nn.Linear(nb_n, 10)\n",
        "        self.fc2 = nn.Linear(20, 1)\n",
        "\n",
        "    def forward(self, x):\n",
        "        x_l = x[:,0,:,:]\n",
        "        x_r = x[:,1,:,:]\n",
        "\n",
        "        x_l = x_l.view(x_l.shape[0] , 1, 14,14)\n",
        "        x_r = x_r.view(x_r.shape[0] , 1, 14,14)\n",
        "\n",
        "        x_l = torch.relu( self.input( nn.Flatten(1)(x_l) ) )\n",
        "        x_l = torch.relu( self.fc1L( x_l) ) \n",
        "\n",
        "        x_r = torch.relu( self.input(nn.Flatten(1)(x_r)) )\n",
        "        x_r = torch.relu( self.fc1R(x_r) ) \n",
        "\n",
        "        x = self.fc2(torch.cat([x_l , x_r], 1))\n",
        "        return torch.sigmoid(x)"
      ],
      "execution_count": 8,
      "outputs": []
    },
    {
      "cell_type": "markdown",
      "metadata": {
        "id": "IBwYK1mOBgR7"
      },
      "source": [
        "## WS"
      ]
    },
    {
      "cell_type": "code",
      "metadata": {
        "id": "WgsCfJGuBwrc"
      },
      "source": [
        "class WS_FCNN_image_specific(nn.Module):\n",
        "    def __init__(self , **kwargs):\n",
        "        super(WS_FCNN_image_specific, self).__init__()\n",
        "\n",
        "        nb_n = kwargs[\"nodes_nb\"]\n",
        "\n",
        "        self.input = nn.Linear(14*14, nb_n)\n",
        "        self.fc1 = nn.Linear(nb_n, 10)\n",
        "        self.fc2 = nn.Linear(20, 1)\n",
        "\n",
        "    def forward(self, x):\n",
        "        x_l = x[:,0,:,:]\n",
        "        x_r = x[:,1,:,:]\n",
        "\n",
        "        x_l = x_l.view(x_l.shape[0] , 1, 14,14)\n",
        "        x_r = x_r.view(x_r.shape[0] , 1, 14,14)\n",
        "\n",
        "        x_l = torch.relu( self.input( nn.Flatten(1)(x_l) ) )\n",
        "        x_l = torch.relu( self.fc1( x_l) ) \n",
        "\n",
        "        x_r = torch.relu( self.input(nn.Flatten(1)(x_r)) )\n",
        "        x_r = torch.relu( self.fc1(x_r) ) \n",
        "\n",
        "        x = self.fc2(torch.cat([x_l , x_r], 1))\n",
        "        return torch.sigmoid(x)\n",
        "\n",
        "class WS_CNN_image_specific(nn.Module):\n",
        "    def __init__(self , **kwargs):\n",
        "        super(WS_CNN_image_specific, self).__init__()\n",
        "        self.conv1 = nn.Conv2d(1, 4, kernel_size=3)\n",
        "        self.conv2 = nn.Conv2d(4, 5, kernel_size=3)\n",
        "\n",
        "        self.fc1 = nn.Linear(500, 10)\n",
        "        self.fc2 = nn.Linear(20, 1)\n",
        "\n",
        "    def forward(self, x):\n",
        "\n",
        "        x_l = x[:,0,:,:]\n",
        "        x_r = x[:,1,:,:]\n",
        "\n",
        "        x_l = x_l.view(x_l.shape[0] , 1, 14,14)\n",
        "        x_r = x_r.view(x_r.shape[0] , 1, 14,14)\n",
        "\n",
        "        x_l = torch.relu(self.conv1(x_l))\n",
        "        x_l = torch.relu(self.conv2(x_l))\n",
        "        x_l = nn.Flatten(1)(x_l)\n",
        "        #print(x_l.shape)\n",
        "        x_l = torch.relu( self.fc1(x_l) )\n",
        "\n",
        "        x_r = torch.relu(self.conv1(x_r))\n",
        "        x_r = torch.relu(self.conv2(x_r))\n",
        "        x_r = nn.Flatten(1)(x_r)\n",
        "        x_r = torch.relu( self.fc1(x_r) )\n",
        "\n",
        "        x = self.fc2(torch.cat([x_l , x_r], 1))\n",
        "\n",
        "        return torch.sigmoid(x)"
      ],
      "execution_count": 9,
      "outputs": []
    },
    {
      "cell_type": "markdown",
      "metadata": {
        "id": "7aqhkboeBiZQ"
      },
      "source": [
        "## AL "
      ]
    },
    {
      "cell_type": "code",
      "metadata": {
        "id": "Bf52hBr1dZSN"
      },
      "source": [
        "class AL_WS_FCNN_image_specific(nn.Module):\n",
        "    def __init__(self , **kwargs):\n",
        "        super(AL_WS_FCNN_image_specific, self).__init__()\n",
        "\n",
        "        nb_n = kwargs[\"nodes_nb\"]\n",
        "\n",
        "        self.input = nn.Linear(14*14, nb_n)\n",
        "        self.fc1 = nn.Linear(nb_n, 10)\n",
        "        self.fc2 = nn.Linear(20, 1)\n",
        "\n",
        "    def forward(self, x):\n",
        "        x_l = x[:,0,:,:]\n",
        "        x_r = x[:,1,:,:]\n",
        "\n",
        "        x_l = x_l.view(x_l.shape[0] , 1, 14,14)\n",
        "        x_r = x_r.view(x_r.shape[0] , 1, 14,14)\n",
        "\n",
        "        x_l = torch.relu( self.input( nn.Flatten(1)(x_l) ) )\n",
        "        x_l = torch.relu( self.fc1( x_l) ) \n",
        "\n",
        "        x_r = torch.relu( self.input(nn.Flatten(1)(x_r)) )\n",
        "        x_r = torch.relu( self.fc1(x_r) ) \n",
        "\n",
        "        x = self.fc2(torch.cat([x_l , x_r], 1))\n",
        "\n",
        "        return torch.sigmoid(x) , F.log_softmax (x_l) , F.log_softmax (x_r)"
      ],
      "execution_count": 61,
      "outputs": []
    },
    {
      "cell_type": "markdown",
      "metadata": {
        "id": "cMvqg1PntMz4"
      },
      "source": [
        "# Train utils"
      ]
    },
    {
      "cell_type": "code",
      "metadata": {
        "id": "DXNo-3JHbtxQ"
      },
      "source": [
        "def custom_loss(output, target, classes, lambda_=1.0):\n",
        "  \"\"\"\n",
        "  Custom loss for network with auxiliary losses. The total loss is a combination\n",
        "  of the loss of the main task (binary cross entropy) and the negative log likelihood\n",
        "  for the two auxiliary tasks. Importance of auxiliary losses is controlled by\n",
        "  the `lambda_` hyperparameter.\n",
        "  \"\"\"\n",
        "  main, im1, im2 = output\n",
        "\n",
        "  main_loss = F.binary_cross_entropy(main.flatten(), target)\n",
        "  aux_loss_1 = F.nll_loss(im1, classes[:, 0])\n",
        "  aux_loss_2 = F.nll_loss(im2, classes[:, 1])\n",
        "\n",
        "  return main_loss + lambda_ * (aux_loss_1 + aux_loss_2)"
      ],
      "execution_count": 11,
      "outputs": []
    },
    {
      "cell_type": "code",
      "metadata": {
        "id": "RKxuzxNebt-J"
      },
      "source": [
        "def handle_loss(criterion_):\n",
        "  \n",
        "  \"\"\"\n",
        "  Handle the fact that the network with auxiliary loss has three-item tuple output,\n",
        "  which needs to be treated separately to compute the loss and the accuracy.\n",
        "  \"\"\"\n",
        "  if criterion_ is F.binary_cross_entropy:\n",
        "    internal_criterion = lambda output, target, _: criterion_(output.flatten(), target)\n",
        "    compute_acc = lambda output, target: (target == torch.round(output.flatten()) ).float()\n",
        "  else:\n",
        "    internal_criterion = criterion_\n",
        "    compute_acc = lambda output, target: (target == torch.round(output[0].flatten()) ).float()\n",
        "    \n",
        "  return internal_criterion, compute_acc"
      ],
      "execution_count": 12,
      "outputs": []
    },
    {
      "cell_type": "code",
      "metadata": {
        "id": "muAHKJO4tUVT"
      },
      "source": [
        "def train_epoch(network_ , optimizer_ , criterion_ = F.binary_cross_entropy ):\n",
        "  \n",
        "  internal_criterion, compute_acc = handle_loss(criterion_)\n",
        "\n",
        "  loss_tot = []\n",
        "  acc_tot = []\n",
        "  network_.train()\n",
        "  for batch_idx, (data, target , classes ) in enumerate(train_dataloader):\n",
        "    optimizer_.zero_grad()\n",
        "    output = network_(data)\n",
        "    loss = internal_criterion(output, target.to(torch.float32), classes)\n",
        "    loss.backward()\n",
        "    optimizer_.step()\n",
        "\n",
        "    loss_tot.append(loss.item())\n",
        "    acc_tot.append( compute_acc(output, target) )\n",
        "    \n",
        "  return torch.FloatTensor(loss_tot).mean().item() , torch.cat(acc_tot).mean().item()"
      ],
      "execution_count": 13,
      "outputs": []
    },
    {
      "cell_type": "code",
      "metadata": {
        "id": "UhYLkxfdxDjN"
      },
      "source": [
        "def test(network_ , criterion_ = F.binary_cross_entropy):\n",
        "  \n",
        "  internal_criterion, compute_acc = handle_loss(criterion_)\n",
        "\n",
        "  network_.eval()\n",
        "  test_loss = []\n",
        "  acc = []\n",
        "\n",
        "  with torch.no_grad():\n",
        "    for data, target , classes in test_dataloader:\n",
        "      output = network_(data)\n",
        "      loss = internal_criterion(output, target.to(torch.float32), classes)\n",
        "      test_loss.append( loss.item() )\n",
        "      acc.append( compute_acc(output, target) )\n",
        "\n",
        "  \n",
        "  return torch.FloatTensor(test_loss).mean().item() , torch.cat(acc).mean().item()"
      ],
      "execution_count": 14,
      "outputs": []
    },
    {
      "cell_type": "code",
      "metadata": {
        "id": "yorhnoWxxH6p"
      },
      "source": [
        "def train(network_ , optimizer_ , criterion_ = F.binary_cross_entropy ,epoch_nb = 30,   debug_ = True):\n",
        "\n",
        "  tot_train_loss = []\n",
        "  tot_train_acc = []\n",
        "  tot_test_loss = []\n",
        "  tot_test_acc = []\n",
        "\n",
        "\n",
        "  for epoch in range(epoch_nb):\n",
        "\n",
        "    train_loss , train_acc = train_epoch(network_ , optimizer_ , criterion_)\n",
        "    test_loss , test_acc = test(network_ , criterion_)\n",
        "\n",
        "    tot_train_loss.append(train_loss)\n",
        "    tot_train_acc.append(train_acc)\n",
        "    tot_test_loss.append(test_loss)\n",
        "    tot_test_acc.append(test_acc)\n",
        "\n",
        "    if(debug_):\n",
        "      print(epoch, train_loss , train_acc , test_loss , test_acc)\n",
        "\n",
        "  return tot_train_loss , tot_train_acc , tot_test_loss , tot_test_acc"
      ],
      "execution_count": 15,
      "outputs": []
    },
    {
      "cell_type": "markdown",
      "metadata": {
        "id": "eHFHCVnxxSvH"
      },
      "source": [
        "# Stat train utils"
      ]
    },
    {
      "cell_type": "code",
      "metadata": {
        "id": "bNzlXjaRxcjN"
      },
      "source": [
        "def train_multiple_runs( network_class , runs  , epoch  , lr_  , criterion_ , **kwargs):\n",
        "  all_train_loss , all_train_acc , all_test_loss , all_test_acc = [],[],[],[]\n",
        "  \n",
        "  for i in range(runs):\n",
        "    n = network_class(**kwargs)\n",
        "    optimizer = optim.Adam(n.parameters(), lr=lr_)\n",
        "    criterion = criterion_\n",
        "\n",
        "    tot_train_loss , tot_train_acc , tot_test_loss , tot_test_acc = train(n , optimizer , criterion , epoch , debug_ = False)\n",
        "    all_train_loss.append(tot_train_loss)\n",
        "    all_train_acc.append(tot_train_acc)\n",
        "    all_test_loss.append(tot_test_loss)\n",
        "    all_test_acc.append(tot_test_acc)\n",
        "\n",
        "  return all_train_loss , all_train_acc , all_test_loss , all_test_acc"
      ],
      "execution_count": 16,
      "outputs": []
    },
    {
      "cell_type": "code",
      "metadata": {
        "id": "uGc7jz2vxeY-"
      },
      "source": [
        "import numpy as np\n",
        "def plot_std_loss_acc(all_train_loss , all_train_acc , all_test_loss , all_test_acc , color = ''):\n",
        "  trl_mean = np.array(all_train_loss).mean(axis = 0)\n",
        "  tra_mean = np.array(all_train_acc).mean(axis = 0)\n",
        "  tel_mean = np.array(all_test_loss).mean(axis = 0)\n",
        "  tea_mean = np.array(all_test_acc).mean(axis = 0)\n",
        "\n",
        "  trl_std = np.array(all_train_loss).std(axis = 0)\n",
        "  tra_std = np.array(all_train_acc).std(axis = 0)\n",
        "  tel_std = np.array(all_test_loss).std(axis = 0)\n",
        "  tea_std = np.array(all_test_acc).std(axis = 0)\n",
        "\n",
        "  epochs = range(1, len(tea_std)+1 )\n",
        "\n",
        "  early_stopping = np.argmin( tel_mean )\n",
        "  print(f\"at epoch {early_stopping} mean test acc : { tea_mean[early_stopping] }\")\n",
        "  print(f\"mean last test acc : { tea_mean [-1] }\")\n",
        "\n",
        "  temp = [ [trl_mean , trl_std , 'g' , 'trl'] ,\n",
        "          [tel_mean , tel_std  , 'b' , 'tel'] ,\n",
        "          [tra_mean , tra_std  , 'r' , 'tra'] ,\n",
        "          [tea_mean , tea_std  , 'y' , 'tea'] ]\n",
        "\n",
        "  if color != '':\n",
        "    plt.plot( epochs , tea_mean , c=color )\n",
        "    plt.fill_between(epochs, tea_mean-tea_std, tea_mean+tea_std ,alpha=0.1 , color=color )\n",
        "    #plt.ylim((-0.1,1.1))\n",
        "    return\n",
        "\n",
        "  for g in temp : \n",
        "    plt.plot( epochs , g[0] , c=g[2] , label = g[3])\n",
        "    plt.fill_between(epochs, g[0]-g[1], g[0]+g[1] ,alpha=0.3 , color=g[2] )\n",
        "\n",
        "  plt.legend()\n",
        "  plt.ylim((-0.1,1.1))\n",
        "  plt.show()"
      ],
      "execution_count": 17,
      "outputs": []
    },
    {
      "cell_type": "markdown",
      "metadata": {
        "id": "kiiNjvQ-31-y"
      },
      "source": [
        "# Testing"
      ]
    },
    {
      "cell_type": "code",
      "metadata": {
        "id": "VxQfTJbNXb9f"
      },
      "source": [
        ""
      ],
      "execution_count": 17,
      "outputs": []
    },
    {
      "cell_type": "code",
      "metadata": {
        "id": "Nkvf3wM-XcyU"
      },
      "source": [
        "\n"
      ],
      "execution_count": 17,
      "outputs": []
    },
    {
      "cell_type": "code",
      "metadata": {
        "id": "5SilJT5mXf6R"
      },
      "source": [
        ""
      ],
      "execution_count": 17,
      "outputs": []
    },
    {
      "cell_type": "code",
      "metadata": {
        "id": "NIpu6BgAXmU2"
      },
      "source": [
        ""
      ],
      "execution_count": 17,
      "outputs": []
    },
    {
      "cell_type": "code",
      "metadata": {
        "id": "hmbdP4IxmFdM"
      },
      "source": [
        ""
      ],
      "execution_count": 17,
      "outputs": []
    },
    {
      "cell_type": "code",
      "metadata": {
        "id": "2wlX038rxefV"
      },
      "source": [
        "def custom_loss1(output, target, classes):\n",
        "  \"\"\"\n",
        "  Custom loss for network with auxiliary losses. The total loss is a combination\n",
        "  of the loss of the main task (binary cross entropy) and the negative log likelihood\n",
        "  for the two auxiliary tasks. Importance of auxiliary losses is controlled by\n",
        "  the `lambda_` hyperparameter.\n",
        "  \"\"\"\n",
        "  main, im1, im2 = output\n",
        "  \n",
        "  im1_score = torch.argmax(im1,dim=1)\n",
        "  im2_score = torch.argmax(im2,dim=1)\n",
        "\n",
        "  aux_loss_1 = F.nll_loss(im1, classes[:, 0])\n",
        "  aux_loss_2 = F.nll_loss(im2, classes[:, 1])\n",
        "\n",
        "  main_loss = F.binary_cross_entropy(main.flatten(), target) \n",
        "  extra_loss = F.binary_cross_entropy((im1_score<=im2_score).float().flatten(), target)\n",
        "\n",
        "  #print(main_loss ,  extra_loss/50 , aux_loss_1 , aux_loss_2 )\n",
        "\n",
        "  return main_loss#*5 + extra_loss/50 + 1. * (aux_loss_1 + aux_loss_2)"
      ],
      "execution_count": 76,
      "outputs": []
    },
    {
      "cell_type": "code",
      "metadata": {
        "id": "5sdvCxRbtPQE"
      },
      "source": [
        "# BATCH SIZE !\n",
        "train_dataloader = DataLoader(train_dataset , batch_size=20)\n",
        "test_dataloader  = DataLoader(test_dataset  , batch_size=20)"
      ],
      "execution_count": 19,
      "outputs": []
    },
    {
      "cell_type": "code",
      "metadata": {
        "colab": {
          "base_uri": "https://localhost:8080/",
          "height": 337
        },
        "id": "N0UWN7ukmG7-",
        "outputId": "47f2dc95-9c66-44a4-8190-5e315330dec7"
      },
      "source": [
        "all_train_loss , all_train_acc , all_test_loss , all_test_acc = train_multiple_runs( AL_WS_FCNN_image_specific ,\n",
        "                                                                                     runs = 1 ,\n",
        "                                                                                     epoch = 25 ,\n",
        "                                                                                     lr_= 0.0005 ,\n",
        "                                                                                     criterion_ = custom_loss1,\n",
        "                                                                                     nodes_nb = 500 )\n",
        "plot_std_loss_acc(all_train_loss , all_train_acc , all_test_loss , all_test_acc )"
      ],
      "execution_count": 78,
      "outputs": [
        {
          "output_type": "stream",
          "text": [
            "/usr/local/lib/python3.7/dist-packages/ipykernel_launcher.py:28: UserWarning: Implicit dimension choice for log_softmax has been deprecated. Change the call to include dim=X as an argument.\n"
          ],
          "name": "stderr"
        },
        {
          "output_type": "stream",
          "text": [
            "at epoch 3 mean test acc : 0.8180000185966492\n",
            "mean last test acc : 0.8339999914169312\n"
          ],
          "name": "stdout"
        },
        {
          "output_type": "display_data",
          "data": {
            "image/png": "[encoded data removed]",
            "text/plain": [
              "<Figure size 432x288 with 1 Axes>"
            ]
          },
          "metadata": {
            "tags": [],
            "needs_background": "light"
          }
        }
      ]
    },
    {
      "cell_type": "code",
      "metadata": {
        "id": "lxgeqgO0CItr"
      },
      "source": [
        "for lr in [0.00005 , 0.00007 , 0.0001 , 0.00015 , 0.0002 , 0.00025 , 0.0003 , 0.0004]:\n",
        "  print(f'at LR = {lr}')\n",
        "  all_train_loss , all_train_acc , all_test_loss , all_test_acc = train_multiple_runs( WS_CNN_image_specific ,\n",
        "                                                                                     runs = 1 ,\n",
        "                                                                                     epoch = 25 ,\n",
        "                                                                                     lr_= lr ,\n",
        "                                                                                     criterion_ = F.binary_cross_entropy,\n",
        "                                                                                     nodes_nb = _ )\n",
        "  plot_std_loss_acc(all_train_loss , all_train_acc , all_test_loss , all_test_acc)"
      ],
      "execution_count": null,
      "outputs": []
    },
    {
      "cell_type": "code",
      "metadata": {
        "id": "-onhTcvnCJpg"
      },
      "source": [
        "###########################################################################\n",
        "######################### AL GRAPH ########################################\n",
        "###########################################################################\n",
        "\n",
        "\n",
        "\n",
        "\n"
      ],
      "execution_count": 22,
      "outputs": []
    },
    {
      "cell_type": "code",
      "metadata": {
        "colab": {
          "base_uri": "https://localhost:8080/",
          "height": 423
        },
        "id": "PQxNX9AX1ubl",
        "outputId": "e17db4c6-9e5d-4601-e48e-6f9204dda170"
      },
      "source": [
        "###########################################################################\n",
        "######################### WS GRAPH ########################################\n",
        "###########################################################################\n",
        "\n",
        "stats = [[1000  ,0.0005  ,'r' , WS_FCNN_image_specific] ,\n",
        "         [1000  ,0.0005  ,'black' , FCNN_image_specific   ] ,\n",
        "         [ _    ,0.0015  ,'b' , WS_CNN_image_specific ] ,\n",
        "         ]\n",
        "\n",
        "for el in stats:\n",
        "  print(f'--- configuration : {el}')\n",
        "  all_train_loss , all_train_acc , all_test_loss , all_test_acc = train_multiple_runs( el[3] ,\n",
        "                                                                                     runs = 5 ,\n",
        "                                                                                     epoch = 30 ,\n",
        "                                                                                     lr_= el[1] ,\n",
        "                                                                                     criterion_ = F.binary_cross_entropy,\n",
        "                                                                                     nodes_nb = el[0] )\n",
        "  plot_std_loss_acc(all_train_loss , all_train_acc , all_test_loss , all_test_acc , color = el[2])"
      ],
      "execution_count": 23,
      "outputs": [
        {
          "output_type": "stream",
          "text": [
            "--- configuration : [1000, 0.0005, 'r', <class '__main__.WS_FCNN_image_specific'>]\n",
            "at epoch 3 mean test acc : 0.7998000025749207\n",
            "mean last test acc : 0.8442000031471253\n",
            "--- configuration : [1000, 0.0005, 'black', <class '__main__.FCNN_image_specific'>]\n",
            "at epoch 3 mean test acc : 0.7589999914169312\n",
            "mean last test acc : 0.8167999982833862\n",
            "--- configuration : ['', 0.0015, 'b', <class '__main__.WS_CNN_image_specific'>]\n",
            "at epoch 2 mean test acc : 0.7740000009536743\n",
            "mean last test acc : 0.8157999992370606\n"
          ],
          "name": "stdout"
        },
        {
          "output_type": "display_data",
          "data": {
            "image/png": "[encoded data removed]",
            "text/plain": [
              "<Figure size 432x288 with 1 Axes>"
            ]
          },
          "metadata": {
            "tags": [],
            "needs_background": "light"
          }
        }
      ]
    },
    {
      "cell_type": "code",
      "metadata": {
        "colab": {
          "base_uri": "https://localhost:8080/",
          "height": 897
        },
        "id": "0Tp1IUGDtsGY",
        "outputId": "a8a31667-3bcd-4fe8-dd94-f95977c81d26"
      },
      "source": [
        "###########################################################################\n",
        "####################### FCNN GRAPH ########################################\n",
        "###########################################################################\n",
        "\n",
        "stats = [[200  ,0.001  ,'r' , FCNN_image_specific] ,\n",
        "         [500  ,0.001  ,'r' , FCNN_image_specific] ,\n",
        "         [700  ,0.0007 ,'r' , FCNN_image_specific] ,\n",
        "         [1000 ,0.0005 ,'r' , FCNN_image_specific] ,\n",
        "         [1500 ,0.0002 ,'r' , FCNN_image_specific] ,\n",
        "         \n",
        "         [200 ,0.0004  ,'b', FCNN_1LAYER],\n",
        "         [500 ,0.00025 ,'b', FCNN_1LAYER],\n",
        "         [700 ,0.0004  ,'b', FCNN_1LAYER],\n",
        "         [1000,0.00025 ,'b', FCNN_1LAYER],\n",
        "\n",
        "         [ _ ,0.0001 ,'g', FCNN_2LAYER],\n",
        "         [ _ ,0.0005 ,'g', FCNN_3LAYER],\n",
        "         [ _ ,0.0005 ,'g', FCNN_4LAYER]\n",
        "         \n",
        "         ]\n",
        "\n",
        "for el in stats:\n",
        "  print(f'--- configuration : {el}')\n",
        "  all_train_loss , all_train_acc , all_test_loss , all_test_acc = train_multiple_runs( el[3] ,\n",
        "                                                                                     runs = 5 ,\n",
        "                                                                                     epoch = 30 ,\n",
        "                                                                                     lr_= el[1] ,\n",
        "                                                                                     criterion_ = F.binary_cross_entropy,\n",
        "                                                                                     nodes_nb = el[0] )\n",
        "  plot_std_loss_acc(all_train_loss , all_train_acc , all_test_loss , all_test_acc , color = el[2])"
      ],
      "execution_count": 24,
      "outputs": [
        {
          "output_type": "stream",
          "text": [
            "--- configuration : [200, 0.001, 'r', <class '__main__.FCNN_image_specific'>]\n",
            "at epoch 2 mean test acc : 0.8001999974250793\n",
            "mean last test acc : 0.8352000117301941\n",
            "--- configuration : [500, 0.001, 'r', <class '__main__.FCNN_image_specific'>]\n",
            "at epoch 4 mean test acc : 0.7629999995231629\n",
            "mean last test acc : 0.8312000036239624\n",
            "--- configuration : [700, 0.0007, 'r', <class '__main__.FCNN_image_specific'>]\n",
            "at epoch 3 mean test acc : 0.7638000011444092\n",
            "mean last test acc : 0.8357999920845032\n",
            "--- configuration : [1000, 0.0005, 'r', <class '__main__.FCNN_image_specific'>]\n",
            "at epoch 2 mean test acc : 0.7902000069618225\n",
            "mean last test acc : 0.8273999929428101\n",
            "--- configuration : [1500, 0.0002, 'r', <class '__main__.FCNN_image_specific'>]\n",
            "at epoch 3 mean test acc : 0.7885999917984009\n",
            "mean last test acc : 0.8173999905586242\n",
            "--- configuration : [200, 0.0004, 'b', <class '__main__.FCNN_1LAYER'>]\n",
            "at epoch 11 mean test acc : 0.7860000014305115\n",
            "mean last test acc : 0.7856000065803528\n",
            "--- configuration : [500, 0.00025, 'b', <class '__main__.FCNN_1LAYER'>]\n",
            "at epoch 10 mean test acc : 0.7925999999046326\n",
            "mean last test acc : 0.7931999921798706\n",
            "--- configuration : [700, 0.0004, 'b', <class '__main__.FCNN_1LAYER'>]\n",
            "at epoch 11 mean test acc : 0.7509999990463256\n",
            "mean last test acc : 0.75239999294281\n",
            "--- configuration : [1000, 0.00025, 'b', <class '__main__.FCNN_1LAYER'>]\n",
            "at epoch 11 mean test acc : 0.7881999969482422\n",
            "mean last test acc : 0.8047999858856201\n",
            "--- configuration : ['', 0.0001, 'g', <class '__main__.FCNN_2LAYER'>]\n",
            "at epoch 13 mean test acc : 0.779800009727478\n",
            "mean last test acc : 0.7858000040054322\n",
            "--- configuration : ['', 0.0005, 'g', <class '__main__.FCNN_3LAYER'>]\n",
            "at epoch 1 mean test acc : 0.7653999924659729\n",
            "mean last test acc : 0.8187999963760376\n",
            "--- configuration : ['', 0.0005, 'g', <class '__main__.FCNN_4LAYER'>]\n",
            "at epoch 1 mean test acc : 0.776800000667572\n",
            "mean last test acc : 0.8205999970436096\n"
          ],
          "name": "stdout"
        },
        {
          "output_type": "display_data",
          "data": {
            "image/png": "[encoded data removed]",
            "text/plain": [
              "<Figure size 432x288 with 1 Axes>"
            ]
          },
          "metadata": {
            "tags": [],
            "needs_background": "light"
          }
        }
      ]
    },
    {
      "cell_type": "code",
      "metadata": {
        "id": "SEBBUEcw1aQf"
      },
      "source": [
        ""
      ],
      "execution_count": 24,
      "outputs": []
    },
    {
      "cell_type": "code",
      "metadata": {
        "id": "YUsanCBi3-pw"
      },
      "source": [
        ""
      ],
      "execution_count": 24,
      "outputs": []
    }
  ]
}