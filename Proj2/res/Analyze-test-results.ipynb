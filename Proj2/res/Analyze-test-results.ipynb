{
 "cells": [
  {
   "cell_type": "code",
   "execution_count": 1,
   "id": "shared-princeton",
   "metadata": {},
   "outputs": [],
   "source": [
    "import json\n",
    "import pandas as pd\n",
    "import matplotlib.pyplot as plt\n",
    "import numpy as np\n",
    "import torch"
   ]
  },
  {
   "cell_type": "code",
   "execution_count": 2,
   "id": "absolute-warren",
   "metadata": {},
   "outputs": [],
   "source": [
    "with open('test_results.json') as f:\n",
    "    res = json.load(f)"
   ]
  },
  {
   "cell_type": "code",
   "execution_count": 3,
   "id": "stuffed-collar",
   "metadata": {},
   "outputs": [],
   "source": [
    "# Compute mean and standard deviation of test accuracy\n",
    "for r in res:\n",
    "    testacc = torch.tensor(r['acc_test'])\n",
    "    r['acc_test_mean'] = testacc.mean().item()\n",
    "    r['acc_test_std'] = testacc.std().item()"
   ]
  },
  {
   "cell_type": "code",
   "execution_count": 4,
   "id": "running-anatomy",
   "metadata": {},
   "outputs": [
    {
     "data": {
      "text/plain": [
       "{'relu', 'relu clipped', 'sigmoid', 'sigmoid clipped', 'tanh', 'tanh clipped'}"
      ]
     },
     "execution_count": 4,
     "metadata": {},
     "output_type": "execute_result"
    }
   ],
   "source": [
    "models = set(e['model'] for e in res)\n",
    "models"
   ]
  },
  {
   "cell_type": "code",
   "execution_count": 5,
   "id": "higher-benjamin",
   "metadata": {},
   "outputs": [
    {
     "name": "stdout",
     "output_type": "stream",
     "text": [
      "Model sigmoid\n",
      "training, mean ± std: 0.98 ± 0.00581\n",
      "testing,  mean ± std: 0.97 ± 0.0145\n",
      "Model tanh clipped\n",
      "training, mean ± std: 0.985 ± 0.0056\n",
      "testing,  mean ± std: 0.97 ± 0.00846\n",
      "Model relu\n",
      "training, mean ± std: 0.976 ± 0.0135\n",
      "testing,  mean ± std: 0.965 ± 0.0249\n",
      "Model tanh\n",
      "training, mean ± std: 0.983 ± 0.00419\n",
      "testing,  mean ± std: 0.969 ± 0.00811\n",
      "Model sigmoid clipped\n",
      "training, mean ± std: 0.97 ± 0.011\n",
      "testing,  mean ± std: 0.96 ± 0.0124\n",
      "Model relu clipped\n",
      "training, mean ± std: 0.968 ± 0.0125\n",
      "testing,  mean ± std: 0.964 ± 0.0141\n"
     ]
    }
   ],
   "source": [
    "for m in models:\n",
    "    acc_train = torch.tensor([e['acc_train'] for e in res if e['model'] == m])\n",
    "    acc_train_mean = acc_train.mean().item()\n",
    "    acc_train_std = acc_train.std().item()\n",
    "    \n",
    "    acc_test = torch.tensor([e['acc_test'] for e in res if e['model'] == m])\n",
    "    acc_test_mean = acc_test.mean().item()\n",
    "    acc_test_std = acc_test.std().item()\n",
    "    \n",
    "    print(f'Model {m}')\n",
    "    print(f'training, mean ± std: {acc_train_mean:.3} ± {acc_train_std:.3}')\n",
    "    print(f'testing,  mean ± std: {acc_test_mean:.3} ± {acc_test_std:.3}')"
   ]
  }
 ],
 "metadata": {
  "kernelspec": {
   "display_name": "Python [conda env:ml]",
   "language": "python",
   "name": "conda-env-ml-py"
  },
  "language_info": {
   "codemirror_mode": {
    "name": "ipython",
    "version": 3
   },
   "file_extension": ".py",
   "mimetype": "text/x-python",
   "name": "python",
   "nbconvert_exporter": "python",
   "pygments_lexer": "ipython3",
   "version": "3.8.8"
  }
 },
 "nbformat": 4,
 "nbformat_minor": 5
}
